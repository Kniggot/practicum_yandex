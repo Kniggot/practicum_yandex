{
 "cells": [
  {
   "cell_type": "markdown",
   "metadata": {
    "deletable": false,
    "editable": false,
    "id": "E0vqbgi9ay0H"
   },
   "source": [
    "# Яндекс Музыка"
   ]
  },
  {
   "cell_type": "markdown",
   "metadata": {
    "deletable": false,
    "editable": false,
    "id": "VUC88oWjTJw2"
   },
   "source": [
    "Сравнение Москвы и Петербурга окружено мифами. Например:\n",
    " * Москва — мегаполис, подчинённый жёсткому ритму рабочей недели;\n",
    " * Петербург — культурная столица, со своими вкусами.\n",
    "\n",
    "На данных Яндекс Музыки вы сравните поведение пользователей двух столиц.\n",
    "\n",
    "**Цель исследования** — проверьте три гипотезы:\n",
    "1. Активность пользователей зависит от дня недели. Причём в Москве и Петербурге это проявляется по-разному.\n",
    "2. В понедельник утром в Москве преобладают одни жанры, а в Петербурге — другие. Так же и вечером пятницы преобладают разные жанры — в зависимости от города.\n",
    "3. Москва и Петербург предпочитают разные жанры музыки. В Москве чаще слушают поп-музыку, в Петербурге — русский рэп.\n",
    "\n",
    "**Ход исследования**\n",
    "\n",
    "Данные о поведении пользователей вы получите из файла `yandex_music_project.csv`. О качестве данных ничего не известно. Поэтому перед проверкой гипотез понадобится обзор данных.\n",
    "\n",
    "Вы проверите данные на ошибки и оцените их влияние на исследование. Затем, на этапе предобработки вы поищете возможность исправить самые критичные ошибки данных.\n",
    "\n",
    "Таким образом, исследование пройдёт в три этапа:\n",
    " 1. Обзор данных.\n",
    " 2. Предобработка данных.\n",
    " 3. Проверка гипотез.\n",
    "\n"
   ]
  },
  {
   "cell_type": "markdown",
   "metadata": {
    "deletable": false,
    "editable": false,
    "id": "Ml1hmfXC_Zcs"
   },
   "source": [
    "## Обзор данных\n",
    "\n",
    "Составьте первое представление о данных Яндекс Музыки.\n",
    "\n",
    "\n"
   ]
  },
  {
   "cell_type": "markdown",
   "metadata": {
    "deletable": false,
    "editable": false,
    "id": "57eAOGIz_Zcs",
    "tags": [
     "start_task"
    ]
   },
   "source": [
    "**Задание 1**"
   ]
  },
  {
   "cell_type": "code",
   "execution_count": 1,
   "metadata": {
    "deletable": false,
    "id": "AXN7PHPN_Zcs"
   },
   "outputs": [],
   "source": [
    "import pandas as pd"
   ]
  },
  {
   "cell_type": "markdown",
   "metadata": {
    "deletable": false,
    "editable": false,
    "id": "SG23P8tt_Zcs",
    "tags": [
     "start_task"
    ]
   },
   "source": [
    "**Задание 2**"
   ]
  },
  {
   "cell_type": "code",
   "execution_count": 2,
   "metadata": {
    "deletable": false,
    "id": "fFVu7vqh_Zct"
   },
   "outputs": [],
   "source": [
    "df=pd.read_csv('/datasets/yandex_music_project.csv')"
   ]
  },
  {
   "cell_type": "markdown",
   "metadata": {
    "deletable": false,
    "editable": false,
    "id": "rDoOMd3uTqnZ",
    "tags": [
     "start_task"
    ]
   },
   "source": [
    "**Задание 3**"
   ]
  },
  {
   "cell_type": "code",
   "execution_count": 3,
   "metadata": {
    "deletable": false,
    "id": "oWTVX3gW_Zct"
   },
   "outputs": [
    {
     "name": "stdout",
     "output_type": "stream",
     "text": [
      "     userID                        Track            artist   genre  \\\n",
      "0  FFB692EC            Kamigata To Boots  The Mass Missile    rock   \n",
      "1  55204538  Delayed Because of Accident  Andreas Rönnberg    rock   \n",
      "2    20EC38            Funiculì funiculà       Mario Lanza     pop   \n",
      "3  A3DD03C9        Dragons in the Sunset        Fire + Ice    folk   \n",
      "4  E2DC1FAE                  Soul People        Space Echo   dance   \n",
      "5  842029A1                    Преданная         IMPERVTOR  rusrap   \n",
      "6  4CB90AA5                         True      Roman Messer   dance   \n",
      "7  F03E1C1F             Feeling This Way   Polina Griffith   dance   \n",
      "8  8FA1D3BE     И вновь продолжается бой               NaN  ruspop   \n",
      "9  E772D5C0                    Pessimist               NaN   dance   \n",
      "\n",
      "             City        time        Day  \n",
      "0  Saint-Petersburg  20:28:33  Wednesday  \n",
      "1            Moscow  14:07:09     Friday  \n",
      "2  Saint-Petersburg  20:58:07  Wednesday  \n",
      "3  Saint-Petersburg  08:37:09     Monday  \n",
      "4            Moscow  08:34:34     Monday  \n",
      "5  Saint-Petersburg  13:09:41     Friday  \n",
      "6            Moscow  13:00:07  Wednesday  \n",
      "7            Moscow  20:47:49  Wednesday  \n",
      "8            Moscow  09:17:40     Friday  \n",
      "9  Saint-Petersburg  21:20:49  Wednesday  \n"
     ]
    }
   ],
   "source": [
    "print(df.head(10))"
   ]
  },
  {
   "cell_type": "markdown",
   "metadata": {
    "deletable": false,
    "editable": false,
    "id": "EO73Kwic_Zct",
    "tags": [
     "start_task"
    ]
   },
   "source": [
    "**Задание 4**"
   ]
  },
  {
   "cell_type": "code",
   "execution_count": 4,
   "metadata": {
    "deletable": false,
    "id": "DSf2kIb-_Zct"
   },
   "outputs": [
    {
     "name": "stdout",
     "output_type": "stream",
     "text": [
      "<class 'pandas.core.frame.DataFrame'>\n",
      "RangeIndex: 65079 entries, 0 to 65078\n",
      "Data columns (total 7 columns):\n",
      " #   Column    Non-Null Count  Dtype \n",
      "---  ------    --------------  ----- \n",
      " 0     userID  65079 non-null  object\n",
      " 1   Track     63848 non-null  object\n",
      " 2   artist    57876 non-null  object\n",
      " 3   genre     63881 non-null  object\n",
      " 4     City    65079 non-null  object\n",
      " 5   time      65079 non-null  object\n",
      " 6   Day       65079 non-null  object\n",
      "dtypes: object(7)\n",
      "memory usage: 3.5+ MB\n",
      "None\n"
     ]
    }
   ],
   "source": [
    "print(df.info())"
   ]
  },
  {
   "cell_type": "markdown",
   "metadata": {
    "deletable": false,
    "editable": false,
    "id": "TaQ2Iwbr_Zct"
   },
   "source": [
    "Количество значений в столбцах различается. Значит, в данных есть пропущенные значения."
   ]
  },
  {
   "cell_type": "markdown",
   "metadata": {
    "deletable": false,
    "editable": false,
    "id": "4P0UCWzswgEm",
    "tags": [
     "start_task"
    ]
   },
   "source": [
    "**Задание 5**"
   ]
  },
  {
   "cell_type": "code",
   "execution_count": 5,
   "metadata": {
    "id": "c137-ZstwgEm"
   },
   "outputs": [],
   "source": [
    "# Имя написано без разделений на слова"
   ]
  },
  {
   "cell_type": "markdown",
   "metadata": {
    "deletable": false,
    "editable": false,
    "id": "MCB6-dXG_Zct"
   },
   "source": [
    "**Выводы**\n",
    "\n",
    "В каждой строке таблицы — данные о прослушанном треке. Часть колонок описывает саму композицию: название, исполнителя и жанр. Остальные данные рассказывают о пользователе: из какого он города, когда он слушал музыку.\n",
    "\n",
    "Предварительно можно утверждать, что данных достаточно для проверки гипотез. Но встречаются пропуски в данных, а в названиях колонок — расхождения с хорошим стилем.\n",
    "\n",
    "Чтобы двигаться дальше, нужно устранить проблемы в данных."
   ]
  },
  {
   "cell_type": "markdown",
   "metadata": {
    "deletable": false,
    "editable": false,
    "id": "SjYF6Ub9_Zct"
   },
   "source": [
    "## Предобработка данных"
   ]
  },
  {
   "cell_type": "markdown",
   "metadata": {
    "deletable": false,
    "editable": false,
    "id": "dIaKXr29_Zct",
    "tags": [
     "start_task"
    ]
   },
   "source": [
    "### Переименование столбцов\n",
    "\n",
    "**Задание 6**"
   ]
  },
  {
   "cell_type": "code",
   "execution_count": 6,
   "metadata": {
    "deletable": false,
    "id": "oKOTdF_Q_Zct"
   },
   "outputs": [
    {
     "name": "stdout",
     "output_type": "stream",
     "text": [
      "Index(['  userID', 'Track', 'artist', 'genre', '  City  ', 'time', 'Day'], dtype='object')\n"
     ]
    }
   ],
   "source": [
    "print(df.columns)"
   ]
  },
  {
   "cell_type": "markdown",
   "metadata": {
    "deletable": false,
    "editable": false,
    "id": "zj5534cv_Zct",
    "tags": [
     "start_task"
    ]
   },
   "source": [
    "**Задание 7**"
   ]
  },
  {
   "cell_type": "code",
   "execution_count": 7,
   "metadata": {
    "deletable": false,
    "id": "ISlFqs5y_Zct"
   },
   "outputs": [],
   "source": [
    "df=df.rename(columns={'  userID':'user_id','Track':'track','  City  ':'city','Day':'day'})"
   ]
  },
  {
   "cell_type": "markdown",
   "metadata": {
    "deletable": false,
    "editable": false,
    "id": "1dqbh00J_Zct",
    "tags": [
     "start_task"
    ]
   },
   "source": [
    "**Задание 8**"
   ]
  },
  {
   "cell_type": "code",
   "execution_count": 8,
   "metadata": {
    "deletable": false,
    "id": "d4NOAmTW_Zct"
   },
   "outputs": [
    {
     "name": "stdout",
     "output_type": "stream",
     "text": [
      "Index(['user_id', 'track', 'artist', 'genre', 'city', 'time', 'day'], dtype='object')\n"
     ]
    }
   ],
   "source": [
    "print(df.columns)"
   ]
  },
  {
   "cell_type": "markdown",
   "metadata": {
    "deletable": false,
    "editable": false,
    "id": "5ISfbcfY_Zct",
    "tags": [
     "start_task"
    ]
   },
   "source": [
    "### Обработка пропущенных значений\n",
    "\n",
    "**Задание 9**"
   ]
  },
  {
   "cell_type": "code",
   "execution_count": 9,
   "metadata": {
    "deletable": false,
    "id": "RskX29qr_Zct"
   },
   "outputs": [
    {
     "data": {
      "text/plain": [
       "user_id       0\n",
       "track      1231\n",
       "artist     7203\n",
       "genre      1198\n",
       "city          0\n",
       "time          0\n",
       "day           0\n",
       "dtype: int64"
      ]
     },
     "execution_count": 9,
     "metadata": {},
     "output_type": "execute_result"
    }
   ],
   "source": [
    "df.isna().sum()"
   ]
  },
  {
   "cell_type": "markdown",
   "metadata": {
    "deletable": false,
    "editable": false,
    "id": "fSv2laPA_Zct",
    "tags": [
     "start_task"
    ]
   },
   "source": [
    "**Задание 10**"
   ]
  },
  {
   "cell_type": "code",
   "execution_count": 10,
   "metadata": {
    "deletable": false,
    "id": "KplB5qWs_Zct"
   },
   "outputs": [],
   "source": [
    "columns_to_replace=['track','artist','genre']\n",
    "for column in columns_to_replace:\n",
    "    df[column]=df[column].fillna('unknown')"
   ]
  },
  {
   "cell_type": "markdown",
   "metadata": {
    "deletable": false,
    "editable": false,
    "id": "Ilsm-MZo_Zct",
    "tags": [
     "start_task"
    ]
   },
   "source": [
    "**Задание 11**"
   ]
  },
  {
   "cell_type": "code",
   "execution_count": 11,
   "metadata": {
    "deletable": false,
    "id": "Tq4nYRX4_Zct"
   },
   "outputs": [
    {
     "data": {
      "text/plain": [
       "user_id    0\n",
       "track      0\n",
       "artist     0\n",
       "genre      0\n",
       "city       0\n",
       "time       0\n",
       "day        0\n",
       "dtype: int64"
      ]
     },
     "execution_count": 11,
     "metadata": {},
     "output_type": "execute_result"
    }
   ],
   "source": [
    "df.isna().sum()"
   ]
  },
  {
   "cell_type": "markdown",
   "metadata": {
    "deletable": false,
    "editable": false,
    "id": "BWKRtBJ3_Zct",
    "tags": [
     "start_task"
    ]
   },
   "source": [
    "### Обработка дубликатов\n",
    "\n",
    "**Задание 12**"
   ]
  },
  {
   "cell_type": "code",
   "execution_count": 12,
   "metadata": {
    "deletable": false,
    "id": "36eES_S0_Zct"
   },
   "outputs": [
    {
     "data": {
      "text/plain": [
       "3826"
      ]
     },
     "execution_count": 12,
     "metadata": {},
     "output_type": "execute_result"
    }
   ],
   "source": [
    "df.duplicated().sum()"
   ]
  },
  {
   "cell_type": "markdown",
   "metadata": {
    "deletable": false,
    "editable": false,
    "id": "Ot25h6XR_Zct",
    "tags": [
     "start_task"
    ]
   },
   "source": [
    "**Задание 13**"
   ]
  },
  {
   "cell_type": "code",
   "execution_count": 13,
   "metadata": {
    "deletable": false,
    "id": "exFHq6tt_Zct"
   },
   "outputs": [],
   "source": [
    "df=df.drop_duplicates().reset_index(drop=True)\n",
    "# удаление явных дубликатов, создание новых индексов и удаление старых"
   ]
  },
  {
   "cell_type": "markdown",
   "metadata": {
    "deletable": false,
    "editable": false,
    "id": "Im2YwBEG_Zct",
    "tags": [
     "start_task"
    ]
   },
   "source": [
    "**Задание 14**"
   ]
  },
  {
   "cell_type": "code",
   "execution_count": 14,
   "metadata": {
    "deletable": false,
    "id": "-8PuNWQ0_Zct"
   },
   "outputs": [
    {
     "data": {
      "text/plain": [
       "0"
      ]
     },
     "execution_count": 14,
     "metadata": {},
     "output_type": "execute_result"
    }
   ],
   "source": [
    "df.duplicated().sum()"
   ]
  },
  {
   "cell_type": "markdown",
   "metadata": {
    "deletable": false,
    "editable": false,
    "id": "eSjWwsOh_Zct",
    "tags": [
     "start_task"
    ]
   },
   "source": [
    "**Задание 15**"
   ]
  },
  {
   "cell_type": "code",
   "execution_count": 15,
   "metadata": {
    "deletable": false,
    "id": "JIUcqzZN_Zct"
   },
   "outputs": [
    {
     "name": "stdout",
     "output_type": "stream",
     "text": [
      "['acid' 'acoustic' 'action' 'adult' 'africa' 'afrikaans' 'alternative'\n",
      " 'alternativepunk' 'ambient' 'americana' 'animated' 'anime' 'arabesk'\n",
      " 'arabic' 'arena' 'argentinetango' 'art' 'audiobook' 'author' 'avantgarde'\n",
      " 'axé' 'baile' 'balkan' 'beats' 'bigroom' 'black' 'bluegrass' 'blues'\n",
      " 'bollywood' 'bossa' 'brazilian' 'breakbeat' 'breaks' 'broadway'\n",
      " 'cantautori' 'cantopop' 'canzone' 'caribbean' 'caucasian' 'celtic'\n",
      " 'chamber' 'chanson' 'children' 'chill' 'chinese' 'choral' 'christian'\n",
      " 'christmas' 'classical' 'classicmetal' 'club' 'colombian' 'comedy'\n",
      " 'conjazz' 'contemporary' 'country' 'cuban' 'dance' 'dancehall' 'dancepop'\n",
      " 'dark' 'death' 'deep' 'deutschrock' 'deutschspr' 'dirty' 'disco' 'dnb'\n",
      " 'documentary' 'downbeat' 'downtempo' 'drum' 'dub' 'dubstep' 'eastern'\n",
      " 'easy' 'electronic' 'electropop' 'emo' 'entehno' 'epicmetal' 'estrada'\n",
      " 'ethnic' 'eurofolk' 'european' 'experimental' 'extrememetal' 'fado'\n",
      " 'fairytail' 'film' 'fitness' 'flamenco' 'folk' 'folklore' 'folkmetal'\n",
      " 'folkrock' 'folktronica' 'forró' 'frankreich' 'französisch' 'french'\n",
      " 'funk' 'future' 'gangsta' 'garage' 'german' 'ghazal' 'gitarre' 'glitch'\n",
      " 'gospel' 'gothic' 'grime' 'grunge' 'gypsy' 'handsup' \"hard'n'heavy\"\n",
      " 'hardcore' 'hardstyle' 'hardtechno' 'hip' 'hip-hop' 'hiphop' 'historisch'\n",
      " 'holiday' 'hop' 'horror' 'house' 'hymn' 'idm' 'independent' 'indian'\n",
      " 'indie' 'indipop' 'industrial' 'inspirational' 'instrumental'\n",
      " 'international' 'irish' 'jam' 'japanese' 'jazz' 'jewish' 'jpop' 'jungle'\n",
      " 'k-pop' 'karadeniz' 'karaoke' 'kayokyoku' 'korean' 'laiko' 'latin'\n",
      " 'latino' 'leftfield' 'local' 'lounge' 'loungeelectronic' 'lovers'\n",
      " 'malaysian' 'mandopop' 'marschmusik' 'meditative' 'mediterranean'\n",
      " 'melodic' 'metal' 'metalcore' 'mexican' 'middle' 'minimal'\n",
      " 'miscellaneous' 'modern' 'mood' 'mpb' 'muslim' 'native' 'neoklassik'\n",
      " 'neue' 'new' 'newage' 'newwave' 'nu' 'nujazz' 'numetal' 'oceania' 'old'\n",
      " 'opera' 'orchestral' 'other' 'piano' 'podcasts' 'pop' 'popdance'\n",
      " 'popelectronic' 'popeurodance' 'poprussian' 'post' 'posthardcore'\n",
      " 'postrock' 'power' 'progmetal' 'progressive' 'psychedelic' 'punjabi'\n",
      " 'punk' 'quebecois' 'ragga' 'ram' 'rancheras' 'rap' 'rave' 'reggae'\n",
      " 'reggaeton' 'regional' 'relax' 'religious' 'retro' 'rhythm' 'rnb' 'rnr'\n",
      " 'rock' 'rockabilly' 'rockalternative' 'rockindie' 'rockother' 'romance'\n",
      " 'roots' 'ruspop' 'rusrap' 'rusrock' 'russian' 'salsa' 'samba' 'scenic'\n",
      " 'schlager' 'self' 'sertanejo' 'shanson' 'shoegazing' 'showtunes' 'singer'\n",
      " 'ska' 'skarock' 'slow' 'smooth' 'soft' 'soul' 'soulful' 'sound'\n",
      " 'soundtrack' 'southern' 'specialty' 'speech' 'spiritual' 'sport'\n",
      " 'stonerrock' 'surf' 'swing' 'synthpop' 'synthrock' 'sängerportrait'\n",
      " 'tango' 'tanzorchester' 'taraftar' 'tatar' 'tech' 'techno' 'teen'\n",
      " 'thrash' 'top' 'traditional' 'tradjazz' 'trance' 'tribal' 'trip'\n",
      " 'triphop' 'tropical' 'türk' 'türkçe' 'ukrrock' 'unknown' 'urban' 'uzbek'\n",
      " 'variété' 'vi' 'videogame' 'vocal' 'western' 'world' 'worldbeat' 'ïîï'\n",
      " 'электроника']\n"
     ]
    }
   ],
   "source": [
    "genres=df['genre']\n",
    "genres=genres.sort_values().unique()\n",
    "print(genres)"
   ]
  },
  {
   "cell_type": "markdown",
   "metadata": {
    "deletable": false,
    "editable": false,
    "id": "qej-Qmuo_Zct",
    "tags": [
     "start_task"
    ]
   },
   "source": [
    "**Задание 16**"
   ]
  },
  {
   "cell_type": "code",
   "execution_count": 16,
   "metadata": {
    "deletable": false,
    "id": "ErNDkmns_Zct"
   },
   "outputs": [],
   "source": [
    "duplicates=['hip','hop','hip-hop']\n",
    "name = 'hiphop'\n",
    "df['genre']=df['genre'].replace(duplicates,name)"
   ]
  },
  {
   "cell_type": "markdown",
   "metadata": {
    "deletable": false,
    "editable": false,
    "id": "zQKF16_RG15m",
    "tags": [
     "start_task"
    ]
   },
   "source": [
    "**Задание 17**"
   ]
  },
  {
   "cell_type": "code",
   "execution_count": 17,
   "metadata": {
    "deletable": false,
    "id": "wvixALnFG15m"
   },
   "outputs": [
    {
     "name": "stdout",
     "output_type": "stream",
     "text": [
      "['acid' 'acoustic' 'action' 'adult' 'africa' 'afrikaans' 'alternative'\n",
      " 'alternativepunk' 'ambient' 'americana' 'animated' 'anime' 'arabesk'\n",
      " 'arabic' 'arena' 'argentinetango' 'art' 'audiobook' 'author' 'avantgarde'\n",
      " 'axé' 'baile' 'balkan' 'beats' 'bigroom' 'black' 'bluegrass' 'blues'\n",
      " 'bollywood' 'bossa' 'brazilian' 'breakbeat' 'breaks' 'broadway'\n",
      " 'cantautori' 'cantopop' 'canzone' 'caribbean' 'caucasian' 'celtic'\n",
      " 'chamber' 'chanson' 'children' 'chill' 'chinese' 'choral' 'christian'\n",
      " 'christmas' 'classical' 'classicmetal' 'club' 'colombian' 'comedy'\n",
      " 'conjazz' 'contemporary' 'country' 'cuban' 'dance' 'dancehall' 'dancepop'\n",
      " 'dark' 'death' 'deep' 'deutschrock' 'deutschspr' 'dirty' 'disco' 'dnb'\n",
      " 'documentary' 'downbeat' 'downtempo' 'drum' 'dub' 'dubstep' 'eastern'\n",
      " 'easy' 'electronic' 'electropop' 'emo' 'entehno' 'epicmetal' 'estrada'\n",
      " 'ethnic' 'eurofolk' 'european' 'experimental' 'extrememetal' 'fado'\n",
      " 'fairytail' 'film' 'fitness' 'flamenco' 'folk' 'folklore' 'folkmetal'\n",
      " 'folkrock' 'folktronica' 'forró' 'frankreich' 'französisch' 'french'\n",
      " 'funk' 'future' 'gangsta' 'garage' 'german' 'ghazal' 'gitarre' 'glitch'\n",
      " 'gospel' 'gothic' 'grime' 'grunge' 'gypsy' 'handsup' \"hard'n'heavy\"\n",
      " 'hardcore' 'hardstyle' 'hardtechno' 'hiphop' 'historisch' 'holiday'\n",
      " 'horror' 'house' 'hymn' 'idm' 'independent' 'indian' 'indie' 'indipop'\n",
      " 'industrial' 'inspirational' 'instrumental' 'international' 'irish' 'jam'\n",
      " 'japanese' 'jazz' 'jewish' 'jpop' 'jungle' 'k-pop' 'karadeniz' 'karaoke'\n",
      " 'kayokyoku' 'korean' 'laiko' 'latin' 'latino' 'leftfield' 'local'\n",
      " 'lounge' 'loungeelectronic' 'lovers' 'malaysian' 'mandopop' 'marschmusik'\n",
      " 'meditative' 'mediterranean' 'melodic' 'metal' 'metalcore' 'mexican'\n",
      " 'middle' 'minimal' 'miscellaneous' 'modern' 'mood' 'mpb' 'muslim'\n",
      " 'native' 'neoklassik' 'neue' 'new' 'newage' 'newwave' 'nu' 'nujazz'\n",
      " 'numetal' 'oceania' 'old' 'opera' 'orchestral' 'other' 'piano' 'podcasts'\n",
      " 'pop' 'popdance' 'popelectronic' 'popeurodance' 'poprussian' 'post'\n",
      " 'posthardcore' 'postrock' 'power' 'progmetal' 'progressive' 'psychedelic'\n",
      " 'punjabi' 'punk' 'quebecois' 'ragga' 'ram' 'rancheras' 'rap' 'rave'\n",
      " 'reggae' 'reggaeton' 'regional' 'relax' 'religious' 'retro' 'rhythm'\n",
      " 'rnb' 'rnr' 'rock' 'rockabilly' 'rockalternative' 'rockindie' 'rockother'\n",
      " 'romance' 'roots' 'ruspop' 'rusrap' 'rusrock' 'russian' 'salsa' 'samba'\n",
      " 'scenic' 'schlager' 'self' 'sertanejo' 'shanson' 'shoegazing' 'showtunes'\n",
      " 'singer' 'ska' 'skarock' 'slow' 'smooth' 'soft' 'soul' 'soulful' 'sound'\n",
      " 'soundtrack' 'southern' 'specialty' 'speech' 'spiritual' 'sport'\n",
      " 'stonerrock' 'surf' 'swing' 'synthpop' 'synthrock' 'sängerportrait'\n",
      " 'tango' 'tanzorchester' 'taraftar' 'tatar' 'tech' 'techno' 'teen'\n",
      " 'thrash' 'top' 'traditional' 'tradjazz' 'trance' 'tribal' 'trip'\n",
      " 'triphop' 'tropical' 'türk' 'türkçe' 'ukrrock' 'unknown' 'urban' 'uzbek'\n",
      " 'variété' 'vi' 'videogame' 'vocal' 'western' 'world' 'worldbeat' 'ïîï'\n",
      " 'электроника']\n"
     ]
    }
   ],
   "source": [
    "genres=df['genre']\n",
    "genres=genres.sort_values().unique()\n",
    "print(genres)"
   ]
  },
  {
   "cell_type": "markdown",
   "metadata": {
    "deletable": false,
    "editable": false,
    "id": "jz6a9-7HQUDd"
   },
   "source": [
    "**Выводы**\n",
    "\n",
    "Предобработка обнаружила три проблемы в данных:\n",
    "\n",
    "- нарушения в стиле заголовков,\n",
    "- пропущенные значения,\n",
    "- дубликаты — явные и неявные.\n",
    "\n",
    "Вы исправили заголовки, чтобы упростить работу с таблицей. Без дубликатов исследование станет более точным.\n",
    "\n",
    "Пропущенные значения вы заменили на `'unknown'`. Ещё предстоит увидеть, не повредят ли исследованию пропуски в колонке `genre`.\n",
    "\n",
    "Теперь можно перейти к проверке гипотез."
   ]
  },
  {
   "cell_type": "markdown",
   "metadata": {
    "deletable": false,
    "editable": false,
    "id": "WttZHXH0SqKk"
   },
   "source": [
    "## Проверка гипотез"
   ]
  },
  {
   "cell_type": "markdown",
   "metadata": {
    "deletable": false,
    "editable": false,
    "id": "Im936VVi_Zcu"
   },
   "source": [
    "### Сравнение поведения пользователей двух столиц"
   ]
  },
  {
   "cell_type": "markdown",
   "metadata": {
    "deletable": false,
    "editable": false,
    "id": "nwt_MuaL_Zcu"
   },
   "source": [
    "Первая гипотеза утверждает, что пользователи по-разному слушают музыку в Москве и Санкт-Петербурге. Проверим это предположение по данным о трёх днях недели — понедельнике, среде и пятнице. Для этого:\n",
    "\n",
    "* Разделим пользователей Москвы и Санкт-Петербурга.\n",
    "* Сравним, сколько треков послушала каждая группа пользователей в понедельник, среду и пятницу.\n"
   ]
  },
  {
   "cell_type": "markdown",
   "metadata": {
    "deletable": false,
    "id": "8Dw_YMmT_Zcu",
    "tags": [
     "start_task"
    ]
   },
   "source": [
    "**Задание 18**\n",
    "\n"
   ]
  },
  {
   "cell_type": "code",
   "execution_count": 18,
   "metadata": {
    "deletable": false,
    "id": "0_Qs96oh_Zcu"
   },
   "outputs": [
    {
     "name": "stdout",
     "output_type": "stream",
     "text": [
      "city\n",
      "Moscow              42741\n",
      "Saint-Petersburg    18512\n",
      "Name: day, dtype: int64\n"
     ]
    }
   ],
   "source": [
    "grouped=df.groupby('city')['day'].count()\n",
    "print(grouped)\n",
    "# подсчёт прослушиваний в каждом городе"
   ]
  },
  {
   "cell_type": "markdown",
   "metadata": {
    "id": "dzli3w8o_Zcu",
    "tags": [
     "start_task"
    ]
   },
   "source": [
    "**Задание 19**\n"
   ]
  },
  {
   "cell_type": "code",
   "execution_count": 19,
   "metadata": {
    "deletable": false,
    "id": "uZMKjiJz_Zcu"
   },
   "outputs": [
    {
     "name": "stdout",
     "output_type": "stream",
     "text": [
      "day\n",
      "Friday       21840\n",
      "Monday       21354\n",
      "Wednesday    18059\n",
      "Name: city, dtype: int64\n"
     ]
    }
   ],
   "source": [
    "grouped=df.groupby('day')['city'].count()\n",
    "print(grouped)"
   ]
  },
  {
   "cell_type": "markdown",
   "metadata": {
    "deletable": false,
    "editable": false,
    "id": "POzs8bGa_Zcu",
    "tags": [
     "start_task"
    ]
   },
   "source": [
    "**Задание 20**"
   ]
  },
  {
   "cell_type": "code",
   "execution_count": 20,
   "metadata": {
    "deletable": false,
    "id": "Nz3GdQB1_Zcu"
   },
   "outputs": [],
   "source": [
    "def number_tracks(day, city):\n",
    "    track_list =df[df['day']==day] # выберите только строки df со значением переменной day в столбце day\n",
    "    track_list =track_list[track_list['city']==city] # выберите только строки track_list со значением переменной city в столбце city\n",
    "    track_list_count =track_list['user_id'].count() # вызовите метод подсчета строк для track_list и выберите столбец user_id\n",
    "    return track_list_count"
   ]
  },
  {
   "cell_type": "markdown",
   "metadata": {
    "deletable": false,
    "editable": false,
    "id": "ytf7xFrFJQ2r",
    "tags": [
     "start_task"
    ]
   },
   "source": [
    "**Задание 21**"
   ]
  },
  {
   "cell_type": "code",
   "execution_count": 21,
   "metadata": {
    "deletable": false,
    "id": "rJcRATNQ_Zcu"
   },
   "outputs": [
    {
     "data": {
      "text/plain": [
       "15740"
      ]
     },
     "execution_count": 21,
     "metadata": {},
     "output_type": "execute_result"
    }
   ],
   "source": [
    "number_tracks('Monday', 'Moscow')# количество прослушиваний в Москве по понедельникам"
   ]
  },
  {
   "cell_type": "code",
   "execution_count": 22,
   "metadata": {
    "deletable": false,
    "id": "hq_ncZ5T_Zcu"
   },
   "outputs": [
    {
     "data": {
      "text/plain": [
       "5614"
      ]
     },
     "execution_count": 22,
     "metadata": {},
     "output_type": "execute_result"
    }
   ],
   "source": [
    "number_tracks('Monday', 'Saint-Petersburg')# количество прослушиваний в Санкт-Петербурге по понедельникам"
   ]
  },
  {
   "cell_type": "code",
   "execution_count": 23,
   "metadata": {
    "deletable": false,
    "id": "_NTy2VPU_Zcu"
   },
   "outputs": [
    {
     "data": {
      "text/plain": [
       "11056"
      ]
     },
     "execution_count": 23,
     "metadata": {},
     "output_type": "execute_result"
    }
   ],
   "source": [
    "number_tracks('Wednesday', 'Moscow')# количество прослушиваний в Москве по средам"
   ]
  },
  {
   "cell_type": "code",
   "execution_count": 24,
   "metadata": {
    "deletable": false,
    "id": "j2y3TAwo_Zcu"
   },
   "outputs": [
    {
     "data": {
      "text/plain": [
       "7003"
      ]
     },
     "execution_count": 24,
     "metadata": {},
     "output_type": "execute_result"
    }
   ],
   "source": [
    "number_tracks('Wednesday', 'Saint-Petersburg')# количество прослушиваний в Санкт-Петербурге по средам"
   ]
  },
  {
   "cell_type": "code",
   "execution_count": 25,
   "metadata": {
    "deletable": false,
    "id": "vYDw5u_K_Zcu"
   },
   "outputs": [
    {
     "data": {
      "text/plain": [
       "15945"
      ]
     },
     "execution_count": 25,
     "metadata": {},
     "output_type": "execute_result"
    }
   ],
   "source": [
    "number_tracks('Friday', 'Moscow')# количество прослушиваний в Москве по пятницам"
   ]
  },
  {
   "cell_type": "code",
   "execution_count": 26,
   "metadata": {
    "deletable": false,
    "id": "8_yzFtW3_Zcu"
   },
   "outputs": [
    {
     "data": {
      "text/plain": [
       "5895"
      ]
     },
     "execution_count": 26,
     "metadata": {},
     "output_type": "execute_result"
    }
   ],
   "source": [
    "number_tracks('Friday', 'Saint-Petersburg')# количество прослушиваний в Санкт-Петербурге по пятницам"
   ]
  },
  {
   "cell_type": "markdown",
   "metadata": {
    "deletable": false,
    "editable": false,
    "id": "7QXffbO-_Zcu",
    "tags": [
     "start_task"
    ]
   },
   "source": [
    "**Задание 22**"
   ]
  },
  {
   "cell_type": "code",
   "execution_count": 27,
   "metadata": {
    "deletable": false,
    "id": "APAcLpOr_Zcu"
   },
   "outputs": [
    {
     "name": "stdout",
     "output_type": "stream",
     "text": [
      "               city  monday  wednesday  friday\n",
      "0            Moscow   15740      11056   15945\n",
      "1  Saint-Petersburg    5614       7003    5895\n"
     ]
    }
   ],
   "source": [
    "info=pd.DataFrame(data=[['Moscow',number_tracks('Monday', 'Moscow'),number_tracks('Wednesday', 'Moscow'),number_tracks('Friday', 'Moscow')],['Saint-Petersburg',number_tracks('Monday', 'Saint-Petersburg'),number_tracks('Wednesday', 'Saint-Petersburg'),number_tracks('Friday', 'Saint-Petersburg')]],columns=['city', 'monday', 'wednesday', 'friday'])# создание таблицы с результатами\n",
    "print(info)# вывод таблицы на экран"
   ]
  },
  {
   "cell_type": "markdown",
   "metadata": {
    "deletable": false,
    "editable": false,
    "id": "-EgPIHYu_Zcu"
   },
   "source": [
    "**Выводы**\n",
    "\n",
    "Данные показывают разницу поведения пользователей:\n",
    "\n",
    "- В Москве пик прослушиваний приходится на понедельник и пятницу, а в среду заметен спад.\n",
    "- В Петербурге, наоборот, больше слушают музыку по средам. Активность в понедельник и пятницу здесь почти в равной мере уступает среде.\n",
    "\n",
    "Значит, данные говорят в пользу первой гипотезы."
   ]
  },
  {
   "cell_type": "markdown",
   "metadata": {
    "deletable": false,
    "editable": false,
    "id": "atZAxtq4_Zcu"
   },
   "source": [
    "### Музыка в начале и в конце недели"
   ]
  },
  {
   "cell_type": "markdown",
   "metadata": {
    "deletable": false,
    "editable": false,
    "id": "eXrQqXFH_Zcu"
   },
   "source": [
    "Согласно второй гипотезе, утром в понедельник в Москве преобладают одни жанры, а в Петербурге — другие. Так же и вечером пятницы преобладают разные жанры — в зависимости от города."
   ]
  },
  {
   "cell_type": "markdown",
   "metadata": {
    "deletable": false,
    "editable": false,
    "id": "S8UcW6Hw_Zcu",
    "tags": [
     "start_task"
    ]
   },
   "source": [
    "**Задание 23**"
   ]
  },
  {
   "cell_type": "code",
   "execution_count": 28,
   "metadata": {
    "deletable": false,
    "id": "qeaFfM_P_Zcu"
   },
   "outputs": [],
   "source": [
    "moscow_general= df[df['city']=='Moscow'] # получение таблицы moscow_general из тех строк таблицы df, для которых значение в столбце 'city' равно 'Moscow'\n"
   ]
  },
  {
   "cell_type": "code",
   "execution_count": 29,
   "metadata": {
    "deletable": false,
    "id": "ORaVRKto_Zcu"
   },
   "outputs": [],
   "source": [
    "spb_general=df[df['city']=='Saint-Petersburg']# получение таблицы spb_general из тех строк таблицы df, для которых значение в столбце 'city' равно 'Saint-Petersburg'\n"
   ]
  },
  {
   "cell_type": "markdown",
   "metadata": {
    "deletable": false,
    "editable": false,
    "id": "MEJV-CX2_Zcu",
    "tags": [
     "start_task"
    ]
   },
   "source": [
    "**Задание 24**"
   ]
  },
  {
   "cell_type": "code",
   "execution_count": 30,
   "metadata": {
    "deletable": false,
    "id": "laJT9BYl_Zcu"
   },
   "outputs": [],
   "source": [
    "def genre_weekday(df, day, time1, time2):\n",
    "    # последовательная фильтрация\n",
    "    # оставляем в genre_df только те строки df, у которых день равен day\n",
    "    genre_df = df[df['day']==day]# ваш код здесь\n",
    "    # оставляем в genre_df только те строки genre_df, у которых время меньше time2\n",
    "    genre_df =genre_df[genre_df['time']<time2] # ваш код здесь\n",
    "    # оставляем в genre_df только те строки genre_df, у которых время больше time1\n",
    "    genre_df =genre_df[genre_df['time']>time1] # ваш код здесь\n",
    "    # сгруппируем отфильтрованный датафрейм по столбцу с названиями жанров, возьмём столбец genre и посчитаем кол-во строк для каждого жанра методом count()\n",
    "    genre_df_grouped =genre_df.groupby('genre')['city'].count() # ваш код здесь\n",
    "    # отсортируем результат по убыванию (чтобы в начале Series оказались самые популярные жанры)\n",
    "    genre_df_sorted =genre_df_grouped.sort_values(ascending=False) # ваш код здесь\n",
    "    # вернём Series с 10 самыми популярными жанрами в указанный отрезок времени заданного дня\n",
    "    return genre_df_sorted[:10]"
   ]
  },
  {
   "cell_type": "markdown",
   "metadata": {
    "deletable": false,
    "editable": false,
    "id": "la2s2_PF_Zcu",
    "tags": [
     "start_task"
    ]
   },
   "source": [
    "**Задание 25**"
   ]
  },
  {
   "cell_type": "code",
   "execution_count": 31,
   "metadata": {
    "deletable": false,
    "id": "yz7itPUQ_Zcu"
   },
   "outputs": [
    {
     "data": {
      "text/plain": [
       "genre\n",
       "pop            781\n",
       "dance          549\n",
       "electronic     480\n",
       "rock           474\n",
       "hiphop         286\n",
       "ruspop         186\n",
       "world          181\n",
       "rusrap         175\n",
       "alternative    164\n",
       "unknown        161\n",
       "Name: city, dtype: int64"
      ]
     },
     "execution_count": 31,
     "metadata": {},
     "output_type": "execute_result"
    }
   ],
   "source": [
    "genre_weekday(moscow_general, 'Monday', '07:00', '11:00')# вызов функции для утра понедельника в Москве (вместо df — таблица moscow_general)"
   ]
  },
  {
   "cell_type": "code",
   "execution_count": 32,
   "metadata": {
    "deletable": false,
    "id": "kwUcHPdy_Zcu"
   },
   "outputs": [
    {
     "data": {
      "text/plain": [
       "genre\n",
       "pop            218\n",
       "dance          182\n",
       "rock           162\n",
       "electronic     147\n",
       "hiphop          80\n",
       "ruspop          64\n",
       "alternative     58\n",
       "rusrap          55\n",
       "jazz            44\n",
       "classical       40\n",
       "Name: city, dtype: int64"
      ]
     },
     "execution_count": 32,
     "metadata": {},
     "output_type": "execute_result"
    }
   ],
   "source": [
    "genre_weekday(spb_general, 'Monday', '07:00', '11:00')# вызов функции для утра понедельника в Петербурге (вместо df — таблица spb_general)"
   ]
  },
  {
   "cell_type": "code",
   "execution_count": 33,
   "metadata": {
    "deletable": false,
    "id": "EzXVRE1o_Zcu"
   },
   "outputs": [
    {
     "data": {
      "text/plain": [
       "genre\n",
       "pop            713\n",
       "rock           517\n",
       "dance          495\n",
       "electronic     482\n",
       "hiphop         273\n",
       "world          208\n",
       "ruspop         170\n",
       "alternative    163\n",
       "classical      163\n",
       "rusrap         142\n",
       "Name: city, dtype: int64"
      ]
     },
     "execution_count": 33,
     "metadata": {},
     "output_type": "execute_result"
    }
   ],
   "source": [
    "genre_weekday(moscow_general, 'Friday', '17:00', '23:00')# вызов функции для вечера пятницы в Москве"
   ]
  },
  {
   "cell_type": "code",
   "execution_count": 34,
   "metadata": {
    "deletable": false,
    "id": "JZaEKu5v_Zcu"
   },
   "outputs": [
    {
     "data": {
      "text/plain": [
       "genre\n",
       "pop            256\n",
       "electronic     216\n",
       "rock           216\n",
       "dance          210\n",
       "hiphop          97\n",
       "alternative     63\n",
       "jazz            61\n",
       "classical       60\n",
       "rusrap          59\n",
       "world           54\n",
       "Name: city, dtype: int64"
      ]
     },
     "execution_count": 34,
     "metadata": {},
     "output_type": "execute_result"
    }
   ],
   "source": [
    "genre_weekday(spb_general, 'Friday', '17:00', '23:00')# вызов функции для вечера пятницы в Петербурге"
   ]
  },
  {
   "cell_type": "markdown",
   "metadata": {
    "deletable": false,
    "editable": false,
    "id": "wrCe4MNX_Zcu"
   },
   "source": [
    "**Выводы**\n",
    "\n",
    "Если сравнить топ-10 жанров в понедельник утром, можно сделать такие выводы:\n",
    "\n",
    "1. В Москве и Петербурге слушают похожую музыку. Единственное различие — в московский рейтинг вошёл жанр “world”, а в петербургский — джаз и классика.\n",
    "\n",
    "2. В Москве пропущенных значений оказалось так много, что значение `'unknown'` заняло десятое место среди самых популярных жанров. Значит, пропущенные значения занимают существенную долю в данных и угрожают достоверности исследования.\n",
    "\n",
    "Вечер пятницы не меняет эту картину. Некоторые жанры поднимаются немного выше, другие спускаются, но в целом топ-10 остаётся тем же самым.\n",
    "\n",
    "Таким образом, вторая гипотеза подтвердилась лишь частично:\n",
    "* Пользователи слушают похожую музыку в начале недели и в конце.\n",
    "* Разница между Москвой и Петербургом не слишком выражена. В Москве чаще слушают русскую популярную музыку, в Петербурге — джаз.\n",
    "\n",
    "Однако пропуски в данных ставят под сомнение этот результат. В Москве их так много, что рейтинг топ-10 мог бы выглядеть иначе, если бы не утерянные  данные о жанрах."
   ]
  },
  {
   "cell_type": "markdown",
   "metadata": {
    "deletable": false,
    "editable": false,
    "id": "JolODAqr_Zcu"
   },
   "source": [
    "### Жанровые предпочтения в Москве и Петербурге\n",
    "\n",
    "Гипотеза: Петербург — столица рэпа, музыку этого жанра там слушают чаще, чем в Москве.  А Москва — город контрастов, в котором, тем не менее, преобладает поп-музыка."
   ]
  },
  {
   "cell_type": "markdown",
   "metadata": {
    "deletable": false,
    "editable": false,
    "id": "DlegSvaT_Zcu",
    "tags": [
     "start_task"
    ]
   },
   "source": [
    "**Задание 26**"
   ]
  },
  {
   "cell_type": "code",
   "execution_count": 35,
   "metadata": {
    "deletable": false,
    "id": "r19lIPke_Zcu"
   },
   "outputs": [],
   "source": [
    "moscow_genres=moscow_general.groupby('genre')['genre'].count()\n",
    "moscow_genres=moscow_genres.sort_values(ascending=False)\n",
    "# одной строкой: группировка таблицы moscow_general по столбцу 'genre', выбор столбца `genre`, подсчёт числа значений 'genre' методом count(), сохранение в moscow_genres\n",
    "# сортировка получившегося Series в порядке убывания и сохранение обратно в moscow_genres"
   ]
  },
  {
   "cell_type": "markdown",
   "metadata": {
    "deletable": false,
    "editable": false,
    "id": "6kMuomxTiIr8",
    "tags": [
     "start_task"
    ]
   },
   "source": [
    "**Задание 27**"
   ]
  },
  {
   "cell_type": "code",
   "execution_count": 36,
   "metadata": {
    "deletable": false,
    "id": "WhCSooF8_Zcv"
   },
   "outputs": [
    {
     "data": {
      "text/plain": [
       "genre\n",
       "pop            5892\n",
       "dance          4435\n",
       "rock           3965\n",
       "electronic     3786\n",
       "hiphop         2096\n",
       "classical      1616\n",
       "world          1432\n",
       "alternative    1379\n",
       "ruspop         1372\n",
       "rusrap         1161\n",
       "Name: genre, dtype: int64"
      ]
     },
     "execution_count": 36,
     "metadata": {},
     "output_type": "execute_result"
    }
   ],
   "source": [
    "moscow_genres[:10]\n",
    "# просмотр первых 10 строк moscow_genres"
   ]
  },
  {
   "cell_type": "markdown",
   "metadata": {
    "deletable": false,
    "editable": false,
    "id": "cnPG2vnN_Zcv",
    "tags": [
     "start_task"
    ]
   },
   "source": [
    "**Задание 28**"
   ]
  },
  {
   "cell_type": "code",
   "execution_count": 37,
   "metadata": {
    "deletable": false,
    "id": "gluLIpE7_Zcv"
   },
   "outputs": [],
   "source": [
    "spb_genres=spb_general.groupby('genre')['genre'].count()\n",
    "spb_genres=spb_genres.sort_values(ascending=False)\n",
    "# одной строкой: группировка таблицы spb_general по столбцу 'genre', выбор столбца `genre`, подсчёт числа значений 'genre' методом count(), сохранение в spb_genres\n",
    "# сортировка получившегося Series в порядке убывания и сохранение обратно в spb_genres"
   ]
  },
  {
   "cell_type": "markdown",
   "metadata": {
    "deletable": false,
    "editable": false,
    "id": "5Doha_ODgyQ8",
    "tags": [
     "start_task"
    ]
   },
   "source": [
    "**Задание 29**"
   ]
  },
  {
   "cell_type": "code",
   "execution_count": 38,
   "metadata": {
    "deletable": false,
    "id": "uaGJHjVU_Zcv"
   },
   "outputs": [],
   "source": [
    "spb_genres[:10]# просмотр первых 10 строк spb_genres"
   ]
  },
  {
   "cell_type": "markdown",
   "metadata": {
    "deletable": false,
    "editable": false,
    "id": "RY51YJYu_Zcv"
   },
   "source": [
    "**Выводы**"
   ]
  },
  {
   "cell_type": "markdown",
   "metadata": {
    "deletable": false,
    "editable": false,
    "id": "nVhnJEm__Zcv"
   },
   "source": [
    "Гипотеза частично подтвердилась:\n",
    "* Поп-музыка — самый популярный жанр в Москве, как и предполагала гипотеза. Более того, в топ-10 жанров встречается близкий жанр — русская популярная музыка.\n",
    "* Вопреки ожиданиям, рэп одинаково популярен в Москве и Петербурге.\n"
   ]
  },
  {
   "cell_type": "markdown",
   "metadata": {
    "deletable": false,
    "editable": false,
    "id": "ykKQ0N65_Zcv"
   },
   "source": [
    "## Итоги исследования"
   ]
  },
  {
   "cell_type": "markdown",
   "metadata": {
    "deletable": false,
    "editable": false,
    "id": "tjUwbHb3_Zcv"
   },
   "source": [
    "Вы проверили три гипотезы и установили:\n",
    "\n",
    "1. День недели по-разному влияет на активность пользователей в Москве и Петербурге.\n",
    "\n",
    "Первая гипотеза полностью подтвердилась.\n",
    "\n",
    "2. Музыкальные предпочтения не сильно меняются в течение недели — будь то Москва или Петербург. Небольшие различия заметны в начале недели, по понедельникам:\n",
    "* в Москве слушают музыку жанра “world”,\n",
    "* в Петербурге — джаз и классику.\n",
    "\n",
    "Таким образом, вторая гипотеза подтвердилась лишь отчасти. Этот результат мог оказаться иным, если бы не пропуски в данных.\n",
    "\n",
    "3. Во вкусах пользователей Москвы и Петербурга больше общего, чем различий. Вопреки ожиданиям, предпочтения жанров в Петербурге напоминают московские.\n",
    "\n",
    "Третья гипотеза не подтвердилась. Если различия в предпочтениях и существуют, на основной массе пользователей они незаметны.\n",
    "\n",
    "**На практике исследования содержат проверки статистических гипотез.**\n",
    "Из части данных одного сервиса невозможно сделать какие-то выводы о всех пользователях сервиса без методов статистики.\n",
    "Проверки статистических гипотез покажут, насколько они достоверны, исходя из имеющихся данных.\n",
    "С методами проверок гипотез вы ещё познакомитесь в следующих темах."
   ]
  }
 ],
 "metadata": {
  "ExecuteTimeLog": [
   {
    "duration": 401,
    "start_time": "2024-03-10T09:34:37.438Z"
   },
   {
    "duration": 8,
    "start_time": "2024-03-10T09:34:43.674Z"
   },
   {
    "duration": 407,
    "start_time": "2024-03-10T09:34:57.274Z"
   },
   {
    "duration": 101,
    "start_time": "2024-03-10T09:35:57.993Z"
   },
   {
    "duration": 57,
    "start_time": "2024-03-10T09:40:08.132Z"
   },
   {
    "duration": 47,
    "start_time": "2024-03-10T09:40:42.107Z"
   },
   {
    "duration": 6,
    "start_time": "2024-03-10T09:41:13.505Z"
   },
   {
    "duration": 401,
    "start_time": "2024-03-10T09:41:17.241Z"
   },
   {
    "duration": 3,
    "start_time": "2024-03-10T09:41:19.384Z"
   },
   {
    "duration": 457,
    "start_time": "2024-03-10T09:42:09.133Z"
   },
   {
    "duration": 185,
    "start_time": "2024-03-10T09:42:09.592Z"
   },
   {
    "duration": 9,
    "start_time": "2024-03-10T09:42:09.780Z"
   },
   {
    "duration": 14,
    "start_time": "2024-03-10T09:42:09.791Z"
   },
   {
    "duration": 26,
    "start_time": "2024-03-10T09:42:09.808Z"
   },
   {
    "duration": 6,
    "start_time": "2024-03-10T09:42:09.836Z"
   },
   {
    "duration": 9,
    "start_time": "2024-03-10T09:42:09.844Z"
   },
   {
    "duration": 13,
    "start_time": "2024-03-10T09:42:09.854Z"
   },
   {
    "duration": 11,
    "start_time": "2024-03-10T09:42:09.868Z"
   },
   {
    "duration": 4,
    "start_time": "2024-03-10T09:42:09.881Z"
   },
   {
    "duration": 12,
    "start_time": "2024-03-10T09:42:09.886Z"
   },
   {
    "duration": 12,
    "start_time": "2024-03-10T09:42:09.899Z"
   },
   {
    "duration": 3,
    "start_time": "2024-03-10T09:42:09.913Z"
   },
   {
    "duration": 3,
    "start_time": "2024-03-10T09:42:09.918Z"
   },
   {
    "duration": 10,
    "start_time": "2024-03-10T09:42:09.922Z"
   },
   {
    "duration": 7,
    "start_time": "2024-03-10T09:42:09.933Z"
   },
   {
    "duration": 10,
    "start_time": "2024-03-10T09:42:09.941Z"
   },
   {
    "duration": 8,
    "start_time": "2024-03-10T09:42:09.953Z"
   },
   {
    "duration": 4,
    "start_time": "2024-03-10T09:42:09.962Z"
   },
   {
    "duration": 77,
    "start_time": "2024-03-10T09:42:09.967Z"
   },
   {
    "duration": 0,
    "start_time": "2024-03-10T09:42:10.045Z"
   },
   {
    "duration": 0,
    "start_time": "2024-03-10T09:42:10.047Z"
   },
   {
    "duration": 0,
    "start_time": "2024-03-10T09:42:10.048Z"
   },
   {
    "duration": 0,
    "start_time": "2024-03-10T09:42:10.049Z"
   },
   {
    "duration": 0,
    "start_time": "2024-03-10T09:42:10.051Z"
   },
   {
    "duration": 0,
    "start_time": "2024-03-10T09:42:10.052Z"
   },
   {
    "duration": 0,
    "start_time": "2024-03-10T09:42:10.054Z"
   },
   {
    "duration": 0,
    "start_time": "2024-03-10T09:42:10.055Z"
   },
   {
    "duration": 0,
    "start_time": "2024-03-10T09:42:10.056Z"
   },
   {
    "duration": 0,
    "start_time": "2024-03-10T09:42:10.058Z"
   },
   {
    "duration": 0,
    "start_time": "2024-03-10T09:42:10.058Z"
   },
   {
    "duration": 0,
    "start_time": "2024-03-10T09:42:10.059Z"
   },
   {
    "duration": 0,
    "start_time": "2024-03-10T09:42:10.061Z"
   },
   {
    "duration": 0,
    "start_time": "2024-03-10T09:42:10.062Z"
   },
   {
    "duration": 0,
    "start_time": "2024-03-10T09:42:10.063Z"
   },
   {
    "duration": 0,
    "start_time": "2024-03-10T09:42:10.064Z"
   },
   {
    "duration": 0,
    "start_time": "2024-03-10T09:42:10.065Z"
   },
   {
    "duration": 0,
    "start_time": "2024-03-10T09:42:10.067Z"
   },
   {
    "duration": 90,
    "start_time": "2024-03-10T09:43:25.611Z"
   },
   {
    "duration": 3,
    "start_time": "2024-03-10T09:43:32.275Z"
   },
   {
    "duration": 7,
    "start_time": "2024-03-10T09:43:48.333Z"
   },
   {
    "duration": 404,
    "start_time": "2024-03-10T09:52:26.765Z"
   },
   {
    "duration": 177,
    "start_time": "2024-03-10T09:52:27.171Z"
   },
   {
    "duration": 8,
    "start_time": "2024-03-10T09:52:27.350Z"
   },
   {
    "duration": 41,
    "start_time": "2024-03-10T09:52:27.365Z"
   },
   {
    "duration": 5,
    "start_time": "2024-03-10T09:52:27.408Z"
   },
   {
    "duration": 16,
    "start_time": "2024-03-10T09:52:27.414Z"
   },
   {
    "duration": 11,
    "start_time": "2024-03-10T09:52:27.431Z"
   },
   {
    "duration": 22,
    "start_time": "2024-03-10T09:52:27.444Z"
   },
   {
    "duration": 11,
    "start_time": "2024-03-10T09:52:27.467Z"
   },
   {
    "duration": 11,
    "start_time": "2024-03-10T09:52:27.481Z"
   },
   {
    "duration": 18,
    "start_time": "2024-03-10T09:52:27.493Z"
   },
   {
    "duration": 11,
    "start_time": "2024-03-10T09:52:27.513Z"
   },
   {
    "duration": 15,
    "start_time": "2024-03-10T09:52:27.525Z"
   },
   {
    "duration": 29,
    "start_time": "2024-03-10T09:52:27.542Z"
   },
   {
    "duration": 15,
    "start_time": "2024-03-10T09:52:27.573Z"
   },
   {
    "duration": 23,
    "start_time": "2024-03-10T09:52:27.589Z"
   },
   {
    "duration": 20,
    "start_time": "2024-03-10T09:52:27.613Z"
   },
   {
    "duration": 16,
    "start_time": "2024-03-10T09:52:27.634Z"
   },
   {
    "duration": 26,
    "start_time": "2024-03-10T09:52:27.651Z"
   },
   {
    "duration": 69,
    "start_time": "2024-03-10T09:52:27.678Z"
   },
   {
    "duration": 0,
    "start_time": "2024-03-10T09:52:27.749Z"
   },
   {
    "duration": 0,
    "start_time": "2024-03-10T09:52:27.754Z"
   },
   {
    "duration": 0,
    "start_time": "2024-03-10T09:52:27.755Z"
   },
   {
    "duration": 0,
    "start_time": "2024-03-10T09:52:27.756Z"
   },
   {
    "duration": 0,
    "start_time": "2024-03-10T09:52:27.757Z"
   },
   {
    "duration": 0,
    "start_time": "2024-03-10T09:52:27.758Z"
   },
   {
    "duration": 0,
    "start_time": "2024-03-10T09:52:27.759Z"
   },
   {
    "duration": 0,
    "start_time": "2024-03-10T09:52:27.760Z"
   },
   {
    "duration": 0,
    "start_time": "2024-03-10T09:52:27.766Z"
   },
   {
    "duration": 0,
    "start_time": "2024-03-10T09:52:27.767Z"
   },
   {
    "duration": 0,
    "start_time": "2024-03-10T09:52:27.769Z"
   },
   {
    "duration": 0,
    "start_time": "2024-03-10T09:52:27.771Z"
   },
   {
    "duration": 0,
    "start_time": "2024-03-10T09:52:27.772Z"
   },
   {
    "duration": 0,
    "start_time": "2024-03-10T09:52:27.774Z"
   },
   {
    "duration": 0,
    "start_time": "2024-03-10T09:52:27.775Z"
   },
   {
    "duration": 0,
    "start_time": "2024-03-10T09:52:27.776Z"
   },
   {
    "duration": 0,
    "start_time": "2024-03-10T09:52:27.777Z"
   },
   {
    "duration": 0,
    "start_time": "2024-03-10T09:52:27.779Z"
   },
   {
    "duration": 85,
    "start_time": "2024-03-10T10:01:00.035Z"
   },
   {
    "duration": 407,
    "start_time": "2024-03-10T10:01:18.760Z"
   },
   {
    "duration": 170,
    "start_time": "2024-03-10T10:01:19.169Z"
   },
   {
    "duration": 8,
    "start_time": "2024-03-10T10:01:19.340Z"
   },
   {
    "duration": 37,
    "start_time": "2024-03-10T10:01:19.350Z"
   },
   {
    "duration": 3,
    "start_time": "2024-03-10T10:01:19.388Z"
   },
   {
    "duration": 5,
    "start_time": "2024-03-10T10:01:19.392Z"
   },
   {
    "duration": 19,
    "start_time": "2024-03-10T10:01:19.398Z"
   },
   {
    "duration": 7,
    "start_time": "2024-03-10T10:01:19.418Z"
   },
   {
    "duration": 23,
    "start_time": "2024-03-10T10:01:19.426Z"
   },
   {
    "duration": 10,
    "start_time": "2024-03-10T10:01:19.452Z"
   },
   {
    "duration": 17,
    "start_time": "2024-03-10T10:01:19.463Z"
   },
   {
    "duration": 25,
    "start_time": "2024-03-10T10:01:19.481Z"
   },
   {
    "duration": 12,
    "start_time": "2024-03-10T10:01:19.507Z"
   },
   {
    "duration": 20,
    "start_time": "2024-03-10T10:01:19.521Z"
   },
   {
    "duration": 4,
    "start_time": "2024-03-10T10:01:19.542Z"
   },
   {
    "duration": 19,
    "start_time": "2024-03-10T10:01:19.548Z"
   },
   {
    "duration": 6,
    "start_time": "2024-03-10T10:01:19.569Z"
   },
   {
    "duration": 8,
    "start_time": "2024-03-10T10:01:19.577Z"
   },
   {
    "duration": 4,
    "start_time": "2024-03-10T10:01:19.587Z"
   },
   {
    "duration": 74,
    "start_time": "2024-03-10T10:01:19.592Z"
   },
   {
    "duration": 0,
    "start_time": "2024-03-10T10:01:19.668Z"
   },
   {
    "duration": 0,
    "start_time": "2024-03-10T10:01:19.669Z"
   },
   {
    "duration": 0,
    "start_time": "2024-03-10T10:01:19.670Z"
   },
   {
    "duration": 0,
    "start_time": "2024-03-10T10:01:19.671Z"
   },
   {
    "duration": 0,
    "start_time": "2024-03-10T10:01:19.672Z"
   },
   {
    "duration": 0,
    "start_time": "2024-03-10T10:01:19.674Z"
   },
   {
    "duration": 0,
    "start_time": "2024-03-10T10:01:19.675Z"
   },
   {
    "duration": 0,
    "start_time": "2024-03-10T10:01:19.675Z"
   },
   {
    "duration": 0,
    "start_time": "2024-03-10T10:01:19.676Z"
   },
   {
    "duration": 0,
    "start_time": "2024-03-10T10:01:19.678Z"
   },
   {
    "duration": 0,
    "start_time": "2024-03-10T10:01:19.679Z"
   },
   {
    "duration": 0,
    "start_time": "2024-03-10T10:01:19.682Z"
   },
   {
    "duration": 0,
    "start_time": "2024-03-10T10:01:19.683Z"
   },
   {
    "duration": 0,
    "start_time": "2024-03-10T10:01:19.684Z"
   },
   {
    "duration": 0,
    "start_time": "2024-03-10T10:01:19.686Z"
   },
   {
    "duration": 0,
    "start_time": "2024-03-10T10:01:19.687Z"
   },
   {
    "duration": 0,
    "start_time": "2024-03-10T10:01:19.688Z"
   },
   {
    "duration": 0,
    "start_time": "2024-03-10T10:01:19.689Z"
   },
   {
    "duration": 4,
    "start_time": "2024-03-10T10:02:00.651Z"
   },
   {
    "duration": 30,
    "start_time": "2024-03-10T10:03:24.526Z"
   },
   {
    "duration": 3,
    "start_time": "2024-03-10T10:05:13.832Z"
   },
   {
    "duration": 2,
    "start_time": "2024-03-10T10:05:16.836Z"
   },
   {
    "duration": 3,
    "start_time": "2024-03-10T10:05:18.488Z"
   },
   {
    "duration": 2,
    "start_time": "2024-03-10T10:05:30.937Z"
   },
   {
    "duration": 77,
    "start_time": "2024-03-10T10:06:24.040Z"
   },
   {
    "duration": 394,
    "start_time": "2024-03-10T10:08:00.141Z"
   },
   {
    "duration": 176,
    "start_time": "2024-03-10T10:08:00.537Z"
   },
   {
    "duration": 8,
    "start_time": "2024-03-10T10:08:00.714Z"
   },
   {
    "duration": 101,
    "start_time": "2024-03-10T10:08:00.723Z"
   },
   {
    "duration": 51,
    "start_time": "2024-03-10T10:08:00.825Z"
   },
   {
    "duration": 39,
    "start_time": "2024-03-10T10:08:00.878Z"
   },
   {
    "duration": 62,
    "start_time": "2024-03-10T10:08:00.918Z"
   },
   {
    "duration": 36,
    "start_time": "2024-03-10T10:08:00.981Z"
   },
   {
    "duration": 84,
    "start_time": "2024-03-10T10:08:01.018Z"
   },
   {
    "duration": 78,
    "start_time": "2024-03-10T10:08:01.104Z"
   },
   {
    "duration": 0,
    "start_time": "2024-03-10T10:08:01.184Z"
   },
   {
    "duration": 0,
    "start_time": "2024-03-10T10:08:01.186Z"
   },
   {
    "duration": 0,
    "start_time": "2024-03-10T10:08:01.187Z"
   },
   {
    "duration": 0,
    "start_time": "2024-03-10T10:08:01.189Z"
   },
   {
    "duration": 0,
    "start_time": "2024-03-10T10:08:01.189Z"
   },
   {
    "duration": 0,
    "start_time": "2024-03-10T10:08:01.191Z"
   },
   {
    "duration": 0,
    "start_time": "2024-03-10T10:08:01.192Z"
   },
   {
    "duration": 0,
    "start_time": "2024-03-10T10:08:01.193Z"
   },
   {
    "duration": 0,
    "start_time": "2024-03-10T10:08:01.194Z"
   },
   {
    "duration": 1,
    "start_time": "2024-03-10T10:08:01.195Z"
   },
   {
    "duration": 0,
    "start_time": "2024-03-10T10:08:01.197Z"
   },
   {
    "duration": 0,
    "start_time": "2024-03-10T10:08:01.198Z"
   },
   {
    "duration": 0,
    "start_time": "2024-03-10T10:08:01.199Z"
   },
   {
    "duration": 0,
    "start_time": "2024-03-10T10:08:01.200Z"
   },
   {
    "duration": 0,
    "start_time": "2024-03-10T10:08:01.201Z"
   },
   {
    "duration": 0,
    "start_time": "2024-03-10T10:08:01.204Z"
   },
   {
    "duration": 0,
    "start_time": "2024-03-10T10:08:01.205Z"
   },
   {
    "duration": 0,
    "start_time": "2024-03-10T10:08:01.207Z"
   },
   {
    "duration": 0,
    "start_time": "2024-03-10T10:08:01.215Z"
   },
   {
    "duration": 0,
    "start_time": "2024-03-10T10:08:01.217Z"
   },
   {
    "duration": 0,
    "start_time": "2024-03-10T10:08:01.219Z"
   },
   {
    "duration": 0,
    "start_time": "2024-03-10T10:08:01.220Z"
   },
   {
    "duration": 0,
    "start_time": "2024-03-10T10:08:01.222Z"
   },
   {
    "duration": 0,
    "start_time": "2024-03-10T10:08:01.266Z"
   },
   {
    "duration": 0,
    "start_time": "2024-03-10T10:08:01.268Z"
   },
   {
    "duration": 0,
    "start_time": "2024-03-10T10:08:01.268Z"
   },
   {
    "duration": 0,
    "start_time": "2024-03-10T10:08:01.269Z"
   },
   {
    "duration": 0,
    "start_time": "2024-03-10T10:08:01.269Z"
   },
   {
    "duration": 26,
    "start_time": "2024-03-10T10:08:59.264Z"
   },
   {
    "duration": 79,
    "start_time": "2024-03-10T10:10:31.738Z"
   },
   {
    "duration": 77,
    "start_time": "2024-03-10T10:12:01.342Z"
   },
   {
    "duration": 56,
    "start_time": "2024-03-10T10:12:23.441Z"
   },
   {
    "duration": 38,
    "start_time": "2024-03-10T10:26:52.095Z"
   },
   {
    "duration": 39,
    "start_time": "2024-03-10T10:27:13.282Z"
   },
   {
    "duration": 42,
    "start_time": "2024-03-10T10:27:23.857Z"
   },
   {
    "duration": 1214,
    "start_time": "2024-03-10T10:33:09.689Z"
   },
   {
    "duration": 397,
    "start_time": "2024-03-10T10:33:17.768Z"
   },
   {
    "duration": 168,
    "start_time": "2024-03-10T10:33:18.167Z"
   },
   {
    "duration": 7,
    "start_time": "2024-03-10T10:33:18.336Z"
   },
   {
    "duration": 34,
    "start_time": "2024-03-10T10:33:18.345Z"
   },
   {
    "duration": 2,
    "start_time": "2024-03-10T10:33:18.381Z"
   },
   {
    "duration": 5,
    "start_time": "2024-03-10T10:33:18.384Z"
   },
   {
    "duration": 15,
    "start_time": "2024-03-10T10:33:18.390Z"
   },
   {
    "duration": 5,
    "start_time": "2024-03-10T10:33:18.406Z"
   },
   {
    "duration": 34,
    "start_time": "2024-03-10T10:33:18.413Z"
   },
   {
    "duration": 17,
    "start_time": "2024-03-10T10:33:18.464Z"
   },
   {
    "duration": 27,
    "start_time": "2024-03-10T10:33:18.483Z"
   },
   {
    "duration": 83,
    "start_time": "2024-03-10T10:33:18.512Z"
   },
   {
    "duration": 91,
    "start_time": "2024-03-10T10:33:18.597Z"
   },
   {
    "duration": 58,
    "start_time": "2024-03-10T10:33:18.690Z"
   },
   {
    "duration": 51,
    "start_time": "2024-03-10T10:33:18.750Z"
   },
   {
    "duration": 1250,
    "start_time": "2024-03-10T10:33:18.803Z"
   },
   {
    "duration": 0,
    "start_time": "2024-03-10T10:33:20.054Z"
   },
   {
    "duration": 0,
    "start_time": "2024-03-10T10:33:20.056Z"
   },
   {
    "duration": 0,
    "start_time": "2024-03-10T10:33:20.056Z"
   },
   {
    "duration": 0,
    "start_time": "2024-03-10T10:33:20.057Z"
   },
   {
    "duration": 0,
    "start_time": "2024-03-10T10:33:20.058Z"
   },
   {
    "duration": 0,
    "start_time": "2024-03-10T10:33:20.059Z"
   },
   {
    "duration": 0,
    "start_time": "2024-03-10T10:33:20.060Z"
   },
   {
    "duration": 0,
    "start_time": "2024-03-10T10:33:20.061Z"
   },
   {
    "duration": 0,
    "start_time": "2024-03-10T10:33:20.062Z"
   },
   {
    "duration": 0,
    "start_time": "2024-03-10T10:33:20.063Z"
   },
   {
    "duration": 0,
    "start_time": "2024-03-10T10:33:20.064Z"
   },
   {
    "duration": 0,
    "start_time": "2024-03-10T10:33:20.066Z"
   },
   {
    "duration": 0,
    "start_time": "2024-03-10T10:33:20.067Z"
   },
   {
    "duration": 0,
    "start_time": "2024-03-10T10:33:20.068Z"
   },
   {
    "duration": 0,
    "start_time": "2024-03-10T10:33:20.069Z"
   },
   {
    "duration": 0,
    "start_time": "2024-03-10T10:33:20.070Z"
   },
   {
    "duration": 0,
    "start_time": "2024-03-10T10:33:20.071Z"
   },
   {
    "duration": 0,
    "start_time": "2024-03-10T10:33:20.072Z"
   },
   {
    "duration": 0,
    "start_time": "2024-03-10T10:33:20.073Z"
   },
   {
    "duration": 0,
    "start_time": "2024-03-10T10:33:20.074Z"
   },
   {
    "duration": 0,
    "start_time": "2024-03-10T10:33:20.075Z"
   },
   {
    "duration": 0,
    "start_time": "2024-03-10T10:33:20.076Z"
   },
   {
    "duration": 1131,
    "start_time": "2024-03-10T10:33:46.755Z"
   },
   {
    "duration": 437,
    "start_time": "2024-03-10T10:34:24.137Z"
   },
   {
    "duration": 184,
    "start_time": "2024-03-10T10:34:24.576Z"
   },
   {
    "duration": 8,
    "start_time": "2024-03-10T10:34:24.761Z"
   },
   {
    "duration": 44,
    "start_time": "2024-03-10T10:34:24.771Z"
   },
   {
    "duration": 7,
    "start_time": "2024-03-10T10:34:24.816Z"
   },
   {
    "duration": 18,
    "start_time": "2024-03-10T10:34:24.825Z"
   },
   {
    "duration": 40,
    "start_time": "2024-03-10T10:34:24.845Z"
   },
   {
    "duration": 19,
    "start_time": "2024-03-10T10:34:24.886Z"
   },
   {
    "duration": 48,
    "start_time": "2024-03-10T10:34:24.906Z"
   },
   {
    "duration": 54,
    "start_time": "2024-03-10T10:34:24.957Z"
   },
   {
    "duration": 37,
    "start_time": "2024-03-10T10:34:25.013Z"
   },
   {
    "duration": 79,
    "start_time": "2024-03-10T10:34:25.052Z"
   },
   {
    "duration": 74,
    "start_time": "2024-03-10T10:34:25.133Z"
   },
   {
    "duration": 58,
    "start_time": "2024-03-10T10:34:25.208Z"
   },
   {
    "duration": 42,
    "start_time": "2024-03-10T10:34:25.267Z"
   },
   {
    "duration": 1268,
    "start_time": "2024-03-10T10:34:25.310Z"
   },
   {
    "duration": 0,
    "start_time": "2024-03-10T10:34:26.581Z"
   },
   {
    "duration": 0,
    "start_time": "2024-03-10T10:34:26.583Z"
   },
   {
    "duration": 0,
    "start_time": "2024-03-10T10:34:26.584Z"
   },
   {
    "duration": 0,
    "start_time": "2024-03-10T10:34:26.584Z"
   },
   {
    "duration": 0,
    "start_time": "2024-03-10T10:34:26.585Z"
   },
   {
    "duration": 0,
    "start_time": "2024-03-10T10:34:26.586Z"
   },
   {
    "duration": 0,
    "start_time": "2024-03-10T10:34:26.587Z"
   },
   {
    "duration": 0,
    "start_time": "2024-03-10T10:34:26.588Z"
   },
   {
    "duration": 0,
    "start_time": "2024-03-10T10:34:26.589Z"
   },
   {
    "duration": 0,
    "start_time": "2024-03-10T10:34:26.589Z"
   },
   {
    "duration": 0,
    "start_time": "2024-03-10T10:34:26.590Z"
   },
   {
    "duration": 0,
    "start_time": "2024-03-10T10:34:26.591Z"
   },
   {
    "duration": 0,
    "start_time": "2024-03-10T10:34:26.592Z"
   },
   {
    "duration": 0,
    "start_time": "2024-03-10T10:34:26.593Z"
   },
   {
    "duration": 0,
    "start_time": "2024-03-10T10:34:26.594Z"
   },
   {
    "duration": 0,
    "start_time": "2024-03-10T10:34:26.595Z"
   },
   {
    "duration": 0,
    "start_time": "2024-03-10T10:34:26.595Z"
   },
   {
    "duration": 0,
    "start_time": "2024-03-10T10:34:26.597Z"
   },
   {
    "duration": 0,
    "start_time": "2024-03-10T10:34:26.598Z"
   },
   {
    "duration": 0,
    "start_time": "2024-03-10T10:34:26.599Z"
   },
   {
    "duration": 0,
    "start_time": "2024-03-10T10:34:26.600Z"
   },
   {
    "duration": 0,
    "start_time": "2024-03-10T10:34:26.601Z"
   },
   {
    "duration": 1270,
    "start_time": "2024-03-10T10:35:01.845Z"
   },
   {
    "duration": 11,
    "start_time": "2024-03-10T10:35:26.792Z"
   },
   {
    "duration": 41,
    "start_time": "2024-03-10T11:07:42.326Z"
   },
   {
    "duration": 10,
    "start_time": "2024-03-10T11:18:54.450Z"
   },
   {
    "duration": 1408,
    "start_time": "2024-03-10T11:20:15.101Z"
   },
   {
    "duration": 11,
    "start_time": "2024-03-10T11:21:18.686Z"
   },
   {
    "duration": 454,
    "start_time": "2024-03-10T17:08:14.029Z"
   },
   {
    "duration": 193,
    "start_time": "2024-03-10T17:08:14.485Z"
   },
   {
    "duration": 9,
    "start_time": "2024-03-10T17:08:14.680Z"
   },
   {
    "duration": 35,
    "start_time": "2024-03-10T17:08:14.691Z"
   },
   {
    "duration": 3,
    "start_time": "2024-03-10T17:08:14.728Z"
   },
   {
    "duration": 9,
    "start_time": "2024-03-10T17:08:14.732Z"
   },
   {
    "duration": 33,
    "start_time": "2024-03-10T17:08:14.743Z"
   },
   {
    "duration": 3,
    "start_time": "2024-03-10T17:08:14.778Z"
   },
   {
    "duration": 42,
    "start_time": "2024-03-10T17:08:14.783Z"
   },
   {
    "duration": 21,
    "start_time": "2024-03-10T17:08:14.828Z"
   },
   {
    "duration": 43,
    "start_time": "2024-03-10T17:08:14.850Z"
   },
   {
    "duration": 98,
    "start_time": "2024-03-10T17:08:14.895Z"
   },
   {
    "duration": 103,
    "start_time": "2024-03-10T17:08:14.995Z"
   },
   {
    "duration": 74,
    "start_time": "2024-03-10T17:08:15.099Z"
   },
   {
    "duration": 45,
    "start_time": "2024-03-10T17:08:15.175Z"
   },
   {
    "duration": 60,
    "start_time": "2024-03-10T17:08:15.222Z"
   },
   {
    "duration": 92,
    "start_time": "2024-03-10T17:08:15.284Z"
   },
   {
    "duration": 12,
    "start_time": "2024-03-10T17:08:15.378Z"
   },
   {
    "duration": 33,
    "start_time": "2024-03-10T17:08:15.392Z"
   },
   {
    "duration": 12,
    "start_time": "2024-03-10T17:08:15.427Z"
   },
   {
    "duration": 32,
    "start_time": "2024-03-10T17:08:15.441Z"
   },
   {
    "duration": 37,
    "start_time": "2024-03-10T17:08:15.475Z"
   },
   {
    "duration": 29,
    "start_time": "2024-03-10T17:08:15.513Z"
   },
   {
    "duration": 42,
    "start_time": "2024-03-10T17:08:15.544Z"
   },
   {
    "duration": 19,
    "start_time": "2024-03-10T17:08:15.588Z"
   },
   {
    "duration": 20,
    "start_time": "2024-03-10T17:08:15.609Z"
   },
   {
    "duration": 96,
    "start_time": "2024-03-10T17:08:15.631Z"
   },
   {
    "duration": 3,
    "start_time": "2024-03-10T17:08:15.730Z"
   },
   {
    "duration": 11,
    "start_time": "2024-03-10T17:08:15.734Z"
   },
   {
    "duration": 101,
    "start_time": "2024-03-10T17:08:15.746Z"
   },
   {
    "duration": 0,
    "start_time": "2024-03-10T17:08:15.849Z"
   },
   {
    "duration": 0,
    "start_time": "2024-03-10T17:08:15.850Z"
   },
   {
    "duration": 0,
    "start_time": "2024-03-10T17:08:15.852Z"
   },
   {
    "duration": 0,
    "start_time": "2024-03-10T17:08:15.853Z"
   },
   {
    "duration": 0,
    "start_time": "2024-03-10T17:08:15.854Z"
   },
   {
    "duration": 0,
    "start_time": "2024-03-10T17:08:15.855Z"
   },
   {
    "duration": 0,
    "start_time": "2024-03-10T17:08:15.857Z"
   },
   {
    "duration": 0,
    "start_time": "2024-03-10T17:08:15.858Z"
   },
   {
    "duration": 77,
    "start_time": "2024-03-10T17:08:33.101Z"
   },
   {
    "duration": 100,
    "start_time": "2024-03-10T17:10:17.863Z"
   },
   {
    "duration": 462,
    "start_time": "2024-03-10T17:10:47.854Z"
   },
   {
    "duration": 196,
    "start_time": "2024-03-10T17:10:48.318Z"
   },
   {
    "duration": 9,
    "start_time": "2024-03-10T17:10:48.516Z"
   },
   {
    "duration": 47,
    "start_time": "2024-03-10T17:10:48.527Z"
   },
   {
    "duration": 3,
    "start_time": "2024-03-10T17:10:48.575Z"
   },
   {
    "duration": 12,
    "start_time": "2024-03-10T17:10:48.580Z"
   },
   {
    "duration": 17,
    "start_time": "2024-03-10T17:10:48.594Z"
   },
   {
    "duration": 14,
    "start_time": "2024-03-10T17:10:48.613Z"
   },
   {
    "duration": 53,
    "start_time": "2024-03-10T17:10:48.629Z"
   },
   {
    "duration": 20,
    "start_time": "2024-03-10T17:10:48.685Z"
   },
   {
    "duration": 30,
    "start_time": "2024-03-10T17:10:48.706Z"
   },
   {
    "duration": 90,
    "start_time": "2024-03-10T17:10:48.737Z"
   },
   {
    "duration": 98,
    "start_time": "2024-03-10T17:10:48.828Z"
   },
   {
    "duration": 74,
    "start_time": "2024-03-10T17:10:48.928Z"
   },
   {
    "duration": 46,
    "start_time": "2024-03-10T17:10:49.003Z"
   },
   {
    "duration": 24,
    "start_time": "2024-03-10T17:10:49.050Z"
   },
   {
    "duration": 44,
    "start_time": "2024-03-10T17:10:49.076Z"
   },
   {
    "duration": 11,
    "start_time": "2024-03-10T17:10:49.122Z"
   },
   {
    "duration": 11,
    "start_time": "2024-03-10T17:10:49.134Z"
   },
   {
    "duration": 27,
    "start_time": "2024-03-10T17:10:49.146Z"
   },
   {
    "duration": 27,
    "start_time": "2024-03-10T17:10:49.174Z"
   },
   {
    "duration": 15,
    "start_time": "2024-03-10T17:10:49.203Z"
   },
   {
    "duration": 15,
    "start_time": "2024-03-10T17:10:49.220Z"
   },
   {
    "duration": 14,
    "start_time": "2024-03-10T17:10:49.236Z"
   },
   {
    "duration": 56,
    "start_time": "2024-03-10T17:10:49.251Z"
   },
   {
    "duration": 25,
    "start_time": "2024-03-10T17:10:49.309Z"
   },
   {
    "duration": 83,
    "start_time": "2024-03-10T17:10:49.336Z"
   },
   {
    "duration": 93,
    "start_time": "2024-03-10T17:10:49.422Z"
   },
   {
    "duration": 0,
    "start_time": "2024-03-10T17:10:49.517Z"
   },
   {
    "duration": 0,
    "start_time": "2024-03-10T17:10:49.518Z"
   },
   {
    "duration": 0,
    "start_time": "2024-03-10T17:10:49.519Z"
   },
   {
    "duration": 0,
    "start_time": "2024-03-10T17:10:49.521Z"
   },
   {
    "duration": 0,
    "start_time": "2024-03-10T17:10:49.522Z"
   },
   {
    "duration": 0,
    "start_time": "2024-03-10T17:10:49.524Z"
   },
   {
    "duration": 0,
    "start_time": "2024-03-10T17:10:49.525Z"
   },
   {
    "duration": 0,
    "start_time": "2024-03-10T17:10:49.527Z"
   },
   {
    "duration": 0,
    "start_time": "2024-03-10T17:10:49.528Z"
   },
   {
    "duration": 0,
    "start_time": "2024-03-10T17:10:49.529Z"
   },
   {
    "duration": 107,
    "start_time": "2024-03-10T17:12:10.377Z"
   },
   {
    "duration": 98,
    "start_time": "2024-03-10T17:12:28.546Z"
   },
   {
    "duration": 402,
    "start_time": "2024-03-10T17:13:37.106Z"
   },
   {
    "duration": 192,
    "start_time": "2024-03-10T17:13:37.510Z"
   },
   {
    "duration": 9,
    "start_time": "2024-03-10T17:13:37.703Z"
   },
   {
    "duration": 38,
    "start_time": "2024-03-10T17:13:37.714Z"
   },
   {
    "duration": 2,
    "start_time": "2024-03-10T17:13:37.754Z"
   },
   {
    "duration": 26,
    "start_time": "2024-03-10T17:13:37.758Z"
   },
   {
    "duration": 24,
    "start_time": "2024-03-10T17:13:37.786Z"
   },
   {
    "duration": 25,
    "start_time": "2024-03-10T17:13:37.812Z"
   },
   {
    "duration": 37,
    "start_time": "2024-03-10T17:13:37.839Z"
   },
   {
    "duration": 29,
    "start_time": "2024-03-10T17:13:37.879Z"
   },
   {
    "duration": 28,
    "start_time": "2024-03-10T17:13:37.910Z"
   },
   {
    "duration": 95,
    "start_time": "2024-03-10T17:13:37.940Z"
   },
   {
    "duration": 94,
    "start_time": "2024-03-10T17:13:38.037Z"
   },
   {
    "duration": 75,
    "start_time": "2024-03-10T17:13:38.133Z"
   },
   {
    "duration": 45,
    "start_time": "2024-03-10T17:13:38.210Z"
   },
   {
    "duration": 25,
    "start_time": "2024-03-10T17:13:38.256Z"
   },
   {
    "duration": 57,
    "start_time": "2024-03-10T17:13:38.283Z"
   },
   {
    "duration": 11,
    "start_time": "2024-03-10T17:13:38.341Z"
   },
   {
    "duration": 19,
    "start_time": "2024-03-10T17:13:38.354Z"
   },
   {
    "duration": 5,
    "start_time": "2024-03-10T17:13:38.374Z"
   },
   {
    "duration": 21,
    "start_time": "2024-03-10T17:13:38.380Z"
   },
   {
    "duration": 15,
    "start_time": "2024-03-10T17:13:38.403Z"
   },
   {
    "duration": 19,
    "start_time": "2024-03-10T17:13:38.420Z"
   },
   {
    "duration": 41,
    "start_time": "2024-03-10T17:13:38.441Z"
   },
   {
    "duration": 19,
    "start_time": "2024-03-10T17:13:38.483Z"
   },
   {
    "duration": 16,
    "start_time": "2024-03-10T17:13:38.504Z"
   },
   {
    "duration": 99,
    "start_time": "2024-03-10T17:13:38.522Z"
   },
   {
    "duration": 11,
    "start_time": "2024-03-10T17:13:38.625Z"
   },
   {
    "duration": 17,
    "start_time": "2024-03-10T17:13:38.638Z"
   },
   {
    "duration": 103,
    "start_time": "2024-03-10T17:13:38.657Z"
   },
   {
    "duration": 0,
    "start_time": "2024-03-10T17:13:38.762Z"
   },
   {
    "duration": 0,
    "start_time": "2024-03-10T17:13:38.763Z"
   },
   {
    "duration": 0,
    "start_time": "2024-03-10T17:13:38.764Z"
   },
   {
    "duration": 0,
    "start_time": "2024-03-10T17:13:38.765Z"
   },
   {
    "duration": 0,
    "start_time": "2024-03-10T17:13:38.767Z"
   },
   {
    "duration": 0,
    "start_time": "2024-03-10T17:13:38.767Z"
   },
   {
    "duration": 0,
    "start_time": "2024-03-10T17:13:38.768Z"
   },
   {
    "duration": 0,
    "start_time": "2024-03-10T17:13:38.770Z"
   },
   {
    "duration": 387,
    "start_time": "2024-03-11T17:03:10.282Z"
   },
   {
    "duration": 204,
    "start_time": "2024-03-11T17:03:10.671Z"
   },
   {
    "duration": 9,
    "start_time": "2024-03-11T17:03:10.877Z"
   },
   {
    "duration": 26,
    "start_time": "2024-03-11T17:03:10.888Z"
   },
   {
    "duration": 3,
    "start_time": "2024-03-11T17:03:10.916Z"
   },
   {
    "duration": 30,
    "start_time": "2024-03-11T17:03:10.920Z"
   },
   {
    "duration": 31,
    "start_time": "2024-03-11T17:03:10.951Z"
   },
   {
    "duration": 20,
    "start_time": "2024-03-11T17:03:10.983Z"
   },
   {
    "duration": 39,
    "start_time": "2024-03-11T17:03:11.004Z"
   },
   {
    "duration": 15,
    "start_time": "2024-03-11T17:03:11.046Z"
   },
   {
    "duration": 19,
    "start_time": "2024-03-11T17:03:11.063Z"
   },
   {
    "duration": 59,
    "start_time": "2024-03-11T17:03:11.084Z"
   },
   {
    "duration": 72,
    "start_time": "2024-03-11T17:03:11.144Z"
   },
   {
    "duration": 53,
    "start_time": "2024-03-11T17:03:11.218Z"
   },
   {
    "duration": 34,
    "start_time": "2024-03-11T17:03:11.272Z"
   },
   {
    "duration": 9,
    "start_time": "2024-03-11T17:03:11.307Z"
   },
   {
    "duration": 49,
    "start_time": "2024-03-11T17:03:11.317Z"
   },
   {
    "duration": 9,
    "start_time": "2024-03-11T17:03:11.367Z"
   },
   {
    "duration": 20,
    "start_time": "2024-03-11T17:03:11.377Z"
   },
   {
    "duration": 3,
    "start_time": "2024-03-11T17:03:11.398Z"
   },
   {
    "duration": 15,
    "start_time": "2024-03-11T17:03:11.402Z"
   },
   {
    "duration": 10,
    "start_time": "2024-03-11T17:03:11.418Z"
   },
   {
    "duration": 15,
    "start_time": "2024-03-11T17:03:11.429Z"
   },
   {
    "duration": 21,
    "start_time": "2024-03-11T17:03:11.445Z"
   },
   {
    "duration": 13,
    "start_time": "2024-03-11T17:03:11.467Z"
   },
   {
    "duration": 11,
    "start_time": "2024-03-11T17:03:11.481Z"
   },
   {
    "duration": 78,
    "start_time": "2024-03-11T17:03:11.493Z"
   },
   {
    "duration": 8,
    "start_time": "2024-03-11T17:03:11.574Z"
   },
   {
    "duration": 7,
    "start_time": "2024-03-11T17:03:11.583Z"
   },
   {
    "duration": 16,
    "start_time": "2024-03-11T17:03:11.591Z"
   },
   {
    "duration": 15,
    "start_time": "2024-03-11T17:03:11.609Z"
   },
   {
    "duration": 5,
    "start_time": "2024-03-11T17:03:11.625Z"
   },
   {
    "duration": 5,
    "start_time": "2024-03-11T17:03:11.631Z"
   },
   {
    "duration": 4,
    "start_time": "2024-03-11T17:03:11.637Z"
   },
   {
    "duration": 3,
    "start_time": "2024-03-11T17:03:11.642Z"
   },
   {
    "duration": 4,
    "start_time": "2024-03-11T17:03:11.647Z"
   },
   {
    "duration": 4,
    "start_time": "2024-03-11T17:03:11.652Z"
   },
   {
    "duration": 4,
    "start_time": "2024-03-11T17:03:11.657Z"
   },
   {
    "duration": 3,
    "start_time": "2024-03-11T17:05:52.985Z"
   },
   {
    "duration": 10,
    "start_time": "2024-03-11T17:10:49.673Z"
   },
   {
    "duration": 403,
    "start_time": "2024-03-11T17:10:58.533Z"
   },
   {
    "duration": 148,
    "start_time": "2024-03-11T17:10:58.938Z"
   },
   {
    "duration": 7,
    "start_time": "2024-03-11T17:10:59.087Z"
   },
   {
    "duration": 31,
    "start_time": "2024-03-11T17:10:59.096Z"
   },
   {
    "duration": 7,
    "start_time": "2024-03-11T17:10:59.128Z"
   },
   {
    "duration": 6,
    "start_time": "2024-03-11T17:10:59.136Z"
   },
   {
    "duration": 15,
    "start_time": "2024-03-11T17:10:59.143Z"
   },
   {
    "duration": 11,
    "start_time": "2024-03-11T17:10:59.159Z"
   },
   {
    "duration": 28,
    "start_time": "2024-03-11T17:10:59.171Z"
   },
   {
    "duration": 13,
    "start_time": "2024-03-11T17:10:59.201Z"
   },
   {
    "duration": 19,
    "start_time": "2024-03-11T17:10:59.215Z"
   },
   {
    "duration": 59,
    "start_time": "2024-03-11T17:10:59.235Z"
   },
   {
    "duration": 65,
    "start_time": "2024-03-11T17:10:59.296Z"
   },
   {
    "duration": 49,
    "start_time": "2024-03-11T17:10:59.362Z"
   },
   {
    "duration": 47,
    "start_time": "2024-03-11T17:10:59.412Z"
   },
   {
    "duration": 10,
    "start_time": "2024-03-11T17:10:59.460Z"
   },
   {
    "duration": 35,
    "start_time": "2024-03-11T17:10:59.471Z"
   },
   {
    "duration": 14,
    "start_time": "2024-03-11T17:10:59.507Z"
   },
   {
    "duration": 9,
    "start_time": "2024-03-11T17:10:59.522Z"
   },
   {
    "duration": 3,
    "start_time": "2024-03-11T17:10:59.532Z"
   },
   {
    "duration": 33,
    "start_time": "2024-03-11T17:10:59.536Z"
   },
   {
    "duration": 13,
    "start_time": "2024-03-11T17:10:59.570Z"
   },
   {
    "duration": 12,
    "start_time": "2024-03-11T17:10:59.585Z"
   },
   {
    "duration": 11,
    "start_time": "2024-03-11T17:10:59.598Z"
   },
   {
    "duration": 15,
    "start_time": "2024-03-11T17:10:59.610Z"
   },
   {
    "duration": 32,
    "start_time": "2024-03-11T17:10:59.627Z"
   },
   {
    "duration": 52,
    "start_time": "2024-03-11T17:10:59.660Z"
   },
   {
    "duration": 8,
    "start_time": "2024-03-11T17:10:59.715Z"
   },
   {
    "duration": 7,
    "start_time": "2024-03-11T17:10:59.724Z"
   },
   {
    "duration": 4,
    "start_time": "2024-03-11T17:10:59.732Z"
   },
   {
    "duration": 22,
    "start_time": "2024-03-11T17:10:59.737Z"
   },
   {
    "duration": 7,
    "start_time": "2024-03-11T17:10:59.761Z"
   },
   {
    "duration": 20,
    "start_time": "2024-03-11T17:10:59.769Z"
   },
   {
    "duration": 7,
    "start_time": "2024-03-11T17:10:59.790Z"
   },
   {
    "duration": 16,
    "start_time": "2024-03-11T17:10:59.798Z"
   },
   {
    "duration": 9,
    "start_time": "2024-03-11T17:10:59.815Z"
   },
   {
    "duration": 5,
    "start_time": "2024-03-11T17:10:59.825Z"
   },
   {
    "duration": 8,
    "start_time": "2024-03-11T17:10:59.831Z"
   },
   {
    "duration": 357,
    "start_time": "2024-03-11T17:12:47.286Z"
   },
   {
    "duration": 146,
    "start_time": "2024-03-11T17:12:47.644Z"
   },
   {
    "duration": 7,
    "start_time": "2024-03-11T17:12:47.791Z"
   },
   {
    "duration": 28,
    "start_time": "2024-03-11T17:12:47.800Z"
   },
   {
    "duration": 2,
    "start_time": "2024-03-11T17:12:47.830Z"
   },
   {
    "duration": 10,
    "start_time": "2024-03-11T17:12:47.834Z"
   },
   {
    "duration": 20,
    "start_time": "2024-03-11T17:12:47.845Z"
   },
   {
    "duration": 5,
    "start_time": "2024-03-11T17:12:47.866Z"
   },
   {
    "duration": 42,
    "start_time": "2024-03-11T17:12:47.872Z"
   },
   {
    "duration": 13,
    "start_time": "2024-03-11T17:12:47.917Z"
   },
   {
    "duration": 18,
    "start_time": "2024-03-11T17:12:47.931Z"
   },
   {
    "duration": 61,
    "start_time": "2024-03-11T17:12:47.950Z"
   },
   {
    "duration": 74,
    "start_time": "2024-03-11T17:12:48.012Z"
   },
   {
    "duration": 49,
    "start_time": "2024-03-11T17:12:48.087Z"
   },
   {
    "duration": 44,
    "start_time": "2024-03-11T17:12:48.137Z"
   },
   {
    "duration": 9,
    "start_time": "2024-03-11T17:12:48.183Z"
   },
   {
    "duration": 33,
    "start_time": "2024-03-11T17:12:48.194Z"
   },
   {
    "duration": 8,
    "start_time": "2024-03-11T17:12:48.228Z"
   },
   {
    "duration": 27,
    "start_time": "2024-03-11T17:12:48.237Z"
   },
   {
    "duration": 3,
    "start_time": "2024-03-11T17:12:48.265Z"
   },
   {
    "duration": 19,
    "start_time": "2024-03-11T17:12:48.270Z"
   },
   {
    "duration": 13,
    "start_time": "2024-03-11T17:12:48.290Z"
   },
   {
    "duration": 13,
    "start_time": "2024-03-11T17:12:48.305Z"
   },
   {
    "duration": 10,
    "start_time": "2024-03-11T17:12:48.319Z"
   },
   {
    "duration": 39,
    "start_time": "2024-03-11T17:12:48.330Z"
   },
   {
    "duration": 15,
    "start_time": "2024-03-11T17:12:48.370Z"
   },
   {
    "duration": 53,
    "start_time": "2024-03-11T17:12:48.386Z"
   },
   {
    "duration": 21,
    "start_time": "2024-03-11T17:12:48.442Z"
   },
   {
    "duration": 21,
    "start_time": "2024-03-11T17:12:48.465Z"
   },
   {
    "duration": 4,
    "start_time": "2024-03-11T17:12:48.487Z"
   },
   {
    "duration": 20,
    "start_time": "2024-03-11T17:12:48.492Z"
   },
   {
    "duration": 10,
    "start_time": "2024-03-11T17:12:48.513Z"
   },
   {
    "duration": 13,
    "start_time": "2024-03-11T17:12:48.524Z"
   },
   {
    "duration": 18,
    "start_time": "2024-03-11T17:12:48.538Z"
   },
   {
    "duration": 3,
    "start_time": "2024-03-11T17:12:48.557Z"
   },
   {
    "duration": 13,
    "start_time": "2024-03-11T17:12:48.561Z"
   },
   {
    "duration": 4,
    "start_time": "2024-03-11T17:12:48.575Z"
   },
   {
    "duration": 4,
    "start_time": "2024-03-11T17:12:48.580Z"
   },
   {
    "duration": 370,
    "start_time": "2024-03-11T17:15:06.572Z"
   },
   {
    "duration": 147,
    "start_time": "2024-03-11T17:15:06.944Z"
   },
   {
    "duration": 6,
    "start_time": "2024-03-11T17:15:07.093Z"
   },
   {
    "duration": 24,
    "start_time": "2024-03-11T17:15:07.101Z"
   },
   {
    "duration": 3,
    "start_time": "2024-03-11T17:15:07.126Z"
   },
   {
    "duration": 11,
    "start_time": "2024-03-11T17:15:07.130Z"
   },
   {
    "duration": 24,
    "start_time": "2024-03-11T17:15:07.142Z"
   },
   {
    "duration": 4,
    "start_time": "2024-03-11T17:15:07.168Z"
   },
   {
    "duration": 24,
    "start_time": "2024-03-11T17:15:07.173Z"
   },
   {
    "duration": 12,
    "start_time": "2024-03-11T17:15:07.200Z"
   },
   {
    "duration": 17,
    "start_time": "2024-03-11T17:15:07.213Z"
   },
   {
    "duration": 73,
    "start_time": "2024-03-11T17:15:07.231Z"
   },
   {
    "duration": 70,
    "start_time": "2024-03-11T17:15:07.306Z"
   },
   {
    "duration": 48,
    "start_time": "2024-03-11T17:15:07.377Z"
   },
   {
    "duration": 44,
    "start_time": "2024-03-11T17:15:07.427Z"
   },
   {
    "duration": 9,
    "start_time": "2024-03-11T17:15:07.472Z"
   },
   {
    "duration": 37,
    "start_time": "2024-03-11T17:15:07.482Z"
   },
   {
    "duration": 8,
    "start_time": "2024-03-11T17:15:07.520Z"
   },
   {
    "duration": 30,
    "start_time": "2024-03-11T17:15:07.529Z"
   },
   {
    "duration": 4,
    "start_time": "2024-03-11T17:15:07.560Z"
   },
   {
    "duration": 15,
    "start_time": "2024-03-11T17:15:07.565Z"
   },
   {
    "duration": 15,
    "start_time": "2024-03-11T17:15:07.581Z"
   },
   {
    "duration": 10,
    "start_time": "2024-03-11T17:15:07.598Z"
   },
   {
    "duration": 9,
    "start_time": "2024-03-11T17:15:07.610Z"
   },
   {
    "duration": 13,
    "start_time": "2024-03-11T17:15:07.620Z"
   },
   {
    "duration": 29,
    "start_time": "2024-03-11T17:15:07.635Z"
   },
   {
    "duration": 54,
    "start_time": "2024-03-11T17:15:07.665Z"
   },
   {
    "duration": 8,
    "start_time": "2024-03-11T17:15:07.722Z"
   },
   {
    "duration": 29,
    "start_time": "2024-03-11T17:15:07.731Z"
   },
   {
    "duration": 8,
    "start_time": "2024-03-11T17:15:07.761Z"
   },
   {
    "duration": 26,
    "start_time": "2024-03-11T17:15:07.771Z"
   },
   {
    "duration": 9,
    "start_time": "2024-03-11T17:15:07.798Z"
   },
   {
    "duration": 13,
    "start_time": "2024-03-11T17:15:07.809Z"
   },
   {
    "duration": 10,
    "start_time": "2024-03-11T17:15:07.823Z"
   },
   {
    "duration": 77,
    "start_time": "2024-03-11T17:15:07.834Z"
   },
   {
    "duration": 0,
    "start_time": "2024-03-11T17:15:07.913Z"
   },
   {
    "duration": 0,
    "start_time": "2024-03-11T17:15:07.913Z"
   },
   {
    "duration": 0,
    "start_time": "2024-03-11T17:15:07.914Z"
   },
   {
    "duration": 66,
    "start_time": "2024-03-11T17:15:41.460Z"
   },
   {
    "duration": 8,
    "start_time": "2024-03-11T17:15:54.817Z"
   },
   {
    "duration": 379,
    "start_time": "2024-03-11T17:16:44.692Z"
   },
   {
    "duration": 149,
    "start_time": "2024-03-11T17:16:45.073Z"
   },
   {
    "duration": 7,
    "start_time": "2024-03-11T17:16:45.223Z"
   },
   {
    "duration": 73,
    "start_time": "2024-03-11T17:16:45.231Z"
   },
   {
    "duration": 16,
    "start_time": "2024-03-11T17:16:45.306Z"
   },
   {
    "duration": 13,
    "start_time": "2024-03-11T17:16:45.323Z"
   },
   {
    "duration": 49,
    "start_time": "2024-03-11T17:16:45.338Z"
   },
   {
    "duration": 40,
    "start_time": "2024-03-11T17:16:45.388Z"
   },
   {
    "duration": 54,
    "start_time": "2024-03-11T17:16:45.429Z"
   },
   {
    "duration": 23,
    "start_time": "2024-03-11T17:16:45.485Z"
   },
   {
    "duration": 30,
    "start_time": "2024-03-11T17:16:45.509Z"
   },
   {
    "duration": 70,
    "start_time": "2024-03-11T17:16:45.540Z"
   },
   {
    "duration": 71,
    "start_time": "2024-03-11T17:16:45.611Z"
   },
   {
    "duration": 49,
    "start_time": "2024-03-11T17:16:45.683Z"
   },
   {
    "duration": 44,
    "start_time": "2024-03-11T17:16:45.733Z"
   },
   {
    "duration": 9,
    "start_time": "2024-03-11T17:16:45.779Z"
   },
   {
    "duration": 38,
    "start_time": "2024-03-11T17:16:45.789Z"
   },
   {
    "duration": 9,
    "start_time": "2024-03-11T17:16:45.828Z"
   },
   {
    "duration": 10,
    "start_time": "2024-03-11T17:16:45.857Z"
   },
   {
    "duration": 3,
    "start_time": "2024-03-11T17:16:45.868Z"
   },
   {
    "duration": 15,
    "start_time": "2024-03-11T17:16:45.872Z"
   },
   {
    "duration": 11,
    "start_time": "2024-03-11T17:16:45.889Z"
   },
   {
    "duration": 11,
    "start_time": "2024-03-11T17:16:45.902Z"
   },
   {
    "duration": 10,
    "start_time": "2024-03-11T17:16:45.914Z"
   },
   {
    "duration": 40,
    "start_time": "2024-03-11T17:16:45.926Z"
   },
   {
    "duration": 13,
    "start_time": "2024-03-11T17:16:45.968Z"
   },
   {
    "duration": 89,
    "start_time": "2024-03-11T17:16:45.983Z"
   },
   {
    "duration": 8,
    "start_time": "2024-03-11T17:16:46.075Z"
   },
   {
    "duration": 21,
    "start_time": "2024-03-11T17:16:46.085Z"
   },
   {
    "duration": 10,
    "start_time": "2024-03-11T17:16:46.107Z"
   },
   {
    "duration": 21,
    "start_time": "2024-03-11T17:16:46.118Z"
   },
   {
    "duration": 10,
    "start_time": "2024-03-11T17:16:46.141Z"
   },
   {
    "duration": 15,
    "start_time": "2024-03-11T17:16:46.153Z"
   },
   {
    "duration": 13,
    "start_time": "2024-03-11T17:16:46.170Z"
   },
   {
    "duration": 7,
    "start_time": "2024-03-11T17:16:46.184Z"
   },
   {
    "duration": 5,
    "start_time": "2024-03-11T17:16:46.192Z"
   },
   {
    "duration": 24,
    "start_time": "2024-03-11T17:16:46.198Z"
   },
   {
    "duration": 4,
    "start_time": "2024-03-11T17:16:46.224Z"
   },
   {
    "duration": 4,
    "start_time": "2024-03-11T17:17:28.888Z"
   },
   {
    "duration": 401,
    "start_time": "2024-03-11T17:18:26.226Z"
   },
   {
    "duration": 141,
    "start_time": "2024-03-11T17:18:26.628Z"
   },
   {
    "duration": 7,
    "start_time": "2024-03-11T17:18:26.771Z"
   },
   {
    "duration": 23,
    "start_time": "2024-03-11T17:18:26.780Z"
   },
   {
    "duration": 5,
    "start_time": "2024-03-11T17:18:26.805Z"
   },
   {
    "duration": 5,
    "start_time": "2024-03-11T17:18:26.812Z"
   },
   {
    "duration": 12,
    "start_time": "2024-03-11T17:18:26.818Z"
   },
   {
    "duration": 16,
    "start_time": "2024-03-11T17:18:26.832Z"
   },
   {
    "duration": 30,
    "start_time": "2024-03-11T17:18:26.850Z"
   },
   {
    "duration": 14,
    "start_time": "2024-03-11T17:18:26.883Z"
   },
   {
    "duration": 21,
    "start_time": "2024-03-11T17:18:26.899Z"
   },
   {
    "duration": 84,
    "start_time": "2024-03-11T17:18:26.921Z"
   },
   {
    "duration": 71,
    "start_time": "2024-03-11T17:18:27.006Z"
   },
   {
    "duration": 48,
    "start_time": "2024-03-11T17:18:27.078Z"
   },
   {
    "duration": 48,
    "start_time": "2024-03-11T17:18:27.128Z"
   },
   {
    "duration": 10,
    "start_time": "2024-03-11T17:18:27.178Z"
   },
   {
    "duration": 35,
    "start_time": "2024-03-11T17:18:27.189Z"
   },
   {
    "duration": 9,
    "start_time": "2024-03-11T17:18:27.225Z"
   },
   {
    "duration": 28,
    "start_time": "2024-03-11T17:18:27.235Z"
   },
   {
    "duration": 4,
    "start_time": "2024-03-11T17:18:27.264Z"
   },
   {
    "duration": 20,
    "start_time": "2024-03-11T17:18:27.269Z"
   },
   {
    "duration": 10,
    "start_time": "2024-03-11T17:18:27.290Z"
   },
   {
    "duration": 12,
    "start_time": "2024-03-11T17:18:27.301Z"
   },
   {
    "duration": 10,
    "start_time": "2024-03-11T17:18:27.314Z"
   },
   {
    "duration": 33,
    "start_time": "2024-03-11T17:18:27.325Z"
   },
   {
    "duration": 12,
    "start_time": "2024-03-11T17:18:27.359Z"
   },
   {
    "duration": 53,
    "start_time": "2024-03-11T17:18:27.372Z"
   },
   {
    "duration": 7,
    "start_time": "2024-03-11T17:18:27.428Z"
   },
   {
    "duration": 26,
    "start_time": "2024-03-11T17:18:27.436Z"
   },
   {
    "duration": 4,
    "start_time": "2024-03-11T17:18:27.463Z"
   },
   {
    "duration": 26,
    "start_time": "2024-03-11T17:18:27.468Z"
   },
   {
    "duration": 9,
    "start_time": "2024-03-11T17:18:27.495Z"
   },
   {
    "duration": 13,
    "start_time": "2024-03-11T17:18:27.505Z"
   },
   {
    "duration": 21,
    "start_time": "2024-03-11T17:18:27.519Z"
   },
   {
    "duration": 7,
    "start_time": "2024-03-11T17:18:27.542Z"
   },
   {
    "duration": 8,
    "start_time": "2024-03-11T17:18:27.551Z"
   },
   {
    "duration": 6,
    "start_time": "2024-03-11T17:18:27.561Z"
   },
   {
    "duration": 2,
    "start_time": "2024-03-11T17:18:27.569Z"
   }
  ],
  "celltoolbar": "Отсутствует",
  "colab": {
   "collapsed_sections": [
    "E0vqbgi9ay0H",
    "VUC88oWjTJw2"
   ],
   "provenance": []
  },
  "kernelspec": {
   "display_name": "Python 3 (ipykernel)",
   "language": "python",
   "name": "python3"
  },
  "language_info": {
   "codemirror_mode": {
    "name": "ipython",
    "version": 3
   },
   "file_extension": ".py",
   "mimetype": "text/x-python",
   "name": "python",
   "nbconvert_exporter": "python",
   "pygments_lexer": "ipython3",
   "version": "3.9.5"
  },
  "toc": {
   "base_numbering": 1,
   "nav_menu": {
    "height": "215px",
    "width": "403px"
   },
   "number_sections": true,
   "sideBar": true,
   "skip_h1_title": true,
   "title_cell": "Table of Contents",
   "title_sidebar": "Contents",
   "toc_cell": false,
   "toc_position": {
    "height": "calc(100% - 180px)",
    "left": "10px",
    "top": "150px",
    "width": "285.825px"
   },
   "toc_section_display": true,
   "toc_window_display": false
  }
 },
 "nbformat": 4,
 "nbformat_minor": 1
}
