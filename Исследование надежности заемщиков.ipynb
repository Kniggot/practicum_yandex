{
 "cells": [
  {
   "cell_type": "markdown",
   "id": "b55e04f3",
   "metadata": {
    "deletable": false,
    "editable": false,
    "id": "c81daeeb"
   },
   "source": [
    "# Исследование надежности заемщиков\n"
   ]
  },
  {
   "cell_type": "markdown",
   "id": "8d564111",
   "metadata": {
    "deletable": false,
    "editable": false,
    "id": "827c20bf"
   },
   "source": [
    "Во второй части проекта вы выполните шаги 3 и 4. Их вручную проверит ревьюер.\n",
    "Чтобы вам не пришлось писать код заново для шагов 1 и 2, мы добавили авторские решения в ячейки с кодом. \n",
    "\n"
   ]
  },
  {
   "cell_type": "markdown",
   "id": "5ed30892",
   "metadata": {
    "deletable": false,
    "editable": false,
    "id": "744d7639"
   },
   "source": [
    "## Откройте таблицу и изучите общую информацию о данных"
   ]
  },
  {
   "cell_type": "markdown",
   "id": "4648f6d3",
   "metadata": {
    "deletable": false,
    "editable": false,
    "id": "e7a14c31"
   },
   "source": [
    "**Задание 1. Импортируйте библиотеку pandas. Считайте данные из csv-файла в датафрейм и сохраните в переменную `data`. Путь к файлу:**\n",
    "\n",
    "`/datasets/data.csv`"
   ]
  },
  {
   "cell_type": "code",
   "execution_count": 1,
   "id": "ecd79a94",
   "metadata": {
    "deletable": false,
    "id": "7bcf75c9"
   },
   "outputs": [],
   "source": [
    "import pandas as pd\n",
    "\n",
    "try:\n",
    "    data = pd.read_csv('/datasets/data.csv')\n",
    "except:\n",
    "    data = pd.read_csv('https://code.s3.yandex.net/datasets/data.csv')"
   ]
  },
  {
   "cell_type": "markdown",
   "id": "94596e41",
   "metadata": {
    "deletable": false,
    "editable": false,
    "id": "b8038fe3"
   },
   "source": [
    "**Задание 2. Выведите первые 20 строчек датафрейма `data` на экран.**"
   ]
  },
  {
   "cell_type": "code",
   "execution_count": 2,
   "id": "1fac8240",
   "metadata": {
    "deletable": false,
    "id": "2a7cab99",
    "outputId": "1a8f3ef2-d323-4ec2-ddf7-89670b5944c4"
   },
   "outputs": [
    {
     "data": {
      "text/html": [
       "<div>\n",
       "<style scoped>\n",
       "    .dataframe tbody tr th:only-of-type {\n",
       "        vertical-align: middle;\n",
       "    }\n",
       "\n",
       "    .dataframe tbody tr th {\n",
       "        vertical-align: top;\n",
       "    }\n",
       "\n",
       "    .dataframe thead th {\n",
       "        text-align: right;\n",
       "    }\n",
       "</style>\n",
       "<table border=\"1\" class=\"dataframe\">\n",
       "  <thead>\n",
       "    <tr style=\"text-align: right;\">\n",
       "      <th></th>\n",
       "      <th>children</th>\n",
       "      <th>days_employed</th>\n",
       "      <th>dob_years</th>\n",
       "      <th>education</th>\n",
       "      <th>education_id</th>\n",
       "      <th>family_status</th>\n",
       "      <th>family_status_id</th>\n",
       "      <th>gender</th>\n",
       "      <th>income_type</th>\n",
       "      <th>debt</th>\n",
       "      <th>total_income</th>\n",
       "      <th>purpose</th>\n",
       "    </tr>\n",
       "  </thead>\n",
       "  <tbody>\n",
       "    <tr>\n",
       "      <th>0</th>\n",
       "      <td>1</td>\n",
       "      <td>-8437.673028</td>\n",
       "      <td>42</td>\n",
       "      <td>высшее</td>\n",
       "      <td>0</td>\n",
       "      <td>женат / замужем</td>\n",
       "      <td>0</td>\n",
       "      <td>F</td>\n",
       "      <td>сотрудник</td>\n",
       "      <td>0</td>\n",
       "      <td>253875.639453</td>\n",
       "      <td>покупка жилья</td>\n",
       "    </tr>\n",
       "    <tr>\n",
       "      <th>1</th>\n",
       "      <td>1</td>\n",
       "      <td>-4024.803754</td>\n",
       "      <td>36</td>\n",
       "      <td>среднее</td>\n",
       "      <td>1</td>\n",
       "      <td>женат / замужем</td>\n",
       "      <td>0</td>\n",
       "      <td>F</td>\n",
       "      <td>сотрудник</td>\n",
       "      <td>0</td>\n",
       "      <td>112080.014102</td>\n",
       "      <td>приобретение автомобиля</td>\n",
       "    </tr>\n",
       "    <tr>\n",
       "      <th>2</th>\n",
       "      <td>0</td>\n",
       "      <td>-5623.422610</td>\n",
       "      <td>33</td>\n",
       "      <td>Среднее</td>\n",
       "      <td>1</td>\n",
       "      <td>женат / замужем</td>\n",
       "      <td>0</td>\n",
       "      <td>M</td>\n",
       "      <td>сотрудник</td>\n",
       "      <td>0</td>\n",
       "      <td>145885.952297</td>\n",
       "      <td>покупка жилья</td>\n",
       "    </tr>\n",
       "    <tr>\n",
       "      <th>3</th>\n",
       "      <td>3</td>\n",
       "      <td>-4124.747207</td>\n",
       "      <td>32</td>\n",
       "      <td>среднее</td>\n",
       "      <td>1</td>\n",
       "      <td>женат / замужем</td>\n",
       "      <td>0</td>\n",
       "      <td>M</td>\n",
       "      <td>сотрудник</td>\n",
       "      <td>0</td>\n",
       "      <td>267628.550329</td>\n",
       "      <td>дополнительное образование</td>\n",
       "    </tr>\n",
       "    <tr>\n",
       "      <th>4</th>\n",
       "      <td>0</td>\n",
       "      <td>340266.072047</td>\n",
       "      <td>53</td>\n",
       "      <td>среднее</td>\n",
       "      <td>1</td>\n",
       "      <td>гражданский брак</td>\n",
       "      <td>1</td>\n",
       "      <td>F</td>\n",
       "      <td>пенсионер</td>\n",
       "      <td>0</td>\n",
       "      <td>158616.077870</td>\n",
       "      <td>сыграть свадьбу</td>\n",
       "    </tr>\n",
       "    <tr>\n",
       "      <th>5</th>\n",
       "      <td>0</td>\n",
       "      <td>-926.185831</td>\n",
       "      <td>27</td>\n",
       "      <td>высшее</td>\n",
       "      <td>0</td>\n",
       "      <td>гражданский брак</td>\n",
       "      <td>1</td>\n",
       "      <td>M</td>\n",
       "      <td>компаньон</td>\n",
       "      <td>0</td>\n",
       "      <td>255763.565419</td>\n",
       "      <td>покупка жилья</td>\n",
       "    </tr>\n",
       "    <tr>\n",
       "      <th>6</th>\n",
       "      <td>0</td>\n",
       "      <td>-2879.202052</td>\n",
       "      <td>43</td>\n",
       "      <td>высшее</td>\n",
       "      <td>0</td>\n",
       "      <td>женат / замужем</td>\n",
       "      <td>0</td>\n",
       "      <td>F</td>\n",
       "      <td>компаньон</td>\n",
       "      <td>0</td>\n",
       "      <td>240525.971920</td>\n",
       "      <td>операции с жильем</td>\n",
       "    </tr>\n",
       "    <tr>\n",
       "      <th>7</th>\n",
       "      <td>0</td>\n",
       "      <td>-152.779569</td>\n",
       "      <td>50</td>\n",
       "      <td>СРЕДНЕЕ</td>\n",
       "      <td>1</td>\n",
       "      <td>женат / замужем</td>\n",
       "      <td>0</td>\n",
       "      <td>M</td>\n",
       "      <td>сотрудник</td>\n",
       "      <td>0</td>\n",
       "      <td>135823.934197</td>\n",
       "      <td>образование</td>\n",
       "    </tr>\n",
       "    <tr>\n",
       "      <th>8</th>\n",
       "      <td>2</td>\n",
       "      <td>-6929.865299</td>\n",
       "      <td>35</td>\n",
       "      <td>ВЫСШЕЕ</td>\n",
       "      <td>0</td>\n",
       "      <td>гражданский брак</td>\n",
       "      <td>1</td>\n",
       "      <td>F</td>\n",
       "      <td>сотрудник</td>\n",
       "      <td>0</td>\n",
       "      <td>95856.832424</td>\n",
       "      <td>на проведение свадьбы</td>\n",
       "    </tr>\n",
       "    <tr>\n",
       "      <th>9</th>\n",
       "      <td>0</td>\n",
       "      <td>-2188.756445</td>\n",
       "      <td>41</td>\n",
       "      <td>среднее</td>\n",
       "      <td>1</td>\n",
       "      <td>женат / замужем</td>\n",
       "      <td>0</td>\n",
       "      <td>M</td>\n",
       "      <td>сотрудник</td>\n",
       "      <td>0</td>\n",
       "      <td>144425.938277</td>\n",
       "      <td>покупка жилья для семьи</td>\n",
       "    </tr>\n",
       "    <tr>\n",
       "      <th>10</th>\n",
       "      <td>2</td>\n",
       "      <td>-4171.483647</td>\n",
       "      <td>36</td>\n",
       "      <td>высшее</td>\n",
       "      <td>0</td>\n",
       "      <td>женат / замужем</td>\n",
       "      <td>0</td>\n",
       "      <td>M</td>\n",
       "      <td>компаньон</td>\n",
       "      <td>0</td>\n",
       "      <td>113943.491460</td>\n",
       "      <td>покупка недвижимости</td>\n",
       "    </tr>\n",
       "    <tr>\n",
       "      <th>11</th>\n",
       "      <td>0</td>\n",
       "      <td>-792.701887</td>\n",
       "      <td>40</td>\n",
       "      <td>среднее</td>\n",
       "      <td>1</td>\n",
       "      <td>женат / замужем</td>\n",
       "      <td>0</td>\n",
       "      <td>F</td>\n",
       "      <td>сотрудник</td>\n",
       "      <td>0</td>\n",
       "      <td>77069.234271</td>\n",
       "      <td>покупка коммерческой недвижимости</td>\n",
       "    </tr>\n",
       "    <tr>\n",
       "      <th>12</th>\n",
       "      <td>0</td>\n",
       "      <td>NaN</td>\n",
       "      <td>65</td>\n",
       "      <td>среднее</td>\n",
       "      <td>1</td>\n",
       "      <td>гражданский брак</td>\n",
       "      <td>1</td>\n",
       "      <td>M</td>\n",
       "      <td>пенсионер</td>\n",
       "      <td>0</td>\n",
       "      <td>NaN</td>\n",
       "      <td>сыграть свадьбу</td>\n",
       "    </tr>\n",
       "    <tr>\n",
       "      <th>13</th>\n",
       "      <td>0</td>\n",
       "      <td>-1846.641941</td>\n",
       "      <td>54</td>\n",
       "      <td>неоконченное высшее</td>\n",
       "      <td>2</td>\n",
       "      <td>женат / замужем</td>\n",
       "      <td>0</td>\n",
       "      <td>F</td>\n",
       "      <td>сотрудник</td>\n",
       "      <td>0</td>\n",
       "      <td>130458.228857</td>\n",
       "      <td>приобретение автомобиля</td>\n",
       "    </tr>\n",
       "    <tr>\n",
       "      <th>14</th>\n",
       "      <td>0</td>\n",
       "      <td>-1844.956182</td>\n",
       "      <td>56</td>\n",
       "      <td>высшее</td>\n",
       "      <td>0</td>\n",
       "      <td>гражданский брак</td>\n",
       "      <td>1</td>\n",
       "      <td>F</td>\n",
       "      <td>компаньон</td>\n",
       "      <td>1</td>\n",
       "      <td>165127.911772</td>\n",
       "      <td>покупка жилой недвижимости</td>\n",
       "    </tr>\n",
       "    <tr>\n",
       "      <th>15</th>\n",
       "      <td>1</td>\n",
       "      <td>-972.364419</td>\n",
       "      <td>26</td>\n",
       "      <td>среднее</td>\n",
       "      <td>1</td>\n",
       "      <td>женат / замужем</td>\n",
       "      <td>0</td>\n",
       "      <td>F</td>\n",
       "      <td>сотрудник</td>\n",
       "      <td>0</td>\n",
       "      <td>116820.904450</td>\n",
       "      <td>строительство собственной недвижимости</td>\n",
       "    </tr>\n",
       "    <tr>\n",
       "      <th>16</th>\n",
       "      <td>0</td>\n",
       "      <td>-1719.934226</td>\n",
       "      <td>35</td>\n",
       "      <td>среднее</td>\n",
       "      <td>1</td>\n",
       "      <td>женат / замужем</td>\n",
       "      <td>0</td>\n",
       "      <td>F</td>\n",
       "      <td>сотрудник</td>\n",
       "      <td>0</td>\n",
       "      <td>289202.704229</td>\n",
       "      <td>недвижимость</td>\n",
       "    </tr>\n",
       "    <tr>\n",
       "      <th>17</th>\n",
       "      <td>0</td>\n",
       "      <td>-2369.999720</td>\n",
       "      <td>33</td>\n",
       "      <td>высшее</td>\n",
       "      <td>0</td>\n",
       "      <td>гражданский брак</td>\n",
       "      <td>1</td>\n",
       "      <td>M</td>\n",
       "      <td>сотрудник</td>\n",
       "      <td>0</td>\n",
       "      <td>90410.586745</td>\n",
       "      <td>строительство недвижимости</td>\n",
       "    </tr>\n",
       "    <tr>\n",
       "      <th>18</th>\n",
       "      <td>0</td>\n",
       "      <td>400281.136913</td>\n",
       "      <td>53</td>\n",
       "      <td>среднее</td>\n",
       "      <td>1</td>\n",
       "      <td>вдовец / вдова</td>\n",
       "      <td>2</td>\n",
       "      <td>F</td>\n",
       "      <td>пенсионер</td>\n",
       "      <td>0</td>\n",
       "      <td>56823.777243</td>\n",
       "      <td>на покупку подержанного автомобиля</td>\n",
       "    </tr>\n",
       "    <tr>\n",
       "      <th>19</th>\n",
       "      <td>0</td>\n",
       "      <td>-10038.818549</td>\n",
       "      <td>48</td>\n",
       "      <td>СРЕДНЕЕ</td>\n",
       "      <td>1</td>\n",
       "      <td>в разводе</td>\n",
       "      <td>3</td>\n",
       "      <td>F</td>\n",
       "      <td>сотрудник</td>\n",
       "      <td>0</td>\n",
       "      <td>242831.107982</td>\n",
       "      <td>на покупку своего автомобиля</td>\n",
       "    </tr>\n",
       "  </tbody>\n",
       "</table>\n",
       "</div>"
      ],
      "text/plain": [
       "    children  days_employed  dob_years            education  education_id  \\\n",
       "0          1   -8437.673028         42               высшее             0   \n",
       "1          1   -4024.803754         36              среднее             1   \n",
       "2          0   -5623.422610         33              Среднее             1   \n",
       "3          3   -4124.747207         32              среднее             1   \n",
       "4          0  340266.072047         53              среднее             1   \n",
       "5          0    -926.185831         27               высшее             0   \n",
       "6          0   -2879.202052         43               высшее             0   \n",
       "7          0    -152.779569         50              СРЕДНЕЕ             1   \n",
       "8          2   -6929.865299         35               ВЫСШЕЕ             0   \n",
       "9          0   -2188.756445         41              среднее             1   \n",
       "10         2   -4171.483647         36               высшее             0   \n",
       "11         0    -792.701887         40              среднее             1   \n",
       "12         0            NaN         65              среднее             1   \n",
       "13         0   -1846.641941         54  неоконченное высшее             2   \n",
       "14         0   -1844.956182         56               высшее             0   \n",
       "15         1    -972.364419         26              среднее             1   \n",
       "16         0   -1719.934226         35              среднее             1   \n",
       "17         0   -2369.999720         33               высшее             0   \n",
       "18         0  400281.136913         53              среднее             1   \n",
       "19         0  -10038.818549         48              СРЕДНЕЕ             1   \n",
       "\n",
       "       family_status  family_status_id gender income_type  debt  \\\n",
       "0    женат / замужем                 0      F   сотрудник     0   \n",
       "1    женат / замужем                 0      F   сотрудник     0   \n",
       "2    женат / замужем                 0      M   сотрудник     0   \n",
       "3    женат / замужем                 0      M   сотрудник     0   \n",
       "4   гражданский брак                 1      F   пенсионер     0   \n",
       "5   гражданский брак                 1      M   компаньон     0   \n",
       "6    женат / замужем                 0      F   компаньон     0   \n",
       "7    женат / замужем                 0      M   сотрудник     0   \n",
       "8   гражданский брак                 1      F   сотрудник     0   \n",
       "9    женат / замужем                 0      M   сотрудник     0   \n",
       "10   женат / замужем                 0      M   компаньон     0   \n",
       "11   женат / замужем                 0      F   сотрудник     0   \n",
       "12  гражданский брак                 1      M   пенсионер     0   \n",
       "13   женат / замужем                 0      F   сотрудник     0   \n",
       "14  гражданский брак                 1      F   компаньон     1   \n",
       "15   женат / замужем                 0      F   сотрудник     0   \n",
       "16   женат / замужем                 0      F   сотрудник     0   \n",
       "17  гражданский брак                 1      M   сотрудник     0   \n",
       "18    вдовец / вдова                 2      F   пенсионер     0   \n",
       "19         в разводе                 3      F   сотрудник     0   \n",
       "\n",
       "     total_income                                 purpose  \n",
       "0   253875.639453                           покупка жилья  \n",
       "1   112080.014102                 приобретение автомобиля  \n",
       "2   145885.952297                           покупка жилья  \n",
       "3   267628.550329              дополнительное образование  \n",
       "4   158616.077870                         сыграть свадьбу  \n",
       "5   255763.565419                           покупка жилья  \n",
       "6   240525.971920                       операции с жильем  \n",
       "7   135823.934197                             образование  \n",
       "8    95856.832424                   на проведение свадьбы  \n",
       "9   144425.938277                 покупка жилья для семьи  \n",
       "10  113943.491460                    покупка недвижимости  \n",
       "11   77069.234271       покупка коммерческой недвижимости  \n",
       "12            NaN                         сыграть свадьбу  \n",
       "13  130458.228857                 приобретение автомобиля  \n",
       "14  165127.911772              покупка жилой недвижимости  \n",
       "15  116820.904450  строительство собственной недвижимости  \n",
       "16  289202.704229                            недвижимость  \n",
       "17   90410.586745              строительство недвижимости  \n",
       "18   56823.777243      на покупку подержанного автомобиля  \n",
       "19  242831.107982            на покупку своего автомобиля  "
      ]
     },
     "execution_count": 2,
     "metadata": {},
     "output_type": "execute_result"
    }
   ],
   "source": [
    "data.head(20)"
   ]
  },
  {
   "cell_type": "markdown",
   "id": "5877d0fd",
   "metadata": {
    "deletable": false,
    "editable": false,
    "id": "1c12e233"
   },
   "source": [
    "**Задание 3. Выведите основную информацию о датафрейме с помощью метода `info()`.**"
   ]
  },
  {
   "cell_type": "code",
   "execution_count": 3,
   "id": "f1b1b810",
   "metadata": {
    "deletable": false,
    "id": "2b757bca",
    "outputId": "15376089-8dad-46c9-b520-c05248d43158"
   },
   "outputs": [
    {
     "name": "stdout",
     "output_type": "stream",
     "text": [
      "<class 'pandas.core.frame.DataFrame'>\n",
      "RangeIndex: 21525 entries, 0 to 21524\n",
      "Data columns (total 12 columns):\n",
      " #   Column            Non-Null Count  Dtype  \n",
      "---  ------            --------------  -----  \n",
      " 0   children          21525 non-null  int64  \n",
      " 1   days_employed     19351 non-null  float64\n",
      " 2   dob_years         21525 non-null  int64  \n",
      " 3   education         21525 non-null  object \n",
      " 4   education_id      21525 non-null  int64  \n",
      " 5   family_status     21525 non-null  object \n",
      " 6   family_status_id  21525 non-null  int64  \n",
      " 7   gender            21525 non-null  object \n",
      " 8   income_type       21525 non-null  object \n",
      " 9   debt              21525 non-null  int64  \n",
      " 10  total_income      19351 non-null  float64\n",
      " 11  purpose           21525 non-null  object \n",
      "dtypes: float64(2), int64(5), object(5)\n",
      "memory usage: 2.0+ MB\n"
     ]
    }
   ],
   "source": [
    "data.info()"
   ]
  },
  {
   "cell_type": "markdown",
   "id": "17b66c4c",
   "metadata": {
    "deletable": false,
    "editable": false,
    "id": "333ec665"
   },
   "source": [
    "## Предобработка данных"
   ]
  },
  {
   "cell_type": "markdown",
   "id": "e17d1748",
   "metadata": {
    "deletable": false,
    "editable": false,
    "id": "02d92d53"
   },
   "source": [
    "### Удаление пропусков"
   ]
  },
  {
   "cell_type": "markdown",
   "id": "9dfef0db",
   "metadata": {
    "deletable": false,
    "editable": false,
    "id": "cd84967c"
   },
   "source": [
    "**Задание 4. Выведите количество пропущенных значений для каждого столбца. Используйте комбинацию двух методов.**"
   ]
  },
  {
   "cell_type": "code",
   "execution_count": 4,
   "id": "00fb3a2e",
   "metadata": {
    "deletable": false,
    "id": "7f9b2309",
    "outputId": "81f4d817-781c-465c-ed15-91ce4446810d"
   },
   "outputs": [
    {
     "data": {
      "text/plain": [
       "children               0\n",
       "days_employed       2174\n",
       "dob_years              0\n",
       "education              0\n",
       "education_id           0\n",
       "family_status          0\n",
       "family_status_id       0\n",
       "gender                 0\n",
       "income_type            0\n",
       "debt                   0\n",
       "total_income        2174\n",
       "purpose                0\n",
       "dtype: int64"
      ]
     },
     "execution_count": 4,
     "metadata": {},
     "output_type": "execute_result"
    }
   ],
   "source": [
    "data.isna().sum()"
   ]
  },
  {
   "cell_type": "markdown",
   "id": "d85049af",
   "metadata": {
    "deletable": false,
    "editable": false,
    "id": "db86e27b"
   },
   "source": [
    "**Задание 5. В двух столбцах есть пропущенные значения. Один из них — `days_employed`. Пропуски в этом столбце вы обработаете на следующем этапе. Другой столбец с пропущенными значениями — `total_income` — хранит данные о доходах. На сумму дохода сильнее всего влияет тип занятости, поэтому заполнить пропуски в этом столбце нужно медианным значением по каждому типу из столбца `income_type`. Например, у человека с типом занятости `сотрудник` пропуск в столбце `total_income` должен быть заполнен медианным доходом среди всех записей с тем же типом.**"
   ]
  },
  {
   "cell_type": "code",
   "execution_count": 5,
   "id": "a074b010",
   "metadata": {
    "deletable": false,
    "id": "42006a93"
   },
   "outputs": [],
   "source": [
    "for t in data['income_type'].unique():\n",
    "    data.loc[(data['income_type'] == t) & (data['total_income'].isna()), 'total_income'] = \\\n",
    "    data.loc[(data['income_type'] == t), 'total_income'].median()"
   ]
  },
  {
   "cell_type": "markdown",
   "id": "14499f07",
   "metadata": {
    "deletable": false,
    "editable": false,
    "id": "89da5ece"
   },
   "source": [
    "### Обработка аномальных значений"
   ]
  },
  {
   "cell_type": "markdown",
   "id": "6b8fdf57",
   "metadata": {
    "deletable": false,
    "editable": false,
    "id": "57964554"
   },
   "source": [
    "**Задание 6. В данных могут встречаться артефакты (аномалии) — значения, которые не отражают действительность и появились по какой-то ошибке. таким артефактом будет отрицательное количество дней трудового стажа в столбце `days_employed`. Для реальных данных это нормально. Обработайте значения в этом столбце: замените все отрицательные значения положительными с помощью метода `abs()`.**"
   ]
  },
  {
   "cell_type": "code",
   "execution_count": 6,
   "id": "c17abfc1",
   "metadata": {
    "deletable": false,
    "id": "f6f055bf"
   },
   "outputs": [],
   "source": [
    "data['days_employed'] = data['days_employed'].abs()"
   ]
  },
  {
   "cell_type": "markdown",
   "id": "6278e606",
   "metadata": {
    "deletable": false,
    "editable": false,
    "id": "6107dd2f"
   },
   "source": [
    "**Задание 7. Для каждого типа занятости выведите медианное значение трудового стажа `days_employed` в днях.**"
   ]
  },
  {
   "cell_type": "code",
   "execution_count": 7,
   "id": "e9442cf7",
   "metadata": {
    "deletable": false,
    "id": "85a5faf6",
    "outputId": "801ef80e-522b-4668-f34e-565af7432bcf"
   },
   "outputs": [
    {
     "data": {
      "text/plain": [
       "income_type\n",
       "безработный        366413.652744\n",
       "в декрете            3296.759962\n",
       "госслужащий          2689.368353\n",
       "компаньон            1547.382223\n",
       "пенсионер          365213.306266\n",
       "предприниматель       520.848083\n",
       "сотрудник            1574.202821\n",
       "студент               578.751554\n",
       "Name: days_employed, dtype: float64"
      ]
     },
     "execution_count": 7,
     "metadata": {},
     "output_type": "execute_result"
    }
   ],
   "source": [
    "data.groupby('income_type')['days_employed'].agg('median')"
   ]
  },
  {
   "cell_type": "markdown",
   "id": "fcd76e80",
   "metadata": {
    "deletable": false,
    "editable": false,
    "id": "38d1a030"
   },
   "source": [
    "У двух типов (безработные и пенсионеры) получатся аномально большие значения. Исправить такие значения сложно, поэтому оставьте их как есть. Тем более этот столбец не понадобится вам для исследования."
   ]
  },
  {
   "cell_type": "markdown",
   "id": "a7219f60",
   "metadata": {
    "deletable": false,
    "editable": false,
    "id": "d8a9f147"
   },
   "source": [
    "**Задание 8. Выведите перечень уникальных значений столбца `children`.**"
   ]
  },
  {
   "cell_type": "code",
   "execution_count": 8,
   "id": "cd2bbab5",
   "metadata": {
    "deletable": false,
    "id": "ef5056eb",
    "outputId": "6975b15c-7f95-4697-d16d-a0c79b657b03"
   },
   "outputs": [
    {
     "data": {
      "text/plain": [
       "array([ 1,  0,  3,  2, -1,  4, 20,  5])"
      ]
     },
     "execution_count": 8,
     "metadata": {},
     "output_type": "execute_result"
    }
   ],
   "source": [
    "data['children'].unique()"
   ]
  },
  {
   "cell_type": "markdown",
   "id": "1a0e868e",
   "metadata": {
    "deletable": false,
    "editable": false,
    "id": "40b9ebf2"
   },
   "source": [
    "**Задание 9. В столбце `children` есть два аномальных значения. Удалите строки, в которых встречаются такие аномальные значения из датафрейма `data`.**"
   ]
  },
  {
   "cell_type": "code",
   "execution_count": 9,
   "id": "b04444c3",
   "metadata": {
    "deletable": false,
    "id": "3ff9801d"
   },
   "outputs": [],
   "source": [
    "data = data[(data['children'] != -1) & (data['children'] != 20)]"
   ]
  },
  {
   "cell_type": "markdown",
   "id": "22fd8844",
   "metadata": {
    "deletable": false,
    "editable": false,
    "id": "bbc4d0ce"
   },
   "source": [
    "**Задание 10. Ещё раз выведите перечень уникальных значений столбца `children`, чтобы убедиться, что артефакты удалены.**"
   ]
  },
  {
   "cell_type": "code",
   "execution_count": 10,
   "id": "404e0349",
   "metadata": {
    "deletable": false,
    "id": "ad4fa8b7",
    "outputId": "b2097101-d49d-44d9-901b-32a65c9463d1"
   },
   "outputs": [
    {
     "data": {
      "text/plain": [
       "array([1, 0, 3, 2, 4, 5])"
      ]
     },
     "execution_count": 10,
     "metadata": {},
     "output_type": "execute_result"
    }
   ],
   "source": [
    "data['children'].unique()"
   ]
  },
  {
   "cell_type": "markdown",
   "id": "33291249",
   "metadata": {
    "deletable": false,
    "editable": false,
    "id": "75440b63"
   },
   "source": [
    "### Удаление пропусков (продолжение)"
   ]
  },
  {
   "cell_type": "markdown",
   "id": "de8bc929",
   "metadata": {
    "deletable": false,
    "editable": false,
    "id": "f4ea573f"
   },
   "source": [
    "**Задание 11. Заполните пропуски в столбце `days_employed` медианными значениями по каждого типа занятости `income_type`.**"
   ]
  },
  {
   "cell_type": "code",
   "execution_count": 11,
   "id": "aaf3e677",
   "metadata": {
    "deletable": false,
    "id": "af6b1a7e"
   },
   "outputs": [],
   "source": [
    "for t in data['income_type'].unique():\n",
    "    data.loc[(data['income_type'] == t) & (data['days_employed'].isna()), 'days_employed'] = \\\n",
    "    data.loc[(data['income_type'] == t), 'days_employed'].median()"
   ]
  },
  {
   "cell_type": "markdown",
   "id": "f5ca85b5",
   "metadata": {
    "deletable": false,
    "editable": false,
    "id": "2753f40d"
   },
   "source": [
    "**Задание 12. Убедитесь, что все пропуски заполнены. Проверьте себя и ещё раз выведите количество пропущенных значений для каждого столбца с помощью двух методов.**"
   ]
  },
  {
   "cell_type": "code",
   "execution_count": 12,
   "id": "4d0e251f",
   "metadata": {
    "deletable": false,
    "id": "55f78bc2",
    "outputId": "8da1e4e1-358e-4e87-98c9-f261bce0a7b2"
   },
   "outputs": [
    {
     "data": {
      "text/plain": [
       "children            0\n",
       "days_employed       0\n",
       "dob_years           0\n",
       "education           0\n",
       "education_id        0\n",
       "family_status       0\n",
       "family_status_id    0\n",
       "gender              0\n",
       "income_type         0\n",
       "debt                0\n",
       "total_income        0\n",
       "purpose             0\n",
       "dtype: int64"
      ]
     },
     "execution_count": 12,
     "metadata": {},
     "output_type": "execute_result"
    }
   ],
   "source": [
    "data.isna().sum()"
   ]
  },
  {
   "cell_type": "markdown",
   "id": "b364e7ee",
   "metadata": {
    "deletable": false,
    "editable": false,
    "id": "ddc81e43"
   },
   "source": [
    "### Изменение типов данных"
   ]
  },
  {
   "cell_type": "markdown",
   "id": "7fbb9696",
   "metadata": {
    "deletable": false,
    "editable": false,
    "id": "42d19d24"
   },
   "source": [
    "**Задание 13. Замените вещественный тип данных в столбце `total_income` на целочисленный с помощью метода `astype()`.**"
   ]
  },
  {
   "cell_type": "code",
   "execution_count": 13,
   "id": "10cd2667",
   "metadata": {
    "deletable": false,
    "id": "920b65ad"
   },
   "outputs": [],
   "source": [
    "data['total_income'] = data['total_income'].astype(int)"
   ]
  },
  {
   "cell_type": "markdown",
   "id": "b3e84fe1",
   "metadata": {
    "deletable": false,
    "editable": false,
    "id": "80c420ba"
   },
   "source": [
    "### Обработка дубликатов"
   ]
  },
  {
   "cell_type": "markdown",
   "id": "5d90416a",
   "metadata": {
    "deletable": false,
    "editable": false
   },
   "source": [
    "**Задание 14. Обработайте неявные дубликаты в столбце `education`. В этом столбце есть одни и те же значения, но записанные по-разному: с использованием заглавных и строчных букв. Приведите их к нижнему регистру. Проверьте остальные столбцы.**"
   ]
  },
  {
   "cell_type": "code",
   "execution_count": 14,
   "id": "07f707d7",
   "metadata": {
    "deletable": false
   },
   "outputs": [],
   "source": [
    "data['education'] = data['education'].str.lower()"
   ]
  },
  {
   "cell_type": "markdown",
   "id": "7363d109",
   "metadata": {
    "deletable": false,
    "editable": false,
    "id": "dc587695"
   },
   "source": [
    "**Задание 15. Выведите на экран количество строк-дубликатов в данных. Если такие строки присутствуют, удалите их.**"
   ]
  },
  {
   "cell_type": "code",
   "execution_count": 15,
   "id": "c2a17387",
   "metadata": {
    "deletable": false,
    "id": "3ee445e4",
    "outputId": "9684deba-1934-42d1-99e1-cda61740f822"
   },
   "outputs": [
    {
     "data": {
      "text/plain": [
       "71"
      ]
     },
     "execution_count": 15,
     "metadata": {},
     "output_type": "execute_result"
    }
   ],
   "source": [
    "data.duplicated().sum()"
   ]
  },
  {
   "cell_type": "code",
   "execution_count": 16,
   "id": "24afa1a7",
   "metadata": {
    "deletable": false,
    "id": "8575fe05"
   },
   "outputs": [],
   "source": [
    "data = data.drop_duplicates()"
   ]
  },
  {
   "cell_type": "markdown",
   "id": "5b105c6a",
   "metadata": {
    "deletable": false,
    "editable": false,
    "id": "9904cf55"
   },
   "source": [
    "### Категоризация данных"
   ]
  },
  {
   "cell_type": "markdown",
   "id": "f9d65867",
   "metadata": {
    "deletable": false,
    "editable": false,
    "id": "72fcc8a2"
   },
   "source": [
    "**Задание 16. На основании диапазонов, указанных ниже, создайте в датафрейме `data` столбец `total_income_category` с категориями:**\n",
    "\n",
    "- 0–30000 — `'E'`;\n",
    "- 30001–50000 — `'D'`;\n",
    "- 50001–200000 — `'C'`;\n",
    "- 200001–1000000 — `'B'`;\n",
    "- 1000001 и выше — `'A'`.\n",
    "\n",
    "\n",
    "**Например, кредитополучателю с доходом 25000 нужно назначить категорию `'E'`, а клиенту, получающему 235000, — `'B'`. Используйте собственную функцию с именем `categorize_income()` и метод `apply()`.**"
   ]
  },
  {
   "cell_type": "code",
   "execution_count": 17,
   "id": "c8a9d791",
   "metadata": {
    "deletable": false,
    "id": "e1771346"
   },
   "outputs": [],
   "source": [
    "def categorize_income(income):\n",
    "    try:\n",
    "        if 0 <= income <= 30000:\n",
    "            return 'E'\n",
    "        elif 30001 <= income <= 50000:\n",
    "            return 'D'\n",
    "        elif 50001 <= income <= 200000:\n",
    "            return 'C'\n",
    "        elif 200001 <= income <= 1000000:\n",
    "            return 'B'\n",
    "        elif income >= 1000001:\n",
    "            return 'A'\n",
    "    except:\n",
    "        pass"
   ]
  },
  {
   "cell_type": "code",
   "execution_count": 18,
   "id": "fb4e3bfd",
   "metadata": {
    "deletable": false,
    "id": "d5f3586d"
   },
   "outputs": [],
   "source": [
    "data['total_income_category'] = data['total_income'].apply(categorize_income)"
   ]
  },
  {
   "cell_type": "markdown",
   "id": "e0d70f14",
   "metadata": {
    "deletable": false,
    "editable": false,
    "id": "dde49b5c"
   },
   "source": [
    "**Задание 17. Выведите на экран перечень уникальных целей взятия кредита из столбца `purpose`.**"
   ]
  },
  {
   "cell_type": "code",
   "execution_count": 19,
   "id": "281c2079",
   "metadata": {
    "deletable": false,
    "id": "f67ce9b3",
    "outputId": "673c12d9-7d7e-4ae0-9812-c622c89dd244"
   },
   "outputs": [
    {
     "data": {
      "text/plain": [
       "array(['покупка жилья', 'приобретение автомобиля',\n",
       "       'дополнительное образование', 'сыграть свадьбу',\n",
       "       'операции с жильем', 'образование', 'на проведение свадьбы',\n",
       "       'покупка жилья для семьи', 'покупка недвижимости',\n",
       "       'покупка коммерческой недвижимости', 'покупка жилой недвижимости',\n",
       "       'строительство собственной недвижимости', 'недвижимость',\n",
       "       'строительство недвижимости', 'на покупку подержанного автомобиля',\n",
       "       'на покупку своего автомобиля',\n",
       "       'операции с коммерческой недвижимостью',\n",
       "       'строительство жилой недвижимости', 'жилье',\n",
       "       'операции со своей недвижимостью', 'автомобили',\n",
       "       'заняться образованием', 'сделка с подержанным автомобилем',\n",
       "       'получение образования', 'автомобиль', 'свадьба',\n",
       "       'получение дополнительного образования', 'покупка своего жилья',\n",
       "       'операции с недвижимостью', 'получение высшего образования',\n",
       "       'свой автомобиль', 'сделка с автомобилем',\n",
       "       'профильное образование', 'высшее образование',\n",
       "       'покупка жилья для сдачи', 'на покупку автомобиля', 'ремонт жилью',\n",
       "       'заняться высшим образованием'], dtype=object)"
      ]
     },
     "execution_count": 19,
     "metadata": {},
     "output_type": "execute_result"
    }
   ],
   "source": [
    "data['purpose'].unique()"
   ]
  },
  {
   "cell_type": "markdown",
   "id": "4fb02388",
   "metadata": {
    "deletable": false,
    "editable": false,
    "id": "85d0aef0"
   },
   "source": [
    "**Задание 18. Создайте функцию, которая на основании данных из столбца `purpose` сформирует новый столбец `purpose_category`, в который войдут следующие категории:**\n",
    "\n",
    "- `'операции с автомобилем'`,\n",
    "- `'операции с недвижимостью'`,\n",
    "- `'проведение свадьбы'`,\n",
    "- `'получение образования'`.\n",
    "\n",
    "**Например, если в столбце `purpose` находится подстрока `'на покупку автомобиля'`, то в столбце `purpose_category` должна появиться строка `'операции с автомобилем'`.**\n",
    "\n",
    "**Используйте собственную функцию с именем `categorize_purpose()` и метод `apply()`. Изучите данные в столбце `purpose` и определите, какие подстроки помогут вам правильно определить категорию.**"
   ]
  },
  {
   "cell_type": "code",
   "execution_count": 20,
   "id": "9d41786b",
   "metadata": {
    "deletable": false,
    "id": "e149fab4"
   },
   "outputs": [],
   "source": [
    "def categorize_purpose(row):\n",
    "    try:\n",
    "        if 'автом' in row:\n",
    "            return 'операции с автомобилем'\n",
    "        elif 'жил' in row or 'недвиж' in row:\n",
    "            return 'операции с недвижимостью'\n",
    "        elif 'свад' in row:\n",
    "            return 'проведение свадьбы'\n",
    "        elif 'образов' in row:\n",
    "            return 'получение образования'\n",
    "    except:\n",
    "        return 'нет категории'"
   ]
  },
  {
   "cell_type": "code",
   "execution_count": 21,
   "id": "57741b8c",
   "metadata": {
    "deletable": false,
    "id": "bf36e69b"
   },
   "outputs": [],
   "source": [
    "data['purpose_category'] = data['purpose'].apply(categorize_purpose)"
   ]
  },
  {
   "cell_type": "markdown",
   "id": "c1283444",
   "metadata": {
    "deletable": false,
    "editable": false,
    "id": "09b242bf"
   },
   "source": [
    "### Шаг 3. Исследуйте данные и ответьте на вопросы"
   ]
  },
  {
   "cell_type": "markdown",
   "id": "9387f3a2",
   "metadata": {
    "deletable": false,
    "editable": false,
    "id": "c5d66278"
   },
   "source": [
    "#### 3.1 Есть ли зависимость между количеством детей и возвратом кредита в срок?"
   ]
  },
  {
   "cell_type": "code",
   "execution_count": 22,
   "id": "26b150b9",
   "metadata": {
    "deletable": false,
    "id": "2cacfc4a"
   },
   "outputs": [
    {
     "name": "stdout",
     "output_type": "stream",
     "text": [
      "           debt         problem\n",
      "          count   sum          \n",
      "children                       \n",
      "0         14091  1063  0.075438\n",
      "1          4808   444  0.092346\n",
      "2          2052   194  0.094542\n",
      "3           330    27  0.081818\n",
      "4            41     4  0.097561\n",
      "5             9     0  0.000000\n"
     ]
    }
   ],
   "source": [
    "children_debt=data[['children','debt']]\n",
    "children_debt_grouped = children_debt.groupby('children').agg({'debt': ['count', 'sum']})\n",
    "children_debt_grouped['problem']=children_debt_grouped['debt']['sum']/children_debt_grouped['debt']['count']\n",
    "print(children_debt_grouped)"
   ]
  },
  {
   "cell_type": "markdown",
   "id": "0a596c8d",
   "metadata": {
    "deletable": false,
    "id": "3a6b99ec"
   },
   "source": [
    "**Вывод:** Количество детей влияет незначительно на возврат кредита в срок(в зависимости от количества доля просрочек варьируется от 9,2% до 9,8%). Показательными являются случаи с 3 детьми, т.к. по ним процент просрочек составляет 8,2%, но группа, в виду малого количества, является не совсем показательной. Более интересным фактом является то, что доля просрочек у семей без детей ниже чем у семей сдетьми на 1,5%"
   ]
  },
  {
   "cell_type": "markdown",
   "id": "ee7bfadb",
   "metadata": {
    "deletable": false,
    "editable": false,
    "id": "97be82ca"
   },
   "source": [
    "#### 3.2 Есть ли зависимость между семейным положением и возвратом кредита в срок?"
   ]
  },
  {
   "cell_type": "code",
   "execution_count": 26,
   "id": "3233b90e",
   "metadata": {
    "deletable": false,
    "id": "dc3f7ee8"
   },
   "outputs": [
    {
     "name": "stdout",
     "output_type": "stream",
     "text": [
      "                        debt        problem\n",
      "                       count  sum          \n",
      "family_status                              \n",
      "вдовец / вдова           951   63  0.066246\n",
      "в разводе               1189   84  0.070648\n",
      "женат / замужем        12261  927  0.075606\n",
      "гражданский брак        4134  385  0.093130\n",
      "Не женат / не замужем   2796  273  0.097639\n"
     ]
    }
   ],
   "source": [
    "family_debt=data[['family_status','debt']]\n",
    "family_debt_grouped = family_debt.groupby('family_status').agg({'debt': ['count', 'sum']})\n",
    "family_debt_grouped['problem']=family_debt_grouped['debt']['sum']/family_debt_grouped['debt']['count']\n",
    "print(family_debt_grouped.sort_values(by='problem'))"
   ]
  },
  {
   "cell_type": "markdown",
   "id": "3e651f6d",
   "metadata": {
    "deletable": false,
    "id": "1cef7837"
   },
   "source": [
    "**Вывод:** Существует зависимость между семейным положением и возвратом кредита в срок. Люди, с семейным положением \"вдовец / вдова\", \"в разводе\" и \"женат / замужем\" значительно реже опаздывают в возврате кредитов, чем люди, состоязие в гражданском браке или не женатые/не замужем"
   ]
  },
  {
   "cell_type": "markdown",
   "id": "9be530d5",
   "metadata": {
    "deletable": false,
    "editable": false,
    "id": "1e8b2fca"
   },
   "source": [
    "#### 3.3 Есть ли зависимость между уровнем дохода и возвратом кредита в срок?"
   ]
  },
  {
   "cell_type": "code",
   "execution_count": 27,
   "id": "f8cf3038",
   "metadata": {
    "deletable": false,
    "id": "cd7e3720"
   },
   "outputs": [
    {
     "name": "stdout",
     "output_type": "stream",
     "text": [
      "                        debt         problem\n",
      "                       count   sum          \n",
      "total_income_category                       \n",
      "A                         25     2  0.080000\n",
      "B                       5014   354  0.070602\n",
      "C                      15921  1353  0.084982\n",
      "D                        349    21  0.060172\n",
      "E                         22     2  0.090909\n"
     ]
    }
   ],
   "source": [
    "income_debt=data[['total_income_category','debt']]\n",
    "income_debt_grouped = income_debt.groupby('total_income_category').agg({'debt': ['count', 'sum']})\n",
    "income_debt_grouped['problem']=income_debt_grouped['debt']['sum']/income_debt_grouped['debt']['count']\n",
    "print(income_debt_grouped.sort_values(by='total_income_category'))# Ваш код будет здесь. Вы можете создавать новые ячейки."
   ]
  },
  {
   "cell_type": "markdown",
   "id": "bd6a80f6",
   "metadata": {
    "deletable": false,
    "id": "e8593def"
   },
   "source": [
    "**Вывод:** При исключении групп доходов А, D и Е как не показательных для выборки по причине наименьшего числа заёмщиков в общей массе (составляют менее 1,8% в общей массе от заёмщиков), можно установить, что с ростом уровня дохода доля кредитов, возвращаемых не в срок, снижается."
   ]
  },
  {
   "cell_type": "markdown",
   "id": "50ad55da",
   "metadata": {
    "deletable": false,
    "editable": false,
    "id": "99ecbd1f"
   },
   "source": [
    "#### 3.4 Как разные цели кредита влияют на его возврат в срок?"
   ]
  },
  {
   "cell_type": "code",
   "execution_count": 28,
   "id": "3032485d",
   "metadata": {
    "deletable": false,
    "id": "2b687290"
   },
   "outputs": [
    {
     "name": "stdout",
     "output_type": "stream",
     "text": [
      "                           debt        problem\n",
      "                          count  sum          \n",
      "purpose_category                              \n",
      "операции с недвижимостью  10751  780  0.072551\n",
      "проведение свадьбы         2313  183  0.079118\n",
      "получение образования      3988  369  0.092528\n",
      "операции с автомобилем     4279  400  0.093480\n"
     ]
    }
   ],
   "source": [
    "purpose_category_debt=data[['purpose_category','debt']]\n",
    "purpose_category_debt_grouped = purpose_category_debt.groupby('purpose_category').agg({'debt': ['count', 'sum']})\n",
    "purpose_category_debt_grouped['problem']=purpose_category_debt_grouped['debt']['sum']/purpose_category_debt_grouped['debt']['count']\n",
    "print(purpose_category_debt_grouped.sort_values(by='problem'))# Ваш код будет здесь. Вы можете создавать новые ячейки."
   ]
  },
  {
   "cell_type": "markdown",
   "id": "0f692ccc",
   "metadata": {
    "deletable": false,
    "id": "b4bb2ce6"
   },
   "source": [
    "**Вывод:** Цель кредита напрямую влияет на вероятность того, что он будет вернут вовремя. Наиболее \"пунктуальными\" в части возврата являются кредиты, взятые на осуществление операций с недвижимостью(средний % задержек по выплатам 7,2%) и проведение свадьбы(средний % задержек по выплатам 7,9%). Вероятность задержек в возврате кредитов, взятых на получения образования и операции с автомобилем намного выше и составляет 9,3%"
   ]
  },
  {
   "cell_type": "markdown",
   "id": "510759d9",
   "metadata": {
    "deletable": false,
    "editable": false,
    "id": "09c3ac4c"
   },
   "source": [
    "#### 3.5 Приведите возможные причины появления пропусков в исходных данных."
   ]
  },
  {
   "cell_type": "markdown",
   "id": "9f79d9a3",
   "metadata": {
    "deletable": false,
    "id": "9da2ceda"
   },
   "source": [
    "*Ответ:* \n",
    "1. Некорректное заполнение/незаполнение полей форм\n",
    "2. Ошибки в совместимости различных систем (например, CRM и 1С)\n",
    "3. Ошибки выгрузки из источника (неправильные запросы)\n",
    "4. Настройки ПО (например, региональные стандарты на источнике и в системе отличаются)\n",
    "5. Некорректные таблицы \"перевода данных\"(отсутсвие \"ключевых полей\" для увязки разных систем)\n",
    "6. Неверно сформированные запросы со стороны аналитики"
   ]
  },
  {
   "cell_type": "markdown",
   "id": "3229ad86",
   "metadata": {
    "deletable": false,
    "editable": false,
    "id": "7b0487d6"
   },
   "source": [
    "#### 3.6 Объясните, почему заполнить пропуски медианным значением — лучшее решение для количественных переменных."
   ]
  },
  {
   "cell_type": "markdown",
   "id": "511bbe11",
   "metadata": {
    "deletable": false,
    "id": "7ecf2b8e"
   },
   "source": [
    "*Ответ:* Потому что медиана - это среднее значение набора в выборке данных и она наиболее \"защищена\" от \"выбросов\" данных, которые могут повиять на аналитику данных(датасета) в дальнейшем"
   ]
  },
  {
   "cell_type": "markdown",
   "id": "94822acc",
   "metadata": {
    "deletable": false,
    "editable": false,
    "id": "6db5255a"
   },
   "source": [
    "### Шаг 4: общий вывод."
   ]
  },
  {
   "cell_type": "markdown",
   "id": "6af5ec56",
   "metadata": {},
   "source": [
    "На основании предоставленных данных были определены критерии скорринга потенциальных клиентов-кредитозаёмщиков, которые могут повлиять на вероятность возврата кредитов в срок. Ниже приведена их характеристика в зависимости от того, на что стоит обращать внимание в первую очередь.\n",
    "1. Семейное положение:\n",
    "Существует зависимость между семейным положением и возвратом кредита в срок. \n",
    "Люди с семейным положением \"вдовец / вдова\" возвращают кредит в срок с наименьшим показателем опозданий - 6,62% от общего числа анализируемых случаев\n",
    "В свою очередь, люди с семейным положением \"Не женат / не замужем\" опаздывают намного чаще с возвратом - 9,76% от общего числа анализируемых случаев\n",
    "2. Цель кредита:\n",
    "Цель кредита напрямую влияет на вероятность того, что он будет вернут вовремя. \n",
    "Наиболее \"пунктуальными\" в части возврата являются кредиты, взятые на осуществление операций с недвижимостью(средний % задержек по выплатам 7,26%)\n",
    "Вероятность задержек в возврате кредитов, используемых операций с автомобилями является самой высокой и составляет 9,34%\n",
    "3. Наличие детей и их количество:\n",
    "При отсутствии детей вероятность возврата кредита в срок в среднем выше и составляет в среднем 7,54%\n",
    "С появлением детей растёт риск возврата кредита не в срок. \n",
    "Наиболее низкая вероятность возврата кредита не в срок совйственна семьям с тремя детьми и составляет - 8,18% в среднем, но в данной ситуации нужно учесть, что количество семей с такой характеристикой в выборке незначительное и составляет всего 1,5% от общей массы кредитозаёмщиков. \n",
    "Аналогичная ситуация и для семей с 4 детьми: несмотря на высокие риски в сроках несвоевременного возврата (9,75% в среднем от выборки), количество подобных семей в выборке менее 0,2%, пэтому нельзя точно быть уверенным в подобной статистике.\n",
    "Полее показательными группами, в части высоких рисков являются семьи с 1 ребёнком (риск опозданий в среднем 9,23%) и с 2 детьми (риск 9,45%)\n",
    "4. Уровень дохода:\n",
    "При исключении групп доходов А, D и Е как не показательных для выборки по причине наименьшего числа заёмщиков в общей массе (составляют менее 1,8% в общей массе от заёмщиков), можно установить, что с ростом уровня дохода доля кредитов, возвращаемых не в срок, снижается.\n",
    "Для категории B, как самой менее подверженной рискам, он составляет 7,06%\n",
    "Для категории С, как самой более подверженнной рискам - 8,49%\n",
    "В целом, по данному критерию, рекомендуется пересмотреть текущее разбиение на подгруппы."
   ]
  },
  {
   "cell_type": "markdown",
   "id": "e1cff6af",
   "metadata": {
    "deletable": false,
    "id": "bad65432"
   },
   "source": []
  }
 ],
 "metadata": {
  "ExecuteTimeLog": [
   {
    "duration": 45,
    "start_time": "2024-03-25T17:25:10.656Z"
   },
   {
    "duration": 453,
    "start_time": "2024-03-25T17:25:23.081Z"
   },
   {
    "duration": 21,
    "start_time": "2024-03-25T17:25:23.536Z"
   },
   {
    "duration": 13,
    "start_time": "2024-03-25T17:25:23.559Z"
   },
   {
    "duration": 16,
    "start_time": "2024-03-25T17:25:23.574Z"
   },
   {
    "duration": 35,
    "start_time": "2024-03-25T17:25:23.593Z"
   },
   {
    "duration": 4,
    "start_time": "2024-03-25T17:25:23.630Z"
   },
   {
    "duration": 12,
    "start_time": "2024-03-25T17:25:23.635Z"
   },
   {
    "duration": 13,
    "start_time": "2024-03-25T17:25:23.648Z"
   },
   {
    "duration": 6,
    "start_time": "2024-03-25T17:25:23.663Z"
   },
   {
    "duration": 6,
    "start_time": "2024-03-25T17:25:23.670Z"
   },
   {
    "duration": 35,
    "start_time": "2024-03-25T17:25:23.677Z"
   },
   {
    "duration": 10,
    "start_time": "2024-03-25T17:25:23.713Z"
   },
   {
    "duration": 3,
    "start_time": "2024-03-25T17:25:23.725Z"
   },
   {
    "duration": 11,
    "start_time": "2024-03-25T17:25:23.759Z"
   },
   {
    "duration": 29,
    "start_time": "2024-03-25T17:25:23.772Z"
   },
   {
    "duration": 14,
    "start_time": "2024-03-25T17:25:23.803Z"
   },
   {
    "duration": 4,
    "start_time": "2024-03-25T17:25:23.818Z"
   },
   {
    "duration": 12,
    "start_time": "2024-03-25T17:25:23.823Z"
   },
   {
    "duration": 7,
    "start_time": "2024-03-25T17:25:23.836Z"
   },
   {
    "duration": 15,
    "start_time": "2024-03-25T17:25:23.844Z"
   },
   {
    "duration": 19,
    "start_time": "2024-03-25T17:25:23.861Z"
   },
   {
    "duration": 15,
    "start_time": "2024-03-25T17:25:23.881Z"
   },
   {
    "duration": 3,
    "start_time": "2024-03-25T17:25:23.897Z"
   },
   {
    "duration": 5,
    "start_time": "2024-03-25T17:25:23.901Z"
   },
   {
    "duration": 3,
    "start_time": "2024-03-25T17:25:23.907Z"
   },
   {
    "duration": 464,
    "start_time": "2024-03-25T17:35:33.666Z"
   },
   {
    "duration": 20,
    "start_time": "2024-03-25T17:35:34.132Z"
   },
   {
    "duration": 15,
    "start_time": "2024-03-25T17:35:34.154Z"
   },
   {
    "duration": 9,
    "start_time": "2024-03-25T17:35:34.171Z"
   },
   {
    "duration": 44,
    "start_time": "2024-03-25T17:35:34.182Z"
   },
   {
    "duration": 3,
    "start_time": "2024-03-25T17:35:34.227Z"
   },
   {
    "duration": 8,
    "start_time": "2024-03-25T17:35:34.232Z"
   },
   {
    "duration": 4,
    "start_time": "2024-03-25T17:35:34.241Z"
   },
   {
    "duration": 7,
    "start_time": "2024-03-25T17:35:34.259Z"
   },
   {
    "duration": 21,
    "start_time": "2024-03-25T17:35:34.267Z"
   },
   {
    "duration": 34,
    "start_time": "2024-03-25T17:35:34.289Z"
   },
   {
    "duration": 9,
    "start_time": "2024-03-25T17:35:34.324Z"
   },
   {
    "duration": 4,
    "start_time": "2024-03-25T17:35:34.334Z"
   },
   {
    "duration": 19,
    "start_time": "2024-03-25T17:35:34.340Z"
   },
   {
    "duration": 17,
    "start_time": "2024-03-25T17:35:34.361Z"
   },
   {
    "duration": 15,
    "start_time": "2024-03-25T17:35:34.380Z"
   },
   {
    "duration": 3,
    "start_time": "2024-03-25T17:35:34.396Z"
   },
   {
    "duration": 11,
    "start_time": "2024-03-25T17:35:34.401Z"
   },
   {
    "duration": 5,
    "start_time": "2024-03-25T17:35:34.414Z"
   },
   {
    "duration": 3,
    "start_time": "2024-03-25T17:35:34.422Z"
   },
   {
    "duration": 34,
    "start_time": "2024-03-25T17:35:34.427Z"
   },
   {
    "duration": 58,
    "start_time": "2024-03-25T17:35:34.463Z"
   },
   {
    "duration": 0,
    "start_time": "2024-03-25T17:35:34.523Z"
   },
   {
    "duration": 0,
    "start_time": "2024-03-25T17:35:34.524Z"
   },
   {
    "duration": 0,
    "start_time": "2024-03-25T17:35:34.526Z"
   },
   {
    "duration": 458,
    "start_time": "2024-03-25T17:35:51.496Z"
   },
   {
    "duration": 25,
    "start_time": "2024-03-25T17:35:51.956Z"
   },
   {
    "duration": 28,
    "start_time": "2024-03-25T17:35:51.982Z"
   },
   {
    "duration": 11,
    "start_time": "2024-03-25T17:35:52.012Z"
   },
   {
    "duration": 46,
    "start_time": "2024-03-25T17:35:52.025Z"
   },
   {
    "duration": 3,
    "start_time": "2024-03-25T17:35:52.073Z"
   },
   {
    "duration": 22,
    "start_time": "2024-03-25T17:35:52.077Z"
   },
   {
    "duration": 18,
    "start_time": "2024-03-25T17:35:52.100Z"
   },
   {
    "duration": 7,
    "start_time": "2024-03-25T17:35:52.119Z"
   },
   {
    "duration": 3,
    "start_time": "2024-03-25T17:35:52.128Z"
   },
   {
    "duration": 33,
    "start_time": "2024-03-25T17:35:52.133Z"
   },
   {
    "duration": 9,
    "start_time": "2024-03-25T17:35:52.168Z"
   },
   {
    "duration": 6,
    "start_time": "2024-03-25T17:35:52.178Z"
   },
   {
    "duration": 29,
    "start_time": "2024-03-25T17:35:52.186Z"
   },
   {
    "duration": 31,
    "start_time": "2024-03-25T17:35:52.216Z"
   },
   {
    "duration": 16,
    "start_time": "2024-03-25T17:35:52.248Z"
   },
   {
    "duration": 3,
    "start_time": "2024-03-25T17:35:52.265Z"
   },
   {
    "duration": 13,
    "start_time": "2024-03-25T17:35:52.269Z"
   },
   {
    "duration": 7,
    "start_time": "2024-03-25T17:35:52.284Z"
   },
   {
    "duration": 13,
    "start_time": "2024-03-25T17:35:52.292Z"
   },
   {
    "duration": 11,
    "start_time": "2024-03-25T17:35:52.306Z"
   },
   {
    "duration": 60,
    "start_time": "2024-03-25T17:35:52.318Z"
   },
   {
    "duration": 0,
    "start_time": "2024-03-25T17:35:52.379Z"
   },
   {
    "duration": 0,
    "start_time": "2024-03-25T17:35:52.381Z"
   },
   {
    "duration": 0,
    "start_time": "2024-03-25T17:35:52.383Z"
   },
   {
    "duration": 483,
    "start_time": "2024-03-25T17:36:15.468Z"
   },
   {
    "duration": 22,
    "start_time": "2024-03-25T17:36:15.953Z"
   },
   {
    "duration": 17,
    "start_time": "2024-03-25T17:36:15.977Z"
   },
   {
    "duration": 13,
    "start_time": "2024-03-25T17:36:15.996Z"
   },
   {
    "duration": 69,
    "start_time": "2024-03-25T17:36:16.011Z"
   },
   {
    "duration": 4,
    "start_time": "2024-03-25T17:36:16.081Z"
   },
   {
    "duration": 8,
    "start_time": "2024-03-25T17:36:16.087Z"
   },
   {
    "duration": 4,
    "start_time": "2024-03-25T17:36:16.097Z"
   },
   {
    "duration": 8,
    "start_time": "2024-03-25T17:36:16.103Z"
   },
   {
    "duration": 5,
    "start_time": "2024-03-25T17:36:16.113Z"
   },
   {
    "duration": 63,
    "start_time": "2024-03-25T17:36:16.119Z"
   },
   {
    "duration": 9,
    "start_time": "2024-03-25T17:36:16.184Z"
   },
   {
    "duration": 16,
    "start_time": "2024-03-25T17:36:16.194Z"
   },
   {
    "duration": 15,
    "start_time": "2024-03-25T17:36:16.213Z"
   },
   {
    "duration": 18,
    "start_time": "2024-03-25T17:36:16.230Z"
   },
   {
    "duration": 26,
    "start_time": "2024-03-25T17:36:16.249Z"
   },
   {
    "duration": 3,
    "start_time": "2024-03-25T17:36:16.277Z"
   },
   {
    "duration": 21,
    "start_time": "2024-03-25T17:36:16.281Z"
   },
   {
    "duration": 5,
    "start_time": "2024-03-25T17:36:16.304Z"
   },
   {
    "duration": 3,
    "start_time": "2024-03-25T17:36:16.310Z"
   },
   {
    "duration": 10,
    "start_time": "2024-03-25T17:36:16.314Z"
   },
   {
    "duration": 68,
    "start_time": "2024-03-25T17:36:16.325Z"
   },
   {
    "duration": 0,
    "start_time": "2024-03-25T17:36:16.394Z"
   },
   {
    "duration": 0,
    "start_time": "2024-03-25T17:36:16.395Z"
   },
   {
    "duration": 0,
    "start_time": "2024-03-25T17:36:16.396Z"
   },
   {
    "duration": 469,
    "start_time": "2024-03-25T17:36:40.659Z"
   },
   {
    "duration": 22,
    "start_time": "2024-03-25T17:36:41.131Z"
   },
   {
    "duration": 15,
    "start_time": "2024-03-25T17:36:41.154Z"
   },
   {
    "duration": 20,
    "start_time": "2024-03-25T17:36:41.170Z"
   },
   {
    "duration": 35,
    "start_time": "2024-03-25T17:36:41.192Z"
   },
   {
    "duration": 4,
    "start_time": "2024-03-25T17:36:41.228Z"
   },
   {
    "duration": 13,
    "start_time": "2024-03-25T17:36:41.233Z"
   },
   {
    "duration": 12,
    "start_time": "2024-03-25T17:36:41.247Z"
   },
   {
    "duration": 6,
    "start_time": "2024-03-25T17:36:41.260Z"
   },
   {
    "duration": 5,
    "start_time": "2024-03-25T17:36:41.268Z"
   },
   {
    "duration": 39,
    "start_time": "2024-03-25T17:36:41.274Z"
   },
   {
    "duration": 10,
    "start_time": "2024-03-25T17:36:41.314Z"
   },
   {
    "duration": 3,
    "start_time": "2024-03-25T17:36:41.325Z"
   },
   {
    "duration": 31,
    "start_time": "2024-03-25T17:36:41.331Z"
   },
   {
    "duration": 19,
    "start_time": "2024-03-25T17:36:41.364Z"
   },
   {
    "duration": 15,
    "start_time": "2024-03-25T17:36:41.385Z"
   },
   {
    "duration": 3,
    "start_time": "2024-03-25T17:36:41.402Z"
   },
   {
    "duration": 14,
    "start_time": "2024-03-25T17:36:41.406Z"
   },
   {
    "duration": 5,
    "start_time": "2024-03-25T17:36:41.421Z"
   },
   {
    "duration": 3,
    "start_time": "2024-03-25T17:36:41.428Z"
   },
   {
    "duration": 32,
    "start_time": "2024-03-25T17:36:41.433Z"
   },
   {
    "duration": 67,
    "start_time": "2024-03-25T17:36:41.467Z"
   },
   {
    "duration": 0,
    "start_time": "2024-03-25T17:36:41.536Z"
   },
   {
    "duration": 0,
    "start_time": "2024-03-25T17:36:41.537Z"
   },
   {
    "duration": 0,
    "start_time": "2024-03-25T17:36:41.558Z"
   },
   {
    "duration": 465,
    "start_time": "2024-03-25T17:43:51.964Z"
   },
   {
    "duration": 22,
    "start_time": "2024-03-25T17:43:52.431Z"
   },
   {
    "duration": 27,
    "start_time": "2024-03-25T17:43:52.454Z"
   },
   {
    "duration": 19,
    "start_time": "2024-03-25T17:43:52.483Z"
   },
   {
    "duration": 33,
    "start_time": "2024-03-25T17:43:52.505Z"
   },
   {
    "duration": 4,
    "start_time": "2024-03-25T17:43:52.540Z"
   },
   {
    "duration": 23,
    "start_time": "2024-03-25T17:43:52.545Z"
   },
   {
    "duration": 5,
    "start_time": "2024-03-25T17:43:52.570Z"
   },
   {
    "duration": 9,
    "start_time": "2024-03-25T17:43:52.577Z"
   },
   {
    "duration": 4,
    "start_time": "2024-03-25T17:43:52.588Z"
   },
   {
    "duration": 34,
    "start_time": "2024-03-25T17:43:52.594Z"
   },
   {
    "duration": 30,
    "start_time": "2024-03-25T17:43:52.630Z"
   },
   {
    "duration": 5,
    "start_time": "2024-03-25T17:43:52.661Z"
   },
   {
    "duration": 11,
    "start_time": "2024-03-25T17:43:52.669Z"
   },
   {
    "duration": 20,
    "start_time": "2024-03-25T17:43:52.682Z"
   },
   {
    "duration": 17,
    "start_time": "2024-03-25T17:43:52.704Z"
   },
   {
    "duration": 37,
    "start_time": "2024-03-25T17:43:52.722Z"
   },
   {
    "duration": 15,
    "start_time": "2024-03-25T17:43:52.760Z"
   },
   {
    "duration": 5,
    "start_time": "2024-03-25T17:43:52.776Z"
   },
   {
    "duration": 3,
    "start_time": "2024-03-25T17:43:52.782Z"
   },
   {
    "duration": 13,
    "start_time": "2024-03-25T17:43:52.787Z"
   },
   {
    "duration": 132,
    "start_time": "2024-03-25T17:43:52.802Z"
   },
   {
    "duration": 0,
    "start_time": "2024-03-25T17:43:52.936Z"
   },
   {
    "duration": 0,
    "start_time": "2024-03-25T17:43:52.937Z"
   },
   {
    "duration": 0,
    "start_time": "2024-03-25T17:43:52.938Z"
   },
   {
    "duration": 492,
    "start_time": "2024-03-25T17:44:14.647Z"
   },
   {
    "duration": 23,
    "start_time": "2024-03-25T17:44:15.141Z"
   },
   {
    "duration": 29,
    "start_time": "2024-03-25T17:44:15.165Z"
   },
   {
    "duration": 30,
    "start_time": "2024-03-25T17:44:15.196Z"
   },
   {
    "duration": 52,
    "start_time": "2024-03-25T17:44:15.229Z"
   },
   {
    "duration": 51,
    "start_time": "2024-03-25T17:44:15.283Z"
   },
   {
    "duration": 41,
    "start_time": "2024-03-25T17:44:15.336Z"
   },
   {
    "duration": 28,
    "start_time": "2024-03-25T17:44:15.379Z"
   },
   {
    "duration": 46,
    "start_time": "2024-03-25T17:44:15.408Z"
   },
   {
    "duration": 50,
    "start_time": "2024-03-25T17:44:15.456Z"
   },
   {
    "duration": 51,
    "start_time": "2024-03-25T17:44:15.508Z"
   },
   {
    "duration": 10,
    "start_time": "2024-03-25T17:44:15.560Z"
   },
   {
    "duration": 26,
    "start_time": "2024-03-25T17:44:15.571Z"
   },
   {
    "duration": 47,
    "start_time": "2024-03-25T17:44:15.599Z"
   },
   {
    "duration": 62,
    "start_time": "2024-03-25T17:44:15.647Z"
   },
   {
    "duration": 36,
    "start_time": "2024-03-25T17:44:15.711Z"
   },
   {
    "duration": 8,
    "start_time": "2024-03-25T17:44:15.749Z"
   },
   {
    "duration": 29,
    "start_time": "2024-03-25T17:44:15.758Z"
   },
   {
    "duration": 9,
    "start_time": "2024-03-25T17:44:15.789Z"
   },
   {
    "duration": 5,
    "start_time": "2024-03-25T17:44:15.799Z"
   },
   {
    "duration": 10,
    "start_time": "2024-03-25T17:44:15.805Z"
   },
   {
    "duration": 1459,
    "start_time": "2024-03-25T17:44:15.816Z"
   },
   {
    "duration": 0,
    "start_time": "2024-03-25T17:44:17.277Z"
   },
   {
    "duration": 0,
    "start_time": "2024-03-25T17:44:17.278Z"
   },
   {
    "duration": 0,
    "start_time": "2024-03-25T17:44:17.278Z"
   },
   {
    "duration": 451,
    "start_time": "2024-03-25T17:45:04.696Z"
   },
   {
    "duration": 22,
    "start_time": "2024-03-25T17:45:05.149Z"
   },
   {
    "duration": 21,
    "start_time": "2024-03-25T17:45:05.172Z"
   },
   {
    "duration": 21,
    "start_time": "2024-03-25T17:45:05.195Z"
   },
   {
    "duration": 43,
    "start_time": "2024-03-25T17:45:05.218Z"
   },
   {
    "duration": 3,
    "start_time": "2024-03-25T17:45:05.262Z"
   },
   {
    "duration": 15,
    "start_time": "2024-03-25T17:45:05.267Z"
   },
   {
    "duration": 22,
    "start_time": "2024-03-25T17:45:05.283Z"
   },
   {
    "duration": 22,
    "start_time": "2024-03-25T17:45:05.307Z"
   },
   {
    "duration": 35,
    "start_time": "2024-03-25T17:45:05.330Z"
   },
   {
    "duration": 58,
    "start_time": "2024-03-25T17:45:05.367Z"
   },
   {
    "duration": 9,
    "start_time": "2024-03-25T17:45:05.426Z"
   },
   {
    "duration": 25,
    "start_time": "2024-03-25T17:45:05.437Z"
   },
   {
    "duration": 22,
    "start_time": "2024-03-25T17:45:05.465Z"
   },
   {
    "duration": 48,
    "start_time": "2024-03-25T17:45:05.488Z"
   },
   {
    "duration": 45,
    "start_time": "2024-03-25T17:45:05.537Z"
   },
   {
    "duration": 3,
    "start_time": "2024-03-25T17:45:05.584Z"
   },
   {
    "duration": 31,
    "start_time": "2024-03-25T17:45:05.589Z"
   },
   {
    "duration": 19,
    "start_time": "2024-03-25T17:45:05.621Z"
   },
   {
    "duration": 11,
    "start_time": "2024-03-25T17:45:05.642Z"
   },
   {
    "duration": 41,
    "start_time": "2024-03-25T17:45:05.654Z"
   },
   {
    "duration": 75,
    "start_time": "2024-03-25T17:45:05.696Z"
   },
   {
    "duration": 0,
    "start_time": "2024-03-25T17:45:05.773Z"
   },
   {
    "duration": 0,
    "start_time": "2024-03-25T17:45:05.774Z"
   },
   {
    "duration": 0,
    "start_time": "2024-03-25T17:45:05.776Z"
   },
   {
    "duration": 463,
    "start_time": "2024-03-25T17:45:41.926Z"
   },
   {
    "duration": 21,
    "start_time": "2024-03-25T17:45:42.391Z"
   },
   {
    "duration": 16,
    "start_time": "2024-03-25T17:45:42.413Z"
   },
   {
    "duration": 9,
    "start_time": "2024-03-25T17:45:42.430Z"
   },
   {
    "duration": 46,
    "start_time": "2024-03-25T17:45:42.441Z"
   },
   {
    "duration": 3,
    "start_time": "2024-03-25T17:45:42.489Z"
   },
   {
    "duration": 12,
    "start_time": "2024-03-25T17:45:42.493Z"
   },
   {
    "duration": 4,
    "start_time": "2024-03-25T17:45:42.506Z"
   },
   {
    "duration": 13,
    "start_time": "2024-03-25T17:45:42.511Z"
   },
   {
    "duration": 6,
    "start_time": "2024-03-25T17:45:42.525Z"
   },
   {
    "duration": 50,
    "start_time": "2024-03-25T17:45:42.532Z"
   },
   {
    "duration": 10,
    "start_time": "2024-03-25T17:45:42.583Z"
   },
   {
    "duration": 3,
    "start_time": "2024-03-25T17:45:42.595Z"
   },
   {
    "duration": 11,
    "start_time": "2024-03-25T17:45:42.600Z"
   },
   {
    "duration": 20,
    "start_time": "2024-03-25T17:45:42.613Z"
   },
   {
    "duration": 37,
    "start_time": "2024-03-25T17:45:42.634Z"
   },
   {
    "duration": 3,
    "start_time": "2024-03-25T17:45:42.673Z"
   },
   {
    "duration": 12,
    "start_time": "2024-03-25T17:45:42.678Z"
   },
   {
    "duration": 9,
    "start_time": "2024-03-25T17:45:42.691Z"
   },
   {
    "duration": 7,
    "start_time": "2024-03-25T17:45:42.701Z"
   },
   {
    "duration": 27,
    "start_time": "2024-03-25T17:45:42.709Z"
   },
   {
    "duration": 7,
    "start_time": "2024-03-25T17:45:42.737Z"
   },
   {
    "duration": 15,
    "start_time": "2024-03-25T17:45:42.745Z"
   },
   {
    "duration": 5,
    "start_time": "2024-03-25T17:45:42.762Z"
   },
   {
    "duration": 4,
    "start_time": "2024-03-25T17:45:42.769Z"
   },
   {
    "duration": 6,
    "start_time": "2024-03-25T17:46:01.528Z"
   },
   {
    "duration": 444,
    "start_time": "2024-03-25T17:46:52.591Z"
   },
   {
    "duration": 20,
    "start_time": "2024-03-25T17:46:53.037Z"
   },
   {
    "duration": 14,
    "start_time": "2024-03-25T17:46:53.059Z"
   },
   {
    "duration": 14,
    "start_time": "2024-03-25T17:46:53.074Z"
   },
   {
    "duration": 56,
    "start_time": "2024-03-25T17:46:53.090Z"
   },
   {
    "duration": 3,
    "start_time": "2024-03-25T17:46:53.147Z"
   },
   {
    "duration": 16,
    "start_time": "2024-03-25T17:46:53.152Z"
   },
   {
    "duration": 4,
    "start_time": "2024-03-25T17:46:53.169Z"
   },
   {
    "duration": 8,
    "start_time": "2024-03-25T17:46:53.175Z"
   },
   {
    "duration": 4,
    "start_time": "2024-03-25T17:46:53.184Z"
   },
   {
    "duration": 35,
    "start_time": "2024-03-25T17:46:53.189Z"
   },
   {
    "duration": 34,
    "start_time": "2024-03-25T17:46:53.225Z"
   },
   {
    "duration": 3,
    "start_time": "2024-03-25T17:46:53.261Z"
   },
   {
    "duration": 12,
    "start_time": "2024-03-25T17:46:53.266Z"
   },
   {
    "duration": 18,
    "start_time": "2024-03-25T17:46:53.279Z"
   },
   {
    "duration": 15,
    "start_time": "2024-03-25T17:46:53.298Z"
   },
   {
    "duration": 3,
    "start_time": "2024-03-25T17:46:53.315Z"
   },
   {
    "duration": 14,
    "start_time": "2024-03-25T17:46:53.319Z"
   },
   {
    "duration": 26,
    "start_time": "2024-03-25T17:46:53.334Z"
   },
   {
    "duration": 4,
    "start_time": "2024-03-25T17:46:53.361Z"
   },
   {
    "duration": 11,
    "start_time": "2024-03-25T17:46:53.366Z"
   },
   {
    "duration": 8,
    "start_time": "2024-03-25T17:46:53.379Z"
   },
   {
    "duration": 5,
    "start_time": "2024-03-25T17:46:53.389Z"
   },
   {
    "duration": 3,
    "start_time": "2024-03-25T17:46:53.395Z"
   },
   {
    "duration": 5,
    "start_time": "2024-03-25T17:46:53.399Z"
   },
   {
    "duration": 506,
    "start_time": "2024-03-25T17:47:17.639Z"
   },
   {
    "duration": 29,
    "start_time": "2024-03-25T17:47:18.147Z"
   },
   {
    "duration": 15,
    "start_time": "2024-03-25T17:47:18.177Z"
   },
   {
    "duration": 11,
    "start_time": "2024-03-25T17:47:18.194Z"
   },
   {
    "duration": 32,
    "start_time": "2024-03-25T17:47:18.207Z"
   },
   {
    "duration": 3,
    "start_time": "2024-03-25T17:47:18.258Z"
   },
   {
    "duration": 13,
    "start_time": "2024-03-25T17:47:18.263Z"
   },
   {
    "duration": 3,
    "start_time": "2024-03-25T17:47:18.278Z"
   },
   {
    "duration": 7,
    "start_time": "2024-03-25T17:47:18.283Z"
   },
   {
    "duration": 6,
    "start_time": "2024-03-25T17:47:18.291Z"
   },
   {
    "duration": 36,
    "start_time": "2024-03-25T17:47:18.298Z"
   },
   {
    "duration": 32,
    "start_time": "2024-03-25T17:47:18.335Z"
   },
   {
    "duration": 23,
    "start_time": "2024-03-25T17:47:18.369Z"
   },
   {
    "duration": 17,
    "start_time": "2024-03-25T17:47:18.394Z"
   },
   {
    "duration": 36,
    "start_time": "2024-03-25T17:47:18.413Z"
   },
   {
    "duration": 16,
    "start_time": "2024-03-25T17:47:18.450Z"
   },
   {
    "duration": 3,
    "start_time": "2024-03-25T17:47:18.467Z"
   },
   {
    "duration": 18,
    "start_time": "2024-03-25T17:47:18.472Z"
   },
   {
    "duration": 8,
    "start_time": "2024-03-25T17:47:18.491Z"
   },
   {
    "duration": 6,
    "start_time": "2024-03-25T17:47:18.500Z"
   },
   {
    "duration": 10,
    "start_time": "2024-03-25T17:47:18.507Z"
   },
   {
    "duration": 8,
    "start_time": "2024-03-25T17:47:18.518Z"
   },
   {
    "duration": 4,
    "start_time": "2024-03-25T17:47:18.527Z"
   },
   {
    "duration": 6,
    "start_time": "2024-03-25T17:47:18.533Z"
   },
   {
    "duration": 19,
    "start_time": "2024-03-25T17:47:18.540Z"
   },
   {
    "duration": 480,
    "start_time": "2024-03-25T17:47:42.643Z"
   },
   {
    "duration": 21,
    "start_time": "2024-03-25T17:47:43.125Z"
   },
   {
    "duration": 14,
    "start_time": "2024-03-25T17:47:43.148Z"
   },
   {
    "duration": 10,
    "start_time": "2024-03-25T17:47:43.163Z"
   },
   {
    "duration": 35,
    "start_time": "2024-03-25T17:47:43.175Z"
   },
   {
    "duration": 3,
    "start_time": "2024-03-25T17:47:43.212Z"
   },
   {
    "duration": 11,
    "start_time": "2024-03-25T17:47:43.216Z"
   },
   {
    "duration": 3,
    "start_time": "2024-03-25T17:47:43.228Z"
   },
   {
    "duration": 27,
    "start_time": "2024-03-25T17:47:43.232Z"
   },
   {
    "duration": 4,
    "start_time": "2024-03-25T17:47:43.260Z"
   },
   {
    "duration": 34,
    "start_time": "2024-03-25T17:47:43.265Z"
   },
   {
    "duration": 9,
    "start_time": "2024-03-25T17:47:43.300Z"
   },
   {
    "duration": 3,
    "start_time": "2024-03-25T17:47:43.311Z"
   },
   {
    "duration": 12,
    "start_time": "2024-03-25T17:47:43.316Z"
   },
   {
    "duration": 43,
    "start_time": "2024-03-25T17:47:43.329Z"
   },
   {
    "duration": 15,
    "start_time": "2024-03-25T17:47:43.374Z"
   },
   {
    "duration": 4,
    "start_time": "2024-03-25T17:47:43.390Z"
   },
   {
    "duration": 11,
    "start_time": "2024-03-25T17:47:43.395Z"
   },
   {
    "duration": 5,
    "start_time": "2024-03-25T17:47:43.408Z"
   },
   {
    "duration": 3,
    "start_time": "2024-03-25T17:47:43.414Z"
   },
   {
    "duration": 10,
    "start_time": "2024-03-25T17:47:43.419Z"
   },
   {
    "duration": 9,
    "start_time": "2024-03-25T17:47:43.458Z"
   },
   {
    "duration": 2,
    "start_time": "2024-03-25T17:47:43.468Z"
   },
   {
    "duration": 3,
    "start_time": "2024-03-25T17:47:43.472Z"
   },
   {
    "duration": 14,
    "start_time": "2024-03-25T17:47:43.477Z"
   },
   {
    "duration": 443,
    "start_time": "2024-03-25T17:48:29.099Z"
   },
   {
    "duration": 23,
    "start_time": "2024-03-25T17:48:29.544Z"
   },
   {
    "duration": 15,
    "start_time": "2024-03-25T17:48:29.569Z"
   },
   {
    "duration": 15,
    "start_time": "2024-03-25T17:48:29.585Z"
   },
   {
    "duration": 39,
    "start_time": "2024-03-25T17:48:29.602Z"
   },
   {
    "duration": 3,
    "start_time": "2024-03-25T17:48:29.642Z"
   },
   {
    "duration": 8,
    "start_time": "2024-03-25T17:48:29.659Z"
   },
   {
    "duration": 4,
    "start_time": "2024-03-25T17:48:29.668Z"
   },
   {
    "duration": 11,
    "start_time": "2024-03-25T17:48:29.673Z"
   },
   {
    "duration": 4,
    "start_time": "2024-03-25T17:48:29.686Z"
   },
   {
    "duration": 70,
    "start_time": "2024-03-25T17:48:29.691Z"
   },
   {
    "duration": 10,
    "start_time": "2024-03-25T17:48:29.762Z"
   },
   {
    "duration": 19,
    "start_time": "2024-03-25T17:48:29.773Z"
   },
   {
    "duration": 11,
    "start_time": "2024-03-25T17:48:29.794Z"
   },
   {
    "duration": 20,
    "start_time": "2024-03-25T17:48:29.807Z"
   },
   {
    "duration": 30,
    "start_time": "2024-03-25T17:48:29.829Z"
   },
   {
    "duration": 4,
    "start_time": "2024-03-25T17:48:29.860Z"
   },
   {
    "duration": 14,
    "start_time": "2024-03-25T17:48:29.865Z"
   },
   {
    "duration": 5,
    "start_time": "2024-03-25T17:48:29.880Z"
   },
   {
    "duration": 4,
    "start_time": "2024-03-25T17:48:29.887Z"
   },
   {
    "duration": 15,
    "start_time": "2024-03-25T17:48:29.892Z"
   },
   {
    "duration": 8,
    "start_time": "2024-03-25T17:48:29.909Z"
   },
   {
    "duration": 2,
    "start_time": "2024-03-25T17:48:29.919Z"
   },
   {
    "duration": 3,
    "start_time": "2024-03-25T17:48:29.923Z"
   },
   {
    "duration": 3,
    "start_time": "2024-03-25T17:48:29.960Z"
   },
   {
    "duration": 440,
    "start_time": "2024-03-25T17:49:21.389Z"
   },
   {
    "duration": 21,
    "start_time": "2024-03-25T17:49:21.831Z"
   },
   {
    "duration": 14,
    "start_time": "2024-03-25T17:49:21.853Z"
   },
   {
    "duration": 9,
    "start_time": "2024-03-25T17:49:21.868Z"
   },
   {
    "duration": 32,
    "start_time": "2024-03-25T17:49:21.879Z"
   },
   {
    "duration": 3,
    "start_time": "2024-03-25T17:49:21.913Z"
   },
   {
    "duration": 11,
    "start_time": "2024-03-25T17:49:21.917Z"
   },
   {
    "duration": 4,
    "start_time": "2024-03-25T17:49:21.929Z"
   },
   {
    "duration": 25,
    "start_time": "2024-03-25T17:49:21.934Z"
   },
   {
    "duration": 6,
    "start_time": "2024-03-25T17:49:21.960Z"
   },
   {
    "duration": 49,
    "start_time": "2024-03-25T17:49:21.968Z"
   },
   {
    "duration": 10,
    "start_time": "2024-03-25T17:49:22.018Z"
   },
   {
    "duration": 5,
    "start_time": "2024-03-25T17:49:22.029Z"
   },
   {
    "duration": 31,
    "start_time": "2024-03-25T17:49:22.037Z"
   },
   {
    "duration": 17,
    "start_time": "2024-03-25T17:49:22.070Z"
   },
   {
    "duration": 17,
    "start_time": "2024-03-25T17:49:22.089Z"
   },
   {
    "duration": 3,
    "start_time": "2024-03-25T17:49:22.108Z"
   },
   {
    "duration": 20,
    "start_time": "2024-03-25T17:49:22.113Z"
   },
   {
    "duration": 6,
    "start_time": "2024-03-25T17:49:22.134Z"
   },
   {
    "duration": 19,
    "start_time": "2024-03-25T17:49:22.141Z"
   },
   {
    "duration": 13,
    "start_time": "2024-03-25T17:49:22.162Z"
   },
   {
    "duration": 7,
    "start_time": "2024-03-25T17:49:22.177Z"
   },
   {
    "duration": 10,
    "start_time": "2024-03-25T17:49:22.186Z"
   },
   {
    "duration": 4,
    "start_time": "2024-03-25T17:49:22.198Z"
   },
   {
    "duration": 5,
    "start_time": "2024-03-25T17:49:22.204Z"
   },
   {
    "duration": 503,
    "start_time": "2024-03-25T17:49:38.346Z"
   },
   {
    "duration": 21,
    "start_time": "2024-03-25T17:49:38.851Z"
   },
   {
    "duration": 16,
    "start_time": "2024-03-25T17:49:38.874Z"
   },
   {
    "duration": 11,
    "start_time": "2024-03-25T17:49:38.891Z"
   },
   {
    "duration": 56,
    "start_time": "2024-03-25T17:49:38.904Z"
   },
   {
    "duration": 4,
    "start_time": "2024-03-25T17:49:38.962Z"
   },
   {
    "duration": 8,
    "start_time": "2024-03-25T17:49:38.967Z"
   },
   {
    "duration": 4,
    "start_time": "2024-03-25T17:49:38.976Z"
   },
   {
    "duration": 7,
    "start_time": "2024-03-25T17:49:38.982Z"
   },
   {
    "duration": 4,
    "start_time": "2024-03-25T17:49:38.991Z"
   },
   {
    "duration": 68,
    "start_time": "2024-03-25T17:49:38.996Z"
   },
   {
    "duration": 10,
    "start_time": "2024-03-25T17:49:39.066Z"
   },
   {
    "duration": 4,
    "start_time": "2024-03-25T17:49:39.077Z"
   },
   {
    "duration": 17,
    "start_time": "2024-03-25T17:49:39.082Z"
   },
   {
    "duration": 21,
    "start_time": "2024-03-25T17:49:39.100Z"
   },
   {
    "duration": 41,
    "start_time": "2024-03-25T17:49:39.123Z"
   },
   {
    "duration": 4,
    "start_time": "2024-03-25T17:49:39.166Z"
   },
   {
    "duration": 16,
    "start_time": "2024-03-25T17:49:39.173Z"
   },
   {
    "duration": 6,
    "start_time": "2024-03-25T17:49:39.191Z"
   },
   {
    "duration": 4,
    "start_time": "2024-03-25T17:49:39.198Z"
   },
   {
    "duration": 9,
    "start_time": "2024-03-25T17:49:39.203Z"
   },
   {
    "duration": 9,
    "start_time": "2024-03-25T17:49:39.213Z"
   },
   {
    "duration": 2,
    "start_time": "2024-03-25T17:49:39.223Z"
   },
   {
    "duration": 32,
    "start_time": "2024-03-25T17:49:39.227Z"
   },
   {
    "duration": 2,
    "start_time": "2024-03-25T17:49:39.260Z"
   },
   {
    "duration": 453,
    "start_time": "2024-03-25T17:50:25.376Z"
   },
   {
    "duration": 20,
    "start_time": "2024-03-25T17:50:25.831Z"
   },
   {
    "duration": 27,
    "start_time": "2024-03-25T17:50:25.852Z"
   },
   {
    "duration": 10,
    "start_time": "2024-03-25T17:50:25.881Z"
   },
   {
    "duration": 39,
    "start_time": "2024-03-25T17:50:25.893Z"
   },
   {
    "duration": 3,
    "start_time": "2024-03-25T17:50:25.934Z"
   },
   {
    "duration": 23,
    "start_time": "2024-03-25T17:50:25.939Z"
   },
   {
    "duration": 12,
    "start_time": "2024-03-25T17:50:25.964Z"
   },
   {
    "duration": 11,
    "start_time": "2024-03-25T17:50:25.977Z"
   },
   {
    "duration": 14,
    "start_time": "2024-03-25T17:50:25.989Z"
   },
   {
    "duration": 43,
    "start_time": "2024-03-25T17:50:26.005Z"
   },
   {
    "duration": 9,
    "start_time": "2024-03-25T17:50:26.050Z"
   },
   {
    "duration": 18,
    "start_time": "2024-03-25T17:50:26.061Z"
   },
   {
    "duration": 22,
    "start_time": "2024-03-25T17:50:26.081Z"
   },
   {
    "duration": 18,
    "start_time": "2024-03-25T17:50:26.104Z"
   },
   {
    "duration": 15,
    "start_time": "2024-03-25T17:50:26.124Z"
   },
   {
    "duration": 3,
    "start_time": "2024-03-25T17:50:26.141Z"
   },
   {
    "duration": 21,
    "start_time": "2024-03-25T17:50:26.146Z"
   },
   {
    "duration": 10,
    "start_time": "2024-03-25T17:50:26.169Z"
   },
   {
    "duration": 13,
    "start_time": "2024-03-25T17:50:26.181Z"
   },
   {
    "duration": 24,
    "start_time": "2024-03-25T17:50:26.195Z"
   },
   {
    "duration": 12,
    "start_time": "2024-03-25T17:50:26.220Z"
   },
   {
    "duration": 8,
    "start_time": "2024-03-25T17:50:26.234Z"
   },
   {
    "duration": 14,
    "start_time": "2024-03-25T17:50:26.243Z"
   },
   {
    "duration": 8,
    "start_time": "2024-03-25T17:50:26.258Z"
   },
   {
    "duration": 477,
    "start_time": "2024-03-25T17:51:17.743Z"
   },
   {
    "duration": 21,
    "start_time": "2024-03-25T17:51:18.221Z"
   },
   {
    "duration": 14,
    "start_time": "2024-03-25T17:51:18.243Z"
   },
   {
    "duration": 9,
    "start_time": "2024-03-25T17:51:18.258Z"
   },
   {
    "duration": 32,
    "start_time": "2024-03-25T17:51:18.269Z"
   },
   {
    "duration": 3,
    "start_time": "2024-03-25T17:51:18.303Z"
   },
   {
    "duration": 12,
    "start_time": "2024-03-25T17:51:18.307Z"
   },
   {
    "duration": 4,
    "start_time": "2024-03-25T17:51:18.320Z"
   },
   {
    "duration": 14,
    "start_time": "2024-03-25T17:51:18.325Z"
   },
   {
    "duration": 20,
    "start_time": "2024-03-25T17:51:18.340Z"
   },
   {
    "duration": 37,
    "start_time": "2024-03-25T17:51:18.361Z"
   },
   {
    "duration": 9,
    "start_time": "2024-03-25T17:51:18.399Z"
   },
   {
    "duration": 3,
    "start_time": "2024-03-25T17:51:18.410Z"
   },
   {
    "duration": 14,
    "start_time": "2024-03-25T17:51:18.415Z"
   },
   {
    "duration": 44,
    "start_time": "2024-03-25T17:51:18.430Z"
   },
   {
    "duration": 14,
    "start_time": "2024-03-25T17:51:18.475Z"
   },
   {
    "duration": 3,
    "start_time": "2024-03-25T17:51:18.491Z"
   },
   {
    "duration": 11,
    "start_time": "2024-03-25T17:51:18.495Z"
   },
   {
    "duration": 6,
    "start_time": "2024-03-25T17:51:18.508Z"
   },
   {
    "duration": 3,
    "start_time": "2024-03-25T17:51:18.516Z"
   },
   {
    "duration": 11,
    "start_time": "2024-03-25T17:51:18.520Z"
   },
   {
    "duration": 90,
    "start_time": "2024-03-25T17:51:18.532Z"
   },
   {
    "duration": 0,
    "start_time": "2024-03-25T17:51:18.623Z"
   },
   {
    "duration": 0,
    "start_time": "2024-03-25T17:51:18.624Z"
   },
   {
    "duration": 0,
    "start_time": "2024-03-25T17:51:18.625Z"
   },
   {
    "duration": 466,
    "start_time": "2024-03-25T17:53:51.670Z"
   },
   {
    "duration": 21,
    "start_time": "2024-03-25T17:53:52.137Z"
   },
   {
    "duration": 19,
    "start_time": "2024-03-25T17:53:52.159Z"
   },
   {
    "duration": 9,
    "start_time": "2024-03-25T17:53:52.179Z"
   },
   {
    "duration": 33,
    "start_time": "2024-03-25T17:53:52.190Z"
   },
   {
    "duration": 4,
    "start_time": "2024-03-25T17:53:52.224Z"
   },
   {
    "duration": 10,
    "start_time": "2024-03-25T17:53:52.229Z"
   },
   {
    "duration": 5,
    "start_time": "2024-03-25T17:53:52.259Z"
   },
   {
    "duration": 9,
    "start_time": "2024-03-25T17:53:52.266Z"
   },
   {
    "duration": 5,
    "start_time": "2024-03-25T17:53:52.277Z"
   },
   {
    "duration": 61,
    "start_time": "2024-03-25T17:53:52.284Z"
   },
   {
    "duration": 9,
    "start_time": "2024-03-25T17:53:52.347Z"
   },
   {
    "duration": 6,
    "start_time": "2024-03-25T17:53:52.358Z"
   },
   {
    "duration": 14,
    "start_time": "2024-03-25T17:53:52.366Z"
   },
   {
    "duration": 32,
    "start_time": "2024-03-25T17:53:52.382Z"
   },
   {
    "duration": 16,
    "start_time": "2024-03-25T17:53:52.416Z"
   },
   {
    "duration": 4,
    "start_time": "2024-03-25T17:53:52.434Z"
   },
   {
    "duration": 20,
    "start_time": "2024-03-25T17:53:52.439Z"
   },
   {
    "duration": 10,
    "start_time": "2024-03-25T17:53:52.460Z"
   },
   {
    "duration": 9,
    "start_time": "2024-03-25T17:53:52.472Z"
   },
   {
    "duration": 19,
    "start_time": "2024-03-25T17:53:52.482Z"
   },
   {
    "duration": 69,
    "start_time": "2024-03-25T17:53:52.503Z"
   },
   {
    "duration": 0,
    "start_time": "2024-03-25T17:53:52.573Z"
   },
   {
    "duration": 0,
    "start_time": "2024-03-25T17:53:52.575Z"
   },
   {
    "duration": 0,
    "start_time": "2024-03-25T17:53:52.576Z"
   },
   {
    "duration": 469,
    "start_time": "2024-03-25T17:54:01.380Z"
   },
   {
    "duration": 22,
    "start_time": "2024-03-25T17:54:01.850Z"
   },
   {
    "duration": 55,
    "start_time": "2024-03-25T17:54:01.873Z"
   },
   {
    "duration": 45,
    "start_time": "2024-03-25T17:54:01.930Z"
   },
   {
    "duration": 57,
    "start_time": "2024-03-25T17:54:01.977Z"
   },
   {
    "duration": 4,
    "start_time": "2024-03-25T17:54:02.036Z"
   },
   {
    "duration": 16,
    "start_time": "2024-03-25T17:54:02.041Z"
   },
   {
    "duration": 20,
    "start_time": "2024-03-25T17:54:02.059Z"
   },
   {
    "duration": 26,
    "start_time": "2024-03-25T17:54:02.081Z"
   },
   {
    "duration": 67,
    "start_time": "2024-03-25T17:54:02.110Z"
   },
   {
    "duration": 58,
    "start_time": "2024-03-25T17:54:02.178Z"
   },
   {
    "duration": 42,
    "start_time": "2024-03-25T17:54:02.237Z"
   },
   {
    "duration": 21,
    "start_time": "2024-03-25T17:54:02.280Z"
   },
   {
    "duration": 60,
    "start_time": "2024-03-25T17:54:02.303Z"
   },
   {
    "duration": 37,
    "start_time": "2024-03-25T17:54:02.365Z"
   },
   {
    "duration": 29,
    "start_time": "2024-03-25T17:54:02.403Z"
   },
   {
    "duration": 16,
    "start_time": "2024-03-25T17:54:02.434Z"
   },
   {
    "duration": 28,
    "start_time": "2024-03-25T17:54:02.451Z"
   },
   {
    "duration": 34,
    "start_time": "2024-03-25T17:54:02.480Z"
   },
   {
    "duration": 13,
    "start_time": "2024-03-25T17:54:02.515Z"
   },
   {
    "duration": 13,
    "start_time": "2024-03-25T17:54:02.530Z"
   },
   {
    "duration": 103,
    "start_time": "2024-03-25T17:54:02.544Z"
   },
   {
    "duration": 0,
    "start_time": "2024-03-25T17:54:02.648Z"
   },
   {
    "duration": 0,
    "start_time": "2024-03-25T17:54:02.650Z"
   },
   {
    "duration": 0,
    "start_time": "2024-03-25T17:54:02.651Z"
   },
   {
    "duration": 478,
    "start_time": "2024-03-25T17:54:17.451Z"
   },
   {
    "duration": 21,
    "start_time": "2024-03-25T17:54:17.931Z"
   },
   {
    "duration": 14,
    "start_time": "2024-03-25T17:54:17.953Z"
   },
   {
    "duration": 10,
    "start_time": "2024-03-25T17:54:17.969Z"
   },
   {
    "duration": 32,
    "start_time": "2024-03-25T17:54:17.980Z"
   },
   {
    "duration": 3,
    "start_time": "2024-03-25T17:54:18.014Z"
   },
   {
    "duration": 9,
    "start_time": "2024-03-25T17:54:18.018Z"
   },
   {
    "duration": 4,
    "start_time": "2024-03-25T17:54:18.028Z"
   },
   {
    "duration": 30,
    "start_time": "2024-03-25T17:54:18.033Z"
   },
   {
    "duration": 4,
    "start_time": "2024-03-25T17:54:18.065Z"
   },
   {
    "duration": 34,
    "start_time": "2024-03-25T17:54:18.070Z"
   },
   {
    "duration": 9,
    "start_time": "2024-03-25T17:54:18.106Z"
   },
   {
    "duration": 9,
    "start_time": "2024-03-25T17:54:18.116Z"
   },
   {
    "duration": 11,
    "start_time": "2024-03-25T17:54:18.126Z"
   },
   {
    "duration": 35,
    "start_time": "2024-03-25T17:54:18.138Z"
   },
   {
    "duration": 15,
    "start_time": "2024-03-25T17:54:18.175Z"
   },
   {
    "duration": 3,
    "start_time": "2024-03-25T17:54:18.191Z"
   },
   {
    "duration": 20,
    "start_time": "2024-03-25T17:54:18.196Z"
   },
   {
    "duration": 5,
    "start_time": "2024-03-25T17:54:18.217Z"
   },
   {
    "duration": 3,
    "start_time": "2024-03-25T17:54:18.223Z"
   },
   {
    "duration": 31,
    "start_time": "2024-03-25T17:54:18.228Z"
   },
   {
    "duration": 63,
    "start_time": "2024-03-25T17:54:18.260Z"
   },
   {
    "duration": 0,
    "start_time": "2024-03-25T17:54:18.324Z"
   },
   {
    "duration": 0,
    "start_time": "2024-03-25T17:54:18.326Z"
   },
   {
    "duration": 0,
    "start_time": "2024-03-25T17:54:18.327Z"
   },
   {
    "duration": 482,
    "start_time": "2024-03-25T17:54:33.452Z"
   },
   {
    "duration": 24,
    "start_time": "2024-03-25T17:54:33.936Z"
   },
   {
    "duration": 15,
    "start_time": "2024-03-25T17:54:33.962Z"
   },
   {
    "duration": 10,
    "start_time": "2024-03-25T17:54:33.979Z"
   },
   {
    "duration": 36,
    "start_time": "2024-03-25T17:54:33.991Z"
   },
   {
    "duration": 3,
    "start_time": "2024-03-25T17:54:34.028Z"
   },
   {
    "duration": 27,
    "start_time": "2024-03-25T17:54:34.033Z"
   },
   {
    "duration": 4,
    "start_time": "2024-03-25T17:54:34.061Z"
   },
   {
    "duration": 8,
    "start_time": "2024-03-25T17:54:34.066Z"
   },
   {
    "duration": 4,
    "start_time": "2024-03-25T17:54:34.075Z"
   },
   {
    "duration": 32,
    "start_time": "2024-03-25T17:54:34.080Z"
   },
   {
    "duration": 9,
    "start_time": "2024-03-25T17:54:34.114Z"
   },
   {
    "duration": 35,
    "start_time": "2024-03-25T17:54:34.124Z"
   },
   {
    "duration": 11,
    "start_time": "2024-03-25T17:54:34.161Z"
   },
   {
    "duration": 21,
    "start_time": "2024-03-25T17:54:34.173Z"
   },
   {
    "duration": 15,
    "start_time": "2024-03-25T17:54:34.195Z"
   },
   {
    "duration": 3,
    "start_time": "2024-03-25T17:54:34.211Z"
   },
   {
    "duration": 27,
    "start_time": "2024-03-25T17:54:34.215Z"
   },
   {
    "duration": 25,
    "start_time": "2024-03-25T17:54:34.243Z"
   },
   {
    "duration": 3,
    "start_time": "2024-03-25T17:54:34.269Z"
   },
   {
    "duration": 10,
    "start_time": "2024-03-25T17:54:34.274Z"
   },
   {
    "duration": 79,
    "start_time": "2024-03-25T17:54:34.286Z"
   },
   {
    "duration": 0,
    "start_time": "2024-03-25T17:54:34.366Z"
   },
   {
    "duration": 0,
    "start_time": "2024-03-25T17:54:34.368Z"
   },
   {
    "duration": 0,
    "start_time": "2024-03-25T17:54:34.369Z"
   },
   {
    "duration": 482,
    "start_time": "2024-03-25T17:54:59.584Z"
   },
   {
    "duration": 30,
    "start_time": "2024-03-25T17:55:00.069Z"
   },
   {
    "duration": 23,
    "start_time": "2024-03-25T17:55:00.100Z"
   },
   {
    "duration": 42,
    "start_time": "2024-03-25T17:55:00.125Z"
   },
   {
    "duration": 79,
    "start_time": "2024-03-25T17:55:00.169Z"
   },
   {
    "duration": 36,
    "start_time": "2024-03-25T17:55:00.250Z"
   },
   {
    "duration": 69,
    "start_time": "2024-03-25T17:55:00.288Z"
   },
   {
    "duration": 93,
    "start_time": "2024-03-25T17:55:00.358Z"
   },
   {
    "duration": 79,
    "start_time": "2024-03-25T17:55:00.452Z"
   },
   {
    "duration": 96,
    "start_time": "2024-03-25T17:55:00.533Z"
   },
   {
    "duration": 65,
    "start_time": "2024-03-25T17:55:00.631Z"
   },
   {
    "duration": 82,
    "start_time": "2024-03-25T17:55:00.698Z"
   },
   {
    "duration": 63,
    "start_time": "2024-03-25T17:55:00.782Z"
   },
   {
    "duration": 60,
    "start_time": "2024-03-25T17:55:00.849Z"
   },
   {
    "duration": 243,
    "start_time": "2024-03-25T17:55:00.911Z"
   },
   {
    "duration": 207,
    "start_time": "2024-03-25T17:55:01.156Z"
   },
   {
    "duration": 352,
    "start_time": "2024-03-25T17:55:01.365Z"
   },
   {
    "duration": 106,
    "start_time": "2024-03-25T17:55:01.718Z"
   },
   {
    "duration": 31,
    "start_time": "2024-03-25T17:55:01.826Z"
   },
   {
    "duration": 13,
    "start_time": "2024-03-25T17:55:01.859Z"
   },
   {
    "duration": 44,
    "start_time": "2024-03-25T17:55:01.874Z"
   },
   {
    "duration": 96,
    "start_time": "2024-03-25T17:55:01.919Z"
   },
   {
    "duration": 0,
    "start_time": "2024-03-25T17:55:02.018Z"
   },
   {
    "duration": 0,
    "start_time": "2024-03-25T17:55:02.019Z"
   },
   {
    "duration": 0,
    "start_time": "2024-03-25T17:55:02.020Z"
   },
   {
    "duration": 477,
    "start_time": "2024-03-25T17:55:31.933Z"
   },
   {
    "duration": 21,
    "start_time": "2024-03-25T17:55:32.412Z"
   },
   {
    "duration": 14,
    "start_time": "2024-03-25T17:55:32.435Z"
   },
   {
    "duration": 21,
    "start_time": "2024-03-25T17:55:32.451Z"
   },
   {
    "duration": 32,
    "start_time": "2024-03-25T17:55:32.475Z"
   },
   {
    "duration": 3,
    "start_time": "2024-03-25T17:55:32.508Z"
   },
   {
    "duration": 9,
    "start_time": "2024-03-25T17:55:32.513Z"
   },
   {
    "duration": 4,
    "start_time": "2024-03-25T17:55:32.523Z"
   },
   {
    "duration": 6,
    "start_time": "2024-03-25T17:55:32.528Z"
   },
   {
    "duration": 10,
    "start_time": "2024-03-25T17:55:32.558Z"
   },
   {
    "duration": 37,
    "start_time": "2024-03-25T17:55:32.569Z"
   },
   {
    "duration": 10,
    "start_time": "2024-03-25T17:55:32.608Z"
   },
   {
    "duration": 4,
    "start_time": "2024-03-25T17:55:32.619Z"
   },
   {
    "duration": 44,
    "start_time": "2024-03-25T17:55:32.626Z"
   },
   {
    "duration": 24,
    "start_time": "2024-03-25T17:55:32.672Z"
   },
   {
    "duration": 16,
    "start_time": "2024-03-25T17:55:32.698Z"
   },
   {
    "duration": 9,
    "start_time": "2024-03-25T17:55:32.715Z"
   },
   {
    "duration": 21,
    "start_time": "2024-03-25T17:55:32.726Z"
   },
   {
    "duration": 5,
    "start_time": "2024-03-25T17:55:32.749Z"
   },
   {
    "duration": 6,
    "start_time": "2024-03-25T17:55:32.759Z"
   },
   {
    "duration": 30,
    "start_time": "2024-03-25T17:55:32.768Z"
   },
   {
    "duration": 75,
    "start_time": "2024-03-25T17:55:32.800Z"
   },
   {
    "duration": 0,
    "start_time": "2024-03-25T17:55:32.876Z"
   },
   {
    "duration": 0,
    "start_time": "2024-03-25T17:55:32.878Z"
   },
   {
    "duration": 0,
    "start_time": "2024-03-25T17:55:32.879Z"
   },
   {
    "duration": 48,
    "start_time": "2024-03-26T06:35:46.417Z"
   },
   {
    "duration": 654,
    "start_time": "2024-03-26T06:36:15.852Z"
   },
   {
    "duration": 26,
    "start_time": "2024-03-26T06:36:16.509Z"
   },
   {
    "duration": 17,
    "start_time": "2024-03-26T06:36:16.537Z"
   },
   {
    "duration": 11,
    "start_time": "2024-03-26T06:36:16.557Z"
   },
   {
    "duration": 61,
    "start_time": "2024-03-26T06:36:16.570Z"
   },
   {
    "duration": 4,
    "start_time": "2024-03-26T06:36:16.633Z"
   },
   {
    "duration": 31,
    "start_time": "2024-03-26T06:36:16.639Z"
   },
   {
    "duration": 16,
    "start_time": "2024-03-26T06:36:16.672Z"
   },
   {
    "duration": 15,
    "start_time": "2024-03-26T06:36:16.690Z"
   },
   {
    "duration": 22,
    "start_time": "2024-03-26T06:36:16.708Z"
   },
   {
    "duration": 38,
    "start_time": "2024-03-26T06:36:16.732Z"
   },
   {
    "duration": 9,
    "start_time": "2024-03-26T06:36:16.772Z"
   },
   {
    "duration": 4,
    "start_time": "2024-03-26T06:36:16.783Z"
   },
   {
    "duration": 29,
    "start_time": "2024-03-26T06:36:16.788Z"
   },
   {
    "duration": 100,
    "start_time": "2024-03-26T06:36:16.819Z"
   },
   {
    "duration": 42,
    "start_time": "2024-03-26T06:36:16.920Z"
   },
   {
    "duration": 33,
    "start_time": "2024-03-26T06:36:16.963Z"
   },
   {
    "duration": 11,
    "start_time": "2024-03-26T06:36:16.998Z"
   },
   {
    "duration": 9,
    "start_time": "2024-03-26T06:36:17.011Z"
   },
   {
    "duration": 4,
    "start_time": "2024-03-26T06:36:17.021Z"
   },
   {
    "duration": 18,
    "start_time": "2024-03-26T06:36:17.026Z"
   },
   {
    "duration": 88,
    "start_time": "2024-03-26T06:36:17.046Z"
   },
   {
    "duration": 0,
    "start_time": "2024-03-26T06:36:17.135Z"
   },
   {
    "duration": 0,
    "start_time": "2024-03-26T06:36:17.138Z"
   },
   {
    "duration": 0,
    "start_time": "2024-03-26T06:36:17.139Z"
   },
   {
    "duration": 458,
    "start_time": "2024-03-26T06:36:30.848Z"
   },
   {
    "duration": 21,
    "start_time": "2024-03-26T06:36:31.308Z"
   },
   {
    "duration": 77,
    "start_time": "2024-03-26T06:36:31.331Z"
   },
   {
    "duration": 41,
    "start_time": "2024-03-26T06:36:31.410Z"
   },
   {
    "duration": 75,
    "start_time": "2024-03-26T06:36:31.452Z"
   },
   {
    "duration": 48,
    "start_time": "2024-03-26T06:36:31.528Z"
   },
   {
    "duration": 50,
    "start_time": "2024-03-26T06:36:31.578Z"
   },
   {
    "duration": 80,
    "start_time": "2024-03-26T06:36:31.630Z"
   },
   {
    "duration": 45,
    "start_time": "2024-03-26T06:36:31.712Z"
   },
   {
    "duration": 41,
    "start_time": "2024-03-26T06:36:31.760Z"
   },
   {
    "duration": 72,
    "start_time": "2024-03-26T06:36:31.802Z"
   },
   {
    "duration": 12,
    "start_time": "2024-03-26T06:36:31.875Z"
   },
   {
    "duration": 68,
    "start_time": "2024-03-26T06:36:31.888Z"
   },
   {
    "duration": 78,
    "start_time": "2024-03-26T06:36:31.958Z"
   },
   {
    "duration": 90,
    "start_time": "2024-03-26T06:36:32.038Z"
   },
   {
    "duration": 79,
    "start_time": "2024-03-26T06:36:32.130Z"
   },
   {
    "duration": 58,
    "start_time": "2024-03-26T06:36:32.211Z"
   },
   {
    "duration": 82,
    "start_time": "2024-03-26T06:36:32.270Z"
   },
   {
    "duration": 68,
    "start_time": "2024-03-26T06:36:32.353Z"
   },
   {
    "duration": 52,
    "start_time": "2024-03-26T06:36:32.422Z"
   },
   {
    "duration": 59,
    "start_time": "2024-03-26T06:36:32.475Z"
   },
   {
    "duration": 50,
    "start_time": "2024-03-26T06:36:32.536Z"
   },
   {
    "duration": 153,
    "start_time": "2024-03-26T06:36:32.587Z"
   },
   {
    "duration": 92,
    "start_time": "2024-03-26T06:36:32.742Z"
   },
   {
    "duration": 18,
    "start_time": "2024-03-26T06:36:32.836Z"
   },
   {
    "duration": 492,
    "start_time": "2024-03-26T06:37:30.500Z"
   },
   {
    "duration": 23,
    "start_time": "2024-03-26T06:37:30.994Z"
   },
   {
    "duration": 50,
    "start_time": "2024-03-26T06:37:31.018Z"
   },
   {
    "duration": 146,
    "start_time": "2024-03-26T06:37:31.071Z"
   },
   {
    "duration": 198,
    "start_time": "2024-03-26T06:37:31.219Z"
   },
   {
    "duration": 38,
    "start_time": "2024-03-26T06:37:31.419Z"
   },
   {
    "duration": 162,
    "start_time": "2024-03-26T06:37:31.459Z"
   },
   {
    "duration": 142,
    "start_time": "2024-03-26T06:37:31.622Z"
   },
   {
    "duration": 186,
    "start_time": "2024-03-26T06:37:31.766Z"
   },
   {
    "duration": 120,
    "start_time": "2024-03-26T06:37:31.955Z"
   },
   {
    "duration": 79,
    "start_time": "2024-03-26T06:37:32.077Z"
   },
   {
    "duration": 24,
    "start_time": "2024-03-26T06:37:32.157Z"
   },
   {
    "duration": 41,
    "start_time": "2024-03-26T06:37:32.182Z"
   },
   {
    "duration": 52,
    "start_time": "2024-03-26T06:37:32.225Z"
   },
   {
    "duration": 64,
    "start_time": "2024-03-26T06:37:32.279Z"
   },
   {
    "duration": 111,
    "start_time": "2024-03-26T06:37:32.345Z"
   },
   {
    "duration": 85,
    "start_time": "2024-03-26T06:37:32.457Z"
   },
   {
    "duration": 49,
    "start_time": "2024-03-26T06:37:32.544Z"
   },
   {
    "duration": 43,
    "start_time": "2024-03-26T06:37:32.595Z"
   },
   {
    "duration": 222,
    "start_time": "2024-03-26T06:37:32.639Z"
   },
   {
    "duration": 158,
    "start_time": "2024-03-26T06:37:32.863Z"
   },
   {
    "duration": 59,
    "start_time": "2024-03-26T06:37:33.022Z"
   },
   {
    "duration": 48,
    "start_time": "2024-03-26T06:37:33.082Z"
   },
   {
    "duration": 32,
    "start_time": "2024-03-26T06:37:33.131Z"
   },
   {
    "duration": 43,
    "start_time": "2024-03-26T06:37:33.165Z"
   },
   {
    "duration": 513,
    "start_time": "2024-03-26T06:37:57.978Z"
   },
   {
    "duration": 25,
    "start_time": "2024-03-26T06:37:58.493Z"
   },
   {
    "duration": 23,
    "start_time": "2024-03-26T06:37:58.522Z"
   },
   {
    "duration": 14,
    "start_time": "2024-03-26T06:37:58.547Z"
   },
   {
    "duration": 53,
    "start_time": "2024-03-26T06:37:58.563Z"
   },
   {
    "duration": 3,
    "start_time": "2024-03-26T06:37:58.617Z"
   },
   {
    "duration": 25,
    "start_time": "2024-03-26T06:37:58.622Z"
   },
   {
    "duration": 27,
    "start_time": "2024-03-26T06:37:58.648Z"
   },
   {
    "duration": 28,
    "start_time": "2024-03-26T06:37:58.678Z"
   },
   {
    "duration": 29,
    "start_time": "2024-03-26T06:37:58.708Z"
   },
   {
    "duration": 51,
    "start_time": "2024-03-26T06:37:58.738Z"
   },
   {
    "duration": 11,
    "start_time": "2024-03-26T06:37:58.790Z"
   },
   {
    "duration": 24,
    "start_time": "2024-03-26T06:37:58.802Z"
   },
   {
    "duration": 43,
    "start_time": "2024-03-26T06:37:58.827Z"
   },
   {
    "duration": 39,
    "start_time": "2024-03-26T06:37:58.872Z"
   },
   {
    "duration": 27,
    "start_time": "2024-03-26T06:37:58.912Z"
   },
   {
    "duration": 15,
    "start_time": "2024-03-26T06:37:58.941Z"
   },
   {
    "duration": 45,
    "start_time": "2024-03-26T06:37:58.957Z"
   },
   {
    "duration": 32,
    "start_time": "2024-03-26T06:37:59.005Z"
   },
   {
    "duration": 19,
    "start_time": "2024-03-26T06:37:59.038Z"
   },
   {
    "duration": 44,
    "start_time": "2024-03-26T06:37:59.059Z"
   },
   {
    "duration": 31,
    "start_time": "2024-03-26T06:37:59.105Z"
   },
   {
    "duration": 16,
    "start_time": "2024-03-26T06:37:59.137Z"
   },
   {
    "duration": 18,
    "start_time": "2024-03-26T06:37:59.154Z"
   },
   {
    "duration": 26,
    "start_time": "2024-03-26T06:37:59.173Z"
   },
   {
    "duration": 433,
    "start_time": "2024-03-26T06:38:14.448Z"
   },
   {
    "duration": 22,
    "start_time": "2024-03-26T06:38:14.883Z"
   },
   {
    "duration": 18,
    "start_time": "2024-03-26T06:38:14.907Z"
   },
   {
    "duration": 10,
    "start_time": "2024-03-26T06:38:14.928Z"
   },
   {
    "duration": 40,
    "start_time": "2024-03-26T06:38:14.940Z"
   },
   {
    "duration": 5,
    "start_time": "2024-03-26T06:38:14.994Z"
   },
   {
    "duration": 67,
    "start_time": "2024-03-26T06:38:15.001Z"
   },
   {
    "duration": 106,
    "start_time": "2024-03-26T06:38:15.070Z"
   },
   {
    "duration": 52,
    "start_time": "2024-03-26T06:38:15.177Z"
   },
   {
    "duration": 61,
    "start_time": "2024-03-26T06:38:15.231Z"
   },
   {
    "duration": 143,
    "start_time": "2024-03-26T06:38:15.293Z"
   },
   {
    "duration": 26,
    "start_time": "2024-03-26T06:38:15.438Z"
   },
   {
    "duration": 42,
    "start_time": "2024-03-26T06:38:15.466Z"
   },
   {
    "duration": 35,
    "start_time": "2024-03-26T06:38:15.510Z"
   },
   {
    "duration": 35,
    "start_time": "2024-03-26T06:38:15.546Z"
   },
   {
    "duration": 33,
    "start_time": "2024-03-26T06:38:15.583Z"
   },
   {
    "duration": 18,
    "start_time": "2024-03-26T06:38:15.617Z"
   },
   {
    "duration": 35,
    "start_time": "2024-03-26T06:38:15.637Z"
   },
   {
    "duration": 38,
    "start_time": "2024-03-26T06:38:15.674Z"
   },
   {
    "duration": 9,
    "start_time": "2024-03-26T06:38:15.713Z"
   },
   {
    "duration": 41,
    "start_time": "2024-03-26T06:38:15.723Z"
   },
   {
    "duration": 17,
    "start_time": "2024-03-26T06:38:15.766Z"
   },
   {
    "duration": 17,
    "start_time": "2024-03-26T06:38:15.785Z"
   },
   {
    "duration": 34,
    "start_time": "2024-03-26T06:38:15.804Z"
   },
   {
    "duration": 30,
    "start_time": "2024-03-26T06:38:15.840Z"
   },
   {
    "duration": 474,
    "start_time": "2024-03-26T06:39:25.322Z"
   },
   {
    "duration": 23,
    "start_time": "2024-03-26T06:39:25.798Z"
   },
   {
    "duration": 16,
    "start_time": "2024-03-26T06:39:25.822Z"
   },
   {
    "duration": 12,
    "start_time": "2024-03-26T06:39:25.841Z"
   },
   {
    "duration": 62,
    "start_time": "2024-03-26T06:39:25.855Z"
   },
   {
    "duration": 4,
    "start_time": "2024-03-26T06:39:25.918Z"
   },
   {
    "duration": 28,
    "start_time": "2024-03-26T06:39:25.923Z"
   },
   {
    "duration": 5,
    "start_time": "2024-03-26T06:39:25.953Z"
   },
   {
    "duration": 21,
    "start_time": "2024-03-26T06:39:25.959Z"
   },
   {
    "duration": 29,
    "start_time": "2024-03-26T06:39:25.984Z"
   },
   {
    "duration": 52,
    "start_time": "2024-03-26T06:39:26.014Z"
   },
   {
    "duration": 10,
    "start_time": "2024-03-26T06:39:26.068Z"
   },
   {
    "duration": 38,
    "start_time": "2024-03-26T06:39:26.080Z"
   },
   {
    "duration": 12,
    "start_time": "2024-03-26T06:39:26.120Z"
   },
   {
    "duration": 22,
    "start_time": "2024-03-26T06:39:26.133Z"
   },
   {
    "duration": 26,
    "start_time": "2024-03-26T06:39:26.157Z"
   },
   {
    "duration": 21,
    "start_time": "2024-03-26T06:39:26.186Z"
   },
   {
    "duration": 20,
    "start_time": "2024-03-26T06:39:26.208Z"
   },
   {
    "duration": 30,
    "start_time": "2024-03-26T06:39:26.230Z"
   },
   {
    "duration": 10,
    "start_time": "2024-03-26T06:39:26.262Z"
   },
   {
    "duration": 40,
    "start_time": "2024-03-26T06:39:26.274Z"
   },
   {
    "duration": 30,
    "start_time": "2024-03-26T06:39:26.316Z"
   },
   {
    "duration": 15,
    "start_time": "2024-03-26T06:39:26.347Z"
   },
   {
    "duration": 20,
    "start_time": "2024-03-26T06:39:26.363Z"
   },
   {
    "duration": 6,
    "start_time": "2024-03-26T06:39:26.385Z"
   },
   {
    "duration": 526,
    "start_time": "2024-03-26T07:04:30.808Z"
   },
   {
    "duration": 24,
    "start_time": "2024-03-26T07:04:31.336Z"
   },
   {
    "duration": 70,
    "start_time": "2024-03-26T07:04:31.361Z"
   },
   {
    "duration": 41,
    "start_time": "2024-03-26T07:04:31.434Z"
   },
   {
    "duration": 99,
    "start_time": "2024-03-26T07:04:31.477Z"
   },
   {
    "duration": 31,
    "start_time": "2024-03-26T07:04:31.578Z"
   },
   {
    "duration": 58,
    "start_time": "2024-03-26T07:04:31.610Z"
   },
   {
    "duration": 92,
    "start_time": "2024-03-26T07:04:31.670Z"
   },
   {
    "duration": 70,
    "start_time": "2024-03-26T07:04:31.763Z"
   },
   {
    "duration": 42,
    "start_time": "2024-03-26T07:04:31.836Z"
   },
   {
    "duration": 97,
    "start_time": "2024-03-26T07:04:31.880Z"
   },
   {
    "duration": 44,
    "start_time": "2024-03-26T07:04:31.979Z"
   },
   {
    "duration": 46,
    "start_time": "2024-03-26T07:04:32.024Z"
   },
   {
    "duration": 103,
    "start_time": "2024-03-26T07:04:32.072Z"
   },
   {
    "duration": 107,
    "start_time": "2024-03-26T07:04:32.177Z"
   },
   {
    "duration": 121,
    "start_time": "2024-03-26T07:04:32.286Z"
   },
   {
    "duration": 25,
    "start_time": "2024-03-26T07:04:32.409Z"
   },
   {
    "duration": 49,
    "start_time": "2024-03-26T07:04:32.436Z"
   },
   {
    "duration": 50,
    "start_time": "2024-03-26T07:04:32.488Z"
   },
   {
    "duration": 86,
    "start_time": "2024-03-26T07:04:32.540Z"
   },
   {
    "duration": 89,
    "start_time": "2024-03-26T07:04:32.628Z"
   },
   {
    "duration": 106,
    "start_time": "2024-03-26T07:04:32.719Z"
   },
   {
    "duration": 60,
    "start_time": "2024-03-26T07:04:32.826Z"
   },
   {
    "duration": 83,
    "start_time": "2024-03-26T07:04:32.888Z"
   },
   {
    "duration": 17,
    "start_time": "2024-03-26T07:04:32.972Z"
   },
   {
    "duration": 520,
    "start_time": "2024-03-26T07:06:26.186Z"
   },
   {
    "duration": 23,
    "start_time": "2024-03-26T07:06:26.709Z"
   },
   {
    "duration": 51,
    "start_time": "2024-03-26T07:06:26.733Z"
   },
   {
    "duration": 11,
    "start_time": "2024-03-26T07:06:26.786Z"
   },
   {
    "duration": 42,
    "start_time": "2024-03-26T07:06:26.799Z"
   },
   {
    "duration": 3,
    "start_time": "2024-03-26T07:06:26.843Z"
   },
   {
    "duration": 40,
    "start_time": "2024-03-26T07:06:26.848Z"
   },
   {
    "duration": 10,
    "start_time": "2024-03-26T07:06:26.890Z"
   },
   {
    "duration": 12,
    "start_time": "2024-03-26T07:06:26.902Z"
   },
   {
    "duration": 4,
    "start_time": "2024-03-26T07:06:26.917Z"
   },
   {
    "duration": 57,
    "start_time": "2024-03-26T07:06:26.923Z"
   },
   {
    "duration": 11,
    "start_time": "2024-03-26T07:06:26.982Z"
   },
   {
    "duration": 13,
    "start_time": "2024-03-26T07:06:26.995Z"
   },
   {
    "duration": 44,
    "start_time": "2024-03-26T07:06:27.010Z"
   },
   {
    "duration": 66,
    "start_time": "2024-03-26T07:06:27.055Z"
   },
   {
    "duration": 44,
    "start_time": "2024-03-26T07:06:27.122Z"
   },
   {
    "duration": 23,
    "start_time": "2024-03-26T07:06:27.168Z"
   },
   {
    "duration": 27,
    "start_time": "2024-03-26T07:06:27.193Z"
   },
   {
    "duration": 28,
    "start_time": "2024-03-26T07:06:27.222Z"
   },
   {
    "duration": 16,
    "start_time": "2024-03-26T07:06:27.252Z"
   },
   {
    "duration": 19,
    "start_time": "2024-03-26T07:06:27.269Z"
   },
   {
    "duration": 1529,
    "start_time": "2024-03-26T07:06:27.290Z"
   },
   {
    "duration": 0,
    "start_time": "2024-03-26T07:06:28.821Z"
   },
   {
    "duration": 0,
    "start_time": "2024-03-26T07:06:28.822Z"
   },
   {
    "duration": 0,
    "start_time": "2024-03-26T07:06:28.823Z"
   },
   {
    "duration": 495,
    "start_time": "2024-03-26T07:07:11.088Z"
   },
   {
    "duration": 22,
    "start_time": "2024-03-26T07:07:11.585Z"
   },
   {
    "duration": 32,
    "start_time": "2024-03-26T07:07:11.608Z"
   },
   {
    "duration": 9,
    "start_time": "2024-03-26T07:07:11.642Z"
   },
   {
    "duration": 37,
    "start_time": "2024-03-26T07:07:11.653Z"
   },
   {
    "duration": 4,
    "start_time": "2024-03-26T07:07:11.691Z"
   },
   {
    "duration": 13,
    "start_time": "2024-03-26T07:07:11.696Z"
   },
   {
    "duration": 5,
    "start_time": "2024-03-26T07:07:11.711Z"
   },
   {
    "duration": 32,
    "start_time": "2024-03-26T07:07:11.717Z"
   },
   {
    "duration": 27,
    "start_time": "2024-03-26T07:07:11.752Z"
   },
   {
    "duration": 65,
    "start_time": "2024-03-26T07:07:11.781Z"
   },
   {
    "duration": 22,
    "start_time": "2024-03-26T07:07:11.848Z"
   },
   {
    "duration": 18,
    "start_time": "2024-03-26T07:07:11.871Z"
   },
   {
    "duration": 20,
    "start_time": "2024-03-26T07:07:11.890Z"
   },
   {
    "duration": 20,
    "start_time": "2024-03-26T07:07:11.912Z"
   },
   {
    "duration": 16,
    "start_time": "2024-03-26T07:07:11.934Z"
   },
   {
    "duration": 3,
    "start_time": "2024-03-26T07:07:11.952Z"
   },
   {
    "duration": 14,
    "start_time": "2024-03-26T07:07:11.956Z"
   },
   {
    "duration": 6,
    "start_time": "2024-03-26T07:07:11.971Z"
   },
   {
    "duration": 15,
    "start_time": "2024-03-26T07:07:11.979Z"
   },
   {
    "duration": 17,
    "start_time": "2024-03-26T07:07:11.996Z"
   },
   {
    "duration": 83,
    "start_time": "2024-03-26T07:07:12.014Z"
   },
   {
    "duration": 0,
    "start_time": "2024-03-26T07:07:12.099Z"
   },
   {
    "duration": 0,
    "start_time": "2024-03-26T07:07:12.100Z"
   },
   {
    "duration": 0,
    "start_time": "2024-03-26T07:07:12.101Z"
   },
   {
    "duration": 498,
    "start_time": "2024-03-26T07:07:59.497Z"
   },
   {
    "duration": 23,
    "start_time": "2024-03-26T07:07:59.997Z"
   },
   {
    "duration": 38,
    "start_time": "2024-03-26T07:08:00.022Z"
   },
   {
    "duration": 70,
    "start_time": "2024-03-26T07:08:00.062Z"
   },
   {
    "duration": 74,
    "start_time": "2024-03-26T07:08:00.135Z"
   },
   {
    "duration": 17,
    "start_time": "2024-03-26T07:08:00.211Z"
   },
   {
    "duration": 114,
    "start_time": "2024-03-26T07:08:00.230Z"
   },
   {
    "duration": 91,
    "start_time": "2024-03-26T07:08:00.347Z"
   },
   {
    "duration": 120,
    "start_time": "2024-03-26T07:08:00.440Z"
   },
   {
    "duration": 180,
    "start_time": "2024-03-26T07:08:00.562Z"
   },
   {
    "duration": 95,
    "start_time": "2024-03-26T07:08:00.744Z"
   },
   {
    "duration": 43,
    "start_time": "2024-03-26T07:08:00.840Z"
   },
   {
    "duration": 60,
    "start_time": "2024-03-26T07:08:00.885Z"
   },
   {
    "duration": 45,
    "start_time": "2024-03-26T07:08:00.948Z"
   },
   {
    "duration": 88,
    "start_time": "2024-03-26T07:08:00.995Z"
   },
   {
    "duration": 163,
    "start_time": "2024-03-26T07:08:01.085Z"
   },
   {
    "duration": 124,
    "start_time": "2024-03-26T07:08:01.250Z"
   },
   {
    "duration": 53,
    "start_time": "2024-03-26T07:08:01.375Z"
   },
   {
    "duration": 50,
    "start_time": "2024-03-26T07:08:01.429Z"
   },
   {
    "duration": 82,
    "start_time": "2024-03-26T07:08:01.480Z"
   },
   {
    "duration": 154,
    "start_time": "2024-03-26T07:08:01.563Z"
   },
   {
    "duration": 132,
    "start_time": "2024-03-26T07:08:01.718Z"
   },
   {
    "duration": 0,
    "start_time": "2024-03-26T07:08:01.852Z"
   },
   {
    "duration": 0,
    "start_time": "2024-03-26T07:08:01.853Z"
   },
   {
    "duration": 0,
    "start_time": "2024-03-26T07:08:01.854Z"
   },
   {
    "duration": 518,
    "start_time": "2024-03-26T07:08:30.177Z"
   },
   {
    "duration": 24,
    "start_time": "2024-03-26T07:08:30.697Z"
   },
   {
    "duration": 108,
    "start_time": "2024-03-26T07:08:30.723Z"
   },
   {
    "duration": 58,
    "start_time": "2024-03-26T07:08:30.832Z"
   },
   {
    "duration": 104,
    "start_time": "2024-03-26T07:08:30.892Z"
   },
   {
    "duration": 32,
    "start_time": "2024-03-26T07:08:30.998Z"
   },
   {
    "duration": 81,
    "start_time": "2024-03-26T07:08:31.031Z"
   },
   {
    "duration": 45,
    "start_time": "2024-03-26T07:08:31.114Z"
   },
   {
    "duration": 60,
    "start_time": "2024-03-26T07:08:31.161Z"
   },
   {
    "duration": 64,
    "start_time": "2024-03-26T07:08:31.224Z"
   },
   {
    "duration": 67,
    "start_time": "2024-03-26T07:08:31.289Z"
   },
   {
    "duration": 43,
    "start_time": "2024-03-26T07:08:31.357Z"
   },
   {
    "duration": 103,
    "start_time": "2024-03-26T07:08:31.401Z"
   },
   {
    "duration": 94,
    "start_time": "2024-03-26T07:08:31.505Z"
   },
   {
    "duration": 97,
    "start_time": "2024-03-26T07:08:31.601Z"
   },
   {
    "duration": 61,
    "start_time": "2024-03-26T07:08:31.699Z"
   },
   {
    "duration": 87,
    "start_time": "2024-03-26T07:08:31.762Z"
   },
   {
    "duration": 128,
    "start_time": "2024-03-26T07:08:31.850Z"
   },
   {
    "duration": 50,
    "start_time": "2024-03-26T07:08:31.979Z"
   },
   {
    "duration": 59,
    "start_time": "2024-03-26T07:08:32.031Z"
   },
   {
    "duration": 63,
    "start_time": "2024-03-26T07:08:32.092Z"
   },
   {
    "duration": 60,
    "start_time": "2024-03-26T07:08:32.156Z"
   },
   {
    "duration": 39,
    "start_time": "2024-03-26T07:08:32.218Z"
   },
   {
    "duration": 44,
    "start_time": "2024-03-26T07:08:32.259Z"
   },
   {
    "duration": 96,
    "start_time": "2024-03-26T07:08:32.304Z"
   },
   {
    "duration": 484,
    "start_time": "2024-03-26T07:08:51.662Z"
   },
   {
    "duration": 21,
    "start_time": "2024-03-26T07:08:52.148Z"
   },
   {
    "duration": 33,
    "start_time": "2024-03-26T07:08:52.173Z"
   },
   {
    "duration": 21,
    "start_time": "2024-03-26T07:08:52.208Z"
   },
   {
    "duration": 41,
    "start_time": "2024-03-26T07:08:52.230Z"
   },
   {
    "duration": 13,
    "start_time": "2024-03-26T07:08:52.273Z"
   },
   {
    "duration": 71,
    "start_time": "2024-03-26T07:08:52.288Z"
   },
   {
    "duration": 33,
    "start_time": "2024-03-26T07:08:52.360Z"
   },
   {
    "duration": 35,
    "start_time": "2024-03-26T07:08:52.395Z"
   },
   {
    "duration": 13,
    "start_time": "2024-03-26T07:08:52.432Z"
   },
   {
    "duration": 53,
    "start_time": "2024-03-26T07:08:52.446Z"
   },
   {
    "duration": 10,
    "start_time": "2024-03-26T07:08:52.501Z"
   },
   {
    "duration": 9,
    "start_time": "2024-03-26T07:08:52.512Z"
   },
   {
    "duration": 42,
    "start_time": "2024-03-26T07:08:52.522Z"
   },
   {
    "duration": 31,
    "start_time": "2024-03-26T07:08:52.566Z"
   },
   {
    "duration": 17,
    "start_time": "2024-03-26T07:08:52.598Z"
   },
   {
    "duration": 3,
    "start_time": "2024-03-26T07:08:52.616Z"
   },
   {
    "duration": 31,
    "start_time": "2024-03-26T07:08:52.621Z"
   },
   {
    "duration": 16,
    "start_time": "2024-03-26T07:08:52.654Z"
   },
   {
    "duration": 9,
    "start_time": "2024-03-26T07:08:52.672Z"
   },
   {
    "duration": 52,
    "start_time": "2024-03-26T07:08:52.683Z"
   },
   {
    "duration": 83,
    "start_time": "2024-03-26T07:08:52.737Z"
   },
   {
    "duration": 19,
    "start_time": "2024-03-26T07:08:52.822Z"
   },
   {
    "duration": 34,
    "start_time": "2024-03-26T07:08:52.843Z"
   },
   {
    "duration": 19,
    "start_time": "2024-03-26T07:08:52.879Z"
   },
   {
    "duration": 459,
    "start_time": "2024-03-26T07:12:29.056Z"
   },
   {
    "duration": 23,
    "start_time": "2024-03-26T07:12:29.517Z"
   },
   {
    "duration": 57,
    "start_time": "2024-03-26T07:12:29.541Z"
   },
   {
    "duration": 40,
    "start_time": "2024-03-26T07:12:29.600Z"
   },
   {
    "duration": 89,
    "start_time": "2024-03-26T07:12:29.641Z"
   },
   {
    "duration": 26,
    "start_time": "2024-03-26T07:12:29.732Z"
   },
   {
    "duration": 23,
    "start_time": "2024-03-26T07:12:29.760Z"
   },
   {
    "duration": 31,
    "start_time": "2024-03-26T07:12:29.785Z"
   },
   {
    "duration": 32,
    "start_time": "2024-03-26T07:12:29.818Z"
   },
   {
    "duration": 16,
    "start_time": "2024-03-26T07:12:29.852Z"
   },
   {
    "duration": 87,
    "start_time": "2024-03-26T07:12:29.870Z"
   },
   {
    "duration": 10,
    "start_time": "2024-03-26T07:12:29.958Z"
   },
   {
    "duration": 16,
    "start_time": "2024-03-26T07:12:29.970Z"
   },
   {
    "duration": 16,
    "start_time": "2024-03-26T07:12:29.987Z"
   },
   {
    "duration": 57,
    "start_time": "2024-03-26T07:12:30.005Z"
   },
   {
    "duration": 64,
    "start_time": "2024-03-26T07:12:30.063Z"
   },
   {
    "duration": 56,
    "start_time": "2024-03-26T07:12:30.128Z"
   },
   {
    "duration": 141,
    "start_time": "2024-03-26T07:12:30.186Z"
   },
   {
    "duration": 134,
    "start_time": "2024-03-26T07:12:30.328Z"
   },
   {
    "duration": 67,
    "start_time": "2024-03-26T07:12:30.463Z"
   },
   {
    "duration": 116,
    "start_time": "2024-03-26T07:12:30.532Z"
   },
   {
    "duration": 142,
    "start_time": "2024-03-26T07:12:30.650Z"
   },
   {
    "duration": 0,
    "start_time": "2024-03-26T07:12:30.794Z"
   },
   {
    "duration": 0,
    "start_time": "2024-03-26T07:12:30.795Z"
   },
   {
    "duration": 0,
    "start_time": "2024-03-26T07:12:30.796Z"
   },
   {
    "duration": 457,
    "start_time": "2024-03-26T07:13:03.745Z"
   },
   {
    "duration": 22,
    "start_time": "2024-03-26T07:13:04.203Z"
   },
   {
    "duration": 26,
    "start_time": "2024-03-26T07:13:04.226Z"
   },
   {
    "duration": 22,
    "start_time": "2024-03-26T07:13:04.254Z"
   },
   {
    "duration": 47,
    "start_time": "2024-03-26T07:13:04.278Z"
   },
   {
    "duration": 3,
    "start_time": "2024-03-26T07:13:04.327Z"
   },
   {
    "duration": 57,
    "start_time": "2024-03-26T07:13:04.332Z"
   },
   {
    "duration": 4,
    "start_time": "2024-03-26T07:13:04.391Z"
   },
   {
    "duration": 15,
    "start_time": "2024-03-26T07:13:04.396Z"
   },
   {
    "duration": 5,
    "start_time": "2024-03-26T07:13:04.413Z"
   },
   {
    "duration": 39,
    "start_time": "2024-03-26T07:13:04.419Z"
   },
   {
    "duration": 11,
    "start_time": "2024-03-26T07:13:04.459Z"
   },
   {
    "duration": 23,
    "start_time": "2024-03-26T07:13:04.471Z"
   },
   {
    "duration": 34,
    "start_time": "2024-03-26T07:13:04.496Z"
   },
   {
    "duration": 31,
    "start_time": "2024-03-26T07:13:04.532Z"
   },
   {
    "duration": 40,
    "start_time": "2024-03-26T07:13:04.564Z"
   },
   {
    "duration": 4,
    "start_time": "2024-03-26T07:13:04.606Z"
   },
   {
    "duration": 53,
    "start_time": "2024-03-26T07:13:04.611Z"
   },
   {
    "duration": 13,
    "start_time": "2024-03-26T07:13:04.665Z"
   },
   {
    "duration": 3,
    "start_time": "2024-03-26T07:13:04.680Z"
   },
   {
    "duration": 12,
    "start_time": "2024-03-26T07:13:04.685Z"
   },
   {
    "duration": 97,
    "start_time": "2024-03-26T07:13:04.698Z"
   },
   {
    "duration": 0,
    "start_time": "2024-03-26T07:13:04.797Z"
   },
   {
    "duration": 0,
    "start_time": "2024-03-26T07:13:04.799Z"
   },
   {
    "duration": 0,
    "start_time": "2024-03-26T07:13:04.801Z"
   },
   {
    "duration": 476,
    "start_time": "2024-03-26T07:14:25.518Z"
   },
   {
    "duration": 28,
    "start_time": "2024-03-26T07:14:25.996Z"
   },
   {
    "duration": 46,
    "start_time": "2024-03-26T07:14:26.027Z"
   },
   {
    "duration": 52,
    "start_time": "2024-03-26T07:14:26.075Z"
   },
   {
    "duration": 94,
    "start_time": "2024-03-26T07:14:26.129Z"
   },
   {
    "duration": 20,
    "start_time": "2024-03-26T07:14:26.225Z"
   },
   {
    "duration": 44,
    "start_time": "2024-03-26T07:14:26.247Z"
   },
   {
    "duration": 46,
    "start_time": "2024-03-26T07:14:26.293Z"
   },
   {
    "duration": 49,
    "start_time": "2024-03-26T07:14:26.341Z"
   },
   {
    "duration": 42,
    "start_time": "2024-03-26T07:14:26.394Z"
   },
   {
    "duration": 89,
    "start_time": "2024-03-26T07:14:26.438Z"
   },
   {
    "duration": 28,
    "start_time": "2024-03-26T07:14:26.529Z"
   },
   {
    "duration": 36,
    "start_time": "2024-03-26T07:14:26.559Z"
   },
   {
    "duration": 58,
    "start_time": "2024-03-26T07:14:26.596Z"
   },
   {
    "duration": 53,
    "start_time": "2024-03-26T07:14:26.656Z"
   },
   {
    "duration": 35,
    "start_time": "2024-03-26T07:14:26.710Z"
   },
   {
    "duration": 23,
    "start_time": "2024-03-26T07:14:26.747Z"
   },
   {
    "duration": 43,
    "start_time": "2024-03-26T07:14:26.772Z"
   },
   {
    "duration": 57,
    "start_time": "2024-03-26T07:14:26.817Z"
   },
   {
    "duration": 30,
    "start_time": "2024-03-26T07:14:26.875Z"
   },
   {
    "duration": 38,
    "start_time": "2024-03-26T07:14:26.907Z"
   },
   {
    "duration": 59,
    "start_time": "2024-03-26T07:14:26.946Z"
   },
   {
    "duration": 20,
    "start_time": "2024-03-26T07:14:27.007Z"
   },
   {
    "duration": 36,
    "start_time": "2024-03-26T07:14:27.029Z"
   },
   {
    "duration": 42,
    "start_time": "2024-03-26T07:14:27.067Z"
   },
   {
    "duration": 517,
    "start_time": "2024-03-26T07:14:34.988Z"
   },
   {
    "duration": 22,
    "start_time": "2024-03-26T07:14:35.507Z"
   },
   {
    "duration": 39,
    "start_time": "2024-03-26T07:14:35.531Z"
   },
   {
    "duration": 30,
    "start_time": "2024-03-26T07:14:35.572Z"
   },
   {
    "duration": 49,
    "start_time": "2024-03-26T07:14:35.604Z"
   },
   {
    "duration": 3,
    "start_time": "2024-03-26T07:14:35.655Z"
   },
   {
    "duration": 51,
    "start_time": "2024-03-26T07:14:35.659Z"
   },
   {
    "duration": 75,
    "start_time": "2024-03-26T07:14:35.711Z"
   },
   {
    "duration": 27,
    "start_time": "2024-03-26T07:14:35.788Z"
   },
   {
    "duration": 146,
    "start_time": "2024-03-26T07:14:35.817Z"
   },
   {
    "duration": 138,
    "start_time": "2024-03-26T07:14:35.965Z"
   },
   {
    "duration": 173,
    "start_time": "2024-03-26T07:14:36.104Z"
   },
   {
    "duration": 36,
    "start_time": "2024-03-26T07:14:36.279Z"
   },
   {
    "duration": 61,
    "start_time": "2024-03-26T07:14:36.317Z"
   },
   {
    "duration": 44,
    "start_time": "2024-03-26T07:14:36.379Z"
   },
   {
    "duration": 17,
    "start_time": "2024-03-26T07:14:36.424Z"
   },
   {
    "duration": 4,
    "start_time": "2024-03-26T07:14:36.442Z"
   },
   {
    "duration": 18,
    "start_time": "2024-03-26T07:14:36.447Z"
   },
   {
    "duration": 13,
    "start_time": "2024-03-26T07:14:36.466Z"
   },
   {
    "duration": 16,
    "start_time": "2024-03-26T07:14:36.481Z"
   },
   {
    "duration": 28,
    "start_time": "2024-03-26T07:14:36.499Z"
   },
   {
    "duration": 21,
    "start_time": "2024-03-26T07:14:36.529Z"
   },
   {
    "duration": 4,
    "start_time": "2024-03-26T07:14:36.552Z"
   },
   {
    "duration": 9,
    "start_time": "2024-03-26T07:14:36.557Z"
   },
   {
    "duration": 21,
    "start_time": "2024-03-26T07:14:36.567Z"
   },
   {
    "duration": 496,
    "start_time": "2024-03-26T07:18:03.538Z"
   },
   {
    "duration": 22,
    "start_time": "2024-03-26T07:18:04.036Z"
   },
   {
    "duration": 15,
    "start_time": "2024-03-26T07:18:04.060Z"
   },
   {
    "duration": 21,
    "start_time": "2024-03-26T07:18:04.077Z"
   },
   {
    "duration": 38,
    "start_time": "2024-03-26T07:18:04.099Z"
   },
   {
    "duration": 4,
    "start_time": "2024-03-26T07:18:04.138Z"
   },
   {
    "duration": 13,
    "start_time": "2024-03-26T07:18:04.143Z"
   },
   {
    "duration": 11,
    "start_time": "2024-03-26T07:18:04.157Z"
   },
   {
    "duration": 17,
    "start_time": "2024-03-26T07:18:04.169Z"
   },
   {
    "duration": 14,
    "start_time": "2024-03-26T07:18:04.190Z"
   },
   {
    "duration": 54,
    "start_time": "2024-03-26T07:18:04.205Z"
   },
   {
    "duration": 10,
    "start_time": "2024-03-26T07:18:04.260Z"
   },
   {
    "duration": 9,
    "start_time": "2024-03-26T07:18:04.271Z"
   },
   {
    "duration": 19,
    "start_time": "2024-03-26T07:18:04.281Z"
   },
   {
    "duration": 47,
    "start_time": "2024-03-26T07:18:04.301Z"
   },
   {
    "duration": 168,
    "start_time": "2024-03-26T07:18:04.349Z"
   },
   {
    "duration": 24,
    "start_time": "2024-03-26T07:18:04.518Z"
   },
   {
    "duration": 23,
    "start_time": "2024-03-26T07:18:04.544Z"
   },
   {
    "duration": 7,
    "start_time": "2024-03-26T07:18:04.568Z"
   },
   {
    "duration": 30,
    "start_time": "2024-03-26T07:18:04.576Z"
   },
   {
    "duration": 13,
    "start_time": "2024-03-26T07:18:04.608Z"
   },
   {
    "duration": 90,
    "start_time": "2024-03-26T07:18:04.622Z"
   },
   {
    "duration": 0,
    "start_time": "2024-03-26T07:18:04.713Z"
   },
   {
    "duration": 0,
    "start_time": "2024-03-26T07:18:04.714Z"
   },
   {
    "duration": 0,
    "start_time": "2024-03-26T07:18:04.716Z"
   },
   {
    "duration": 524,
    "start_time": "2024-03-26T07:18:37.176Z"
   },
   {
    "duration": 22,
    "start_time": "2024-03-26T07:18:37.702Z"
   },
   {
    "duration": 38,
    "start_time": "2024-03-26T07:18:37.726Z"
   },
   {
    "duration": 49,
    "start_time": "2024-03-26T07:18:37.766Z"
   },
   {
    "duration": 38,
    "start_time": "2024-03-26T07:18:37.817Z"
   },
   {
    "duration": 3,
    "start_time": "2024-03-26T07:18:37.856Z"
   },
   {
    "duration": 22,
    "start_time": "2024-03-26T07:18:37.860Z"
   },
   {
    "duration": 9,
    "start_time": "2024-03-26T07:18:37.884Z"
   },
   {
    "duration": 29,
    "start_time": "2024-03-26T07:18:37.894Z"
   },
   {
    "duration": 4,
    "start_time": "2024-03-26T07:18:37.927Z"
   },
   {
    "duration": 62,
    "start_time": "2024-03-26T07:18:37.932Z"
   },
   {
    "duration": 12,
    "start_time": "2024-03-26T07:18:37.995Z"
   },
   {
    "duration": 16,
    "start_time": "2024-03-26T07:18:38.009Z"
   },
   {
    "duration": 26,
    "start_time": "2024-03-26T07:18:38.026Z"
   },
   {
    "duration": 45,
    "start_time": "2024-03-26T07:18:38.054Z"
   },
   {
    "duration": 17,
    "start_time": "2024-03-26T07:18:38.100Z"
   },
   {
    "duration": 21,
    "start_time": "2024-03-26T07:18:38.118Z"
   },
   {
    "duration": 24,
    "start_time": "2024-03-26T07:18:38.140Z"
   },
   {
    "duration": 13,
    "start_time": "2024-03-26T07:18:38.165Z"
   },
   {
    "duration": 20,
    "start_time": "2024-03-26T07:18:38.179Z"
   },
   {
    "duration": 30,
    "start_time": "2024-03-26T07:18:38.201Z"
   },
   {
    "duration": 102,
    "start_time": "2024-03-26T07:18:38.232Z"
   },
   {
    "duration": 0,
    "start_time": "2024-03-26T07:18:38.336Z"
   },
   {
    "duration": 0,
    "start_time": "2024-03-26T07:18:38.338Z"
   },
   {
    "duration": 0,
    "start_time": "2024-03-26T07:18:38.339Z"
   },
   {
    "duration": 474,
    "start_time": "2024-03-26T07:23:40.117Z"
   },
   {
    "duration": 24,
    "start_time": "2024-03-26T07:23:40.593Z"
   },
   {
    "duration": 18,
    "start_time": "2024-03-26T07:23:40.619Z"
   },
   {
    "duration": 18,
    "start_time": "2024-03-26T07:23:40.639Z"
   },
   {
    "duration": 73,
    "start_time": "2024-03-26T07:23:40.658Z"
   },
   {
    "duration": 4,
    "start_time": "2024-03-26T07:23:40.733Z"
   },
   {
    "duration": 35,
    "start_time": "2024-03-26T07:23:40.739Z"
   },
   {
    "duration": 11,
    "start_time": "2024-03-26T07:23:40.776Z"
   },
   {
    "duration": 14,
    "start_time": "2024-03-26T07:23:40.789Z"
   },
   {
    "duration": 8,
    "start_time": "2024-03-26T07:23:40.806Z"
   },
   {
    "duration": 45,
    "start_time": "2024-03-26T07:23:40.816Z"
   },
   {
    "duration": 31,
    "start_time": "2024-03-26T07:23:40.863Z"
   },
   {
    "duration": 4,
    "start_time": "2024-03-26T07:23:40.896Z"
   },
   {
    "duration": 21,
    "start_time": "2024-03-26T07:23:40.902Z"
   },
   {
    "duration": 28,
    "start_time": "2024-03-26T07:23:40.925Z"
   },
   {
    "duration": 18,
    "start_time": "2024-03-26T07:23:40.955Z"
   },
   {
    "duration": 4,
    "start_time": "2024-03-26T07:23:40.974Z"
   },
   {
    "duration": 12,
    "start_time": "2024-03-26T07:23:40.993Z"
   },
   {
    "duration": 12,
    "start_time": "2024-03-26T07:23:41.006Z"
   },
   {
    "duration": 4,
    "start_time": "2024-03-26T07:23:41.020Z"
   },
   {
    "duration": 17,
    "start_time": "2024-03-26T07:23:41.025Z"
   },
   {
    "duration": 27,
    "start_time": "2024-03-26T07:23:41.044Z"
   },
   {
    "duration": 6,
    "start_time": "2024-03-26T07:23:41.072Z"
   },
   {
    "duration": 6,
    "start_time": "2024-03-26T07:23:41.080Z"
   },
   {
    "duration": 7,
    "start_time": "2024-03-26T07:23:41.087Z"
   },
   {
    "duration": 519,
    "start_time": "2024-03-26T07:25:16.182Z"
   },
   {
    "duration": 23,
    "start_time": "2024-03-26T07:25:16.703Z"
   },
   {
    "duration": 17,
    "start_time": "2024-03-26T07:25:16.727Z"
   },
   {
    "duration": 18,
    "start_time": "2024-03-26T07:25:16.746Z"
   },
   {
    "duration": 65,
    "start_time": "2024-03-26T07:25:16.765Z"
   },
   {
    "duration": 3,
    "start_time": "2024-03-26T07:25:16.832Z"
   },
   {
    "duration": 38,
    "start_time": "2024-03-26T07:25:16.837Z"
   },
   {
    "duration": 5,
    "start_time": "2024-03-26T07:25:16.877Z"
   },
   {
    "duration": 11,
    "start_time": "2024-03-26T07:25:16.884Z"
   },
   {
    "duration": 6,
    "start_time": "2024-03-26T07:25:16.899Z"
   },
   {
    "duration": 46,
    "start_time": "2024-03-26T07:25:16.906Z"
   },
   {
    "duration": 10,
    "start_time": "2024-03-26T07:25:16.954Z"
   },
   {
    "duration": 5,
    "start_time": "2024-03-26T07:25:16.965Z"
   },
   {
    "duration": 24,
    "start_time": "2024-03-26T07:25:16.972Z"
   },
   {
    "duration": 26,
    "start_time": "2024-03-26T07:25:16.997Z"
   },
   {
    "duration": 23,
    "start_time": "2024-03-26T07:25:17.025Z"
   },
   {
    "duration": 4,
    "start_time": "2024-03-26T07:25:17.049Z"
   },
   {
    "duration": 30,
    "start_time": "2024-03-26T07:25:17.054Z"
   },
   {
    "duration": 47,
    "start_time": "2024-03-26T07:25:17.086Z"
   },
   {
    "duration": 16,
    "start_time": "2024-03-26T07:25:17.134Z"
   },
   {
    "duration": 19,
    "start_time": "2024-03-26T07:25:17.152Z"
   },
   {
    "duration": 15,
    "start_time": "2024-03-26T07:25:17.173Z"
   },
   {
    "duration": 12,
    "start_time": "2024-03-26T07:25:17.190Z"
   },
   {
    "duration": 7,
    "start_time": "2024-03-26T07:25:17.203Z"
   },
   {
    "duration": 13,
    "start_time": "2024-03-26T07:25:17.211Z"
   },
   {
    "duration": 670,
    "start_time": "2024-03-26T09:50:31.707Z"
   },
   {
    "duration": 22,
    "start_time": "2024-03-26T09:50:32.379Z"
   },
   {
    "duration": 16,
    "start_time": "2024-03-26T09:50:32.403Z"
   },
   {
    "duration": 15,
    "start_time": "2024-03-26T09:50:32.421Z"
   },
   {
    "duration": 35,
    "start_time": "2024-03-26T09:50:32.439Z"
   },
   {
    "duration": 3,
    "start_time": "2024-03-26T09:50:32.476Z"
   },
   {
    "duration": 20,
    "start_time": "2024-03-26T09:50:32.480Z"
   },
   {
    "duration": 18,
    "start_time": "2024-03-26T09:50:32.501Z"
   },
   {
    "duration": 14,
    "start_time": "2024-03-26T09:50:32.522Z"
   },
   {
    "duration": 6,
    "start_time": "2024-03-26T09:50:32.540Z"
   },
   {
    "duration": 42,
    "start_time": "2024-03-26T09:50:32.547Z"
   },
   {
    "duration": 32,
    "start_time": "2024-03-26T09:50:32.591Z"
   },
   {
    "duration": 13,
    "start_time": "2024-03-26T09:50:32.625Z"
   },
   {
    "duration": 28,
    "start_time": "2024-03-26T09:50:32.639Z"
   },
   {
    "duration": 64,
    "start_time": "2024-03-26T09:50:32.668Z"
   },
   {
    "duration": 21,
    "start_time": "2024-03-26T09:50:32.734Z"
   },
   {
    "duration": 3,
    "start_time": "2024-03-26T09:50:32.756Z"
   },
   {
    "duration": 29,
    "start_time": "2024-03-26T09:50:32.760Z"
   },
   {
    "duration": 7,
    "start_time": "2024-03-26T09:50:32.790Z"
   },
   {
    "duration": 6,
    "start_time": "2024-03-26T09:50:32.798Z"
   },
   {
    "duration": 29,
    "start_time": "2024-03-26T09:50:32.805Z"
   },
   {
    "duration": 16,
    "start_time": "2024-03-26T09:50:32.836Z"
   },
   {
    "duration": 2,
    "start_time": "2024-03-26T09:50:32.853Z"
   },
   {
    "duration": 8,
    "start_time": "2024-03-26T09:50:32.857Z"
   },
   {
    "duration": 6,
    "start_time": "2024-03-26T09:50:32.866Z"
   },
   {
    "duration": 483,
    "start_time": "2024-03-26T09:51:46.774Z"
   },
   {
    "duration": 25,
    "start_time": "2024-03-26T09:51:47.260Z"
   },
   {
    "duration": 15,
    "start_time": "2024-03-26T09:51:47.287Z"
   },
   {
    "duration": 41,
    "start_time": "2024-03-26T09:51:47.304Z"
   },
   {
    "duration": 37,
    "start_time": "2024-03-26T09:51:47.351Z"
   },
   {
    "duration": 10,
    "start_time": "2024-03-26T09:51:47.389Z"
   },
   {
    "duration": 35,
    "start_time": "2024-03-26T09:51:47.401Z"
   },
   {
    "duration": 7,
    "start_time": "2024-03-26T09:51:47.438Z"
   },
   {
    "duration": 45,
    "start_time": "2024-03-26T09:51:47.447Z"
   },
   {
    "duration": 9,
    "start_time": "2024-03-26T09:51:47.495Z"
   },
   {
    "duration": 70,
    "start_time": "2024-03-26T09:51:47.506Z"
   },
   {
    "duration": 39,
    "start_time": "2024-03-26T09:51:47.578Z"
   },
   {
    "duration": 5,
    "start_time": "2024-03-26T09:51:47.623Z"
   },
   {
    "duration": 38,
    "start_time": "2024-03-26T09:51:47.629Z"
   },
   {
    "duration": 22,
    "start_time": "2024-03-26T09:51:47.668Z"
   },
   {
    "duration": 17,
    "start_time": "2024-03-26T09:51:47.692Z"
   },
   {
    "duration": 3,
    "start_time": "2024-03-26T09:51:47.711Z"
   },
   {
    "duration": 29,
    "start_time": "2024-03-26T09:51:47.715Z"
   },
   {
    "duration": 5,
    "start_time": "2024-03-26T09:51:47.747Z"
   },
   {
    "duration": 8,
    "start_time": "2024-03-26T09:51:47.754Z"
   },
   {
    "duration": 9,
    "start_time": "2024-03-26T09:51:47.763Z"
   },
   {
    "duration": 14,
    "start_time": "2024-03-26T09:51:47.774Z"
   },
   {
    "duration": 30,
    "start_time": "2024-03-26T09:51:47.789Z"
   },
   {
    "duration": 3,
    "start_time": "2024-03-26T09:51:47.821Z"
   },
   {
    "duration": 6,
    "start_time": "2024-03-26T09:51:47.825Z"
   },
   {
    "duration": 516,
    "start_time": "2024-03-26T09:52:53.894Z"
   },
   {
    "duration": 31,
    "start_time": "2024-03-26T09:52:54.412Z"
   },
   {
    "duration": 24,
    "start_time": "2024-03-26T09:52:54.445Z"
   },
   {
    "duration": 10,
    "start_time": "2024-03-26T09:52:54.471Z"
   },
   {
    "duration": 73,
    "start_time": "2024-03-26T09:52:54.483Z"
   },
   {
    "duration": 4,
    "start_time": "2024-03-26T09:52:54.558Z"
   },
   {
    "duration": 28,
    "start_time": "2024-03-26T09:52:54.563Z"
   },
   {
    "duration": 13,
    "start_time": "2024-03-26T09:52:54.592Z"
   },
   {
    "duration": 14,
    "start_time": "2024-03-26T09:52:54.606Z"
   },
   {
    "duration": 18,
    "start_time": "2024-03-26T09:52:54.624Z"
   },
   {
    "duration": 55,
    "start_time": "2024-03-26T09:52:54.643Z"
   },
   {
    "duration": 15,
    "start_time": "2024-03-26T09:52:54.699Z"
   },
   {
    "duration": 14,
    "start_time": "2024-03-26T09:52:54.717Z"
   },
   {
    "duration": 27,
    "start_time": "2024-03-26T09:52:54.733Z"
   },
   {
    "duration": 40,
    "start_time": "2024-03-26T09:52:54.762Z"
   },
   {
    "duration": 29,
    "start_time": "2024-03-26T09:52:54.803Z"
   },
   {
    "duration": 38,
    "start_time": "2024-03-26T09:52:54.833Z"
   },
   {
    "duration": 41,
    "start_time": "2024-03-26T09:52:54.873Z"
   },
   {
    "duration": 66,
    "start_time": "2024-03-26T09:52:54.916Z"
   },
   {
    "duration": 4,
    "start_time": "2024-03-26T09:52:54.983Z"
   },
   {
    "duration": 9,
    "start_time": "2024-03-26T09:52:54.988Z"
   },
   {
    "duration": 15,
    "start_time": "2024-03-26T09:52:54.998Z"
   },
   {
    "duration": 93,
    "start_time": "2024-03-26T09:52:55.015Z"
   },
   {
    "duration": 0,
    "start_time": "2024-03-26T09:52:55.112Z"
   },
   {
    "duration": 0,
    "start_time": "2024-03-26T09:52:55.118Z"
   },
   {
    "duration": 498,
    "start_time": "2024-03-26T09:54:19.825Z"
   },
   {
    "duration": 29,
    "start_time": "2024-03-26T09:54:20.326Z"
   },
   {
    "duration": 15,
    "start_time": "2024-03-26T09:54:20.356Z"
   },
   {
    "duration": 10,
    "start_time": "2024-03-26T09:54:20.373Z"
   },
   {
    "duration": 66,
    "start_time": "2024-03-26T09:54:20.384Z"
   },
   {
    "duration": 3,
    "start_time": "2024-03-26T09:54:20.452Z"
   },
   {
    "duration": 9,
    "start_time": "2024-03-26T09:54:20.456Z"
   },
   {
    "duration": 4,
    "start_time": "2024-03-26T09:54:20.466Z"
   },
   {
    "duration": 12,
    "start_time": "2024-03-26T09:54:20.471Z"
   },
   {
    "duration": 3,
    "start_time": "2024-03-26T09:54:20.486Z"
   },
   {
    "duration": 68,
    "start_time": "2024-03-26T09:54:20.491Z"
   },
   {
    "duration": 9,
    "start_time": "2024-03-26T09:54:20.561Z"
   },
   {
    "duration": 14,
    "start_time": "2024-03-26T09:54:20.572Z"
   },
   {
    "duration": 12,
    "start_time": "2024-03-26T09:54:20.587Z"
   },
   {
    "duration": 25,
    "start_time": "2024-03-26T09:54:20.600Z"
   },
   {
    "duration": 24,
    "start_time": "2024-03-26T09:54:20.627Z"
   },
   {
    "duration": 3,
    "start_time": "2024-03-26T09:54:20.652Z"
   },
   {
    "duration": 13,
    "start_time": "2024-03-26T09:54:20.657Z"
   },
   {
    "duration": 17,
    "start_time": "2024-03-26T09:54:20.671Z"
   },
   {
    "duration": 16,
    "start_time": "2024-03-26T09:54:20.689Z"
   },
   {
    "duration": 27,
    "start_time": "2024-03-26T09:54:20.707Z"
   },
   {
    "duration": 18,
    "start_time": "2024-03-26T09:54:20.736Z"
   },
   {
    "duration": 98,
    "start_time": "2024-03-26T09:54:20.755Z"
   },
   {
    "duration": 0,
    "start_time": "2024-03-26T09:54:20.855Z"
   },
   {
    "duration": 0,
    "start_time": "2024-03-26T09:54:20.856Z"
   },
   {
    "duration": 499,
    "start_time": "2024-03-26T09:54:37.136Z"
   },
   {
    "duration": 23,
    "start_time": "2024-03-26T09:54:37.639Z"
   },
   {
    "duration": 15,
    "start_time": "2024-03-26T09:54:37.664Z"
   },
   {
    "duration": 10,
    "start_time": "2024-03-26T09:54:37.682Z"
   },
   {
    "duration": 65,
    "start_time": "2024-03-26T09:54:37.694Z"
   },
   {
    "duration": 3,
    "start_time": "2024-03-26T09:54:37.760Z"
   },
   {
    "duration": 12,
    "start_time": "2024-03-26T09:54:37.764Z"
   },
   {
    "duration": 4,
    "start_time": "2024-03-26T09:54:37.778Z"
   },
   {
    "duration": 7,
    "start_time": "2024-03-26T09:54:37.784Z"
   },
   {
    "duration": 7,
    "start_time": "2024-03-26T09:54:37.817Z"
   },
   {
    "duration": 53,
    "start_time": "2024-03-26T09:54:37.826Z"
   },
   {
    "duration": 10,
    "start_time": "2024-03-26T09:54:37.881Z"
   },
   {
    "duration": 26,
    "start_time": "2024-03-26T09:54:37.892Z"
   },
   {
    "duration": 24,
    "start_time": "2024-03-26T09:54:37.920Z"
   },
   {
    "duration": 19,
    "start_time": "2024-03-26T09:54:37.946Z"
   },
   {
    "duration": 16,
    "start_time": "2024-03-26T09:54:37.967Z"
   },
   {
    "duration": 4,
    "start_time": "2024-03-26T09:54:37.984Z"
   },
   {
    "duration": 42,
    "start_time": "2024-03-26T09:54:37.989Z"
   },
   {
    "duration": 9,
    "start_time": "2024-03-26T09:54:38.034Z"
   },
   {
    "duration": 4,
    "start_time": "2024-03-26T09:54:38.044Z"
   },
   {
    "duration": 12,
    "start_time": "2024-03-26T09:54:38.049Z"
   },
   {
    "duration": 16,
    "start_time": "2024-03-26T09:54:38.062Z"
   },
   {
    "duration": 116,
    "start_time": "2024-03-26T09:54:38.079Z"
   },
   {
    "duration": 0,
    "start_time": "2024-03-26T09:54:38.197Z"
   },
   {
    "duration": 0,
    "start_time": "2024-03-26T09:54:38.198Z"
   },
   {
    "duration": 525,
    "start_time": "2024-03-26T09:55:52.812Z"
   },
   {
    "duration": 32,
    "start_time": "2024-03-26T09:55:53.341Z"
   },
   {
    "duration": 15,
    "start_time": "2024-03-26T09:55:53.375Z"
   },
   {
    "duration": 27,
    "start_time": "2024-03-26T09:55:53.392Z"
   },
   {
    "duration": 45,
    "start_time": "2024-03-26T09:55:53.421Z"
   },
   {
    "duration": 4,
    "start_time": "2024-03-26T09:55:53.467Z"
   },
   {
    "duration": 29,
    "start_time": "2024-03-26T09:55:53.473Z"
   },
   {
    "duration": 10,
    "start_time": "2024-03-26T09:55:53.503Z"
   },
   {
    "duration": 10,
    "start_time": "2024-03-26T09:55:53.527Z"
   },
   {
    "duration": 6,
    "start_time": "2024-03-26T09:55:53.541Z"
   },
   {
    "duration": 43,
    "start_time": "2024-03-26T09:55:53.548Z"
   },
   {
    "duration": 10,
    "start_time": "2024-03-26T09:55:53.592Z"
   },
   {
    "duration": 5,
    "start_time": "2024-03-26T09:55:53.619Z"
   },
   {
    "duration": 28,
    "start_time": "2024-03-26T09:55:53.628Z"
   },
   {
    "duration": 35,
    "start_time": "2024-03-26T09:55:53.658Z"
   },
   {
    "duration": 26,
    "start_time": "2024-03-26T09:55:53.695Z"
   },
   {
    "duration": 4,
    "start_time": "2024-03-26T09:55:53.723Z"
   },
   {
    "duration": 21,
    "start_time": "2024-03-26T09:55:53.732Z"
   },
   {
    "duration": 6,
    "start_time": "2024-03-26T09:55:53.755Z"
   },
   {
    "duration": 17,
    "start_time": "2024-03-26T09:55:53.763Z"
   },
   {
    "duration": 10,
    "start_time": "2024-03-26T09:55:53.783Z"
   },
   {
    "duration": 25,
    "start_time": "2024-03-26T09:55:53.795Z"
   },
   {
    "duration": 106,
    "start_time": "2024-03-26T09:55:53.822Z"
   },
   {
    "duration": 0,
    "start_time": "2024-03-26T09:55:53.929Z"
   },
   {
    "duration": 0,
    "start_time": "2024-03-26T09:55:53.931Z"
   },
   {
    "duration": 508,
    "start_time": "2024-03-26T09:56:32.052Z"
   },
   {
    "duration": 23,
    "start_time": "2024-03-26T09:56:32.562Z"
   },
   {
    "duration": 17,
    "start_time": "2024-03-26T09:56:32.587Z"
   },
   {
    "duration": 21,
    "start_time": "2024-03-26T09:56:32.620Z"
   },
   {
    "duration": 39,
    "start_time": "2024-03-26T09:56:32.643Z"
   },
   {
    "duration": 4,
    "start_time": "2024-03-26T09:56:32.684Z"
   },
   {
    "duration": 34,
    "start_time": "2024-03-26T09:56:32.690Z"
   },
   {
    "duration": 14,
    "start_time": "2024-03-26T09:56:32.727Z"
   },
   {
    "duration": 9,
    "start_time": "2024-03-26T09:56:32.746Z"
   },
   {
    "duration": 5,
    "start_time": "2024-03-26T09:56:32.759Z"
   },
   {
    "duration": 69,
    "start_time": "2024-03-26T09:56:32.765Z"
   },
   {
    "duration": 18,
    "start_time": "2024-03-26T09:56:32.838Z"
   },
   {
    "duration": 9,
    "start_time": "2024-03-26T09:56:32.858Z"
   },
   {
    "duration": 15,
    "start_time": "2024-03-26T09:56:32.869Z"
   },
   {
    "duration": 65,
    "start_time": "2024-03-26T09:56:32.885Z"
   },
   {
    "duration": 26,
    "start_time": "2024-03-26T09:56:32.953Z"
   },
   {
    "duration": 4,
    "start_time": "2024-03-26T09:56:32.980Z"
   },
   {
    "duration": 11,
    "start_time": "2024-03-26T09:56:32.986Z"
   },
   {
    "duration": 11,
    "start_time": "2024-03-26T09:56:32.998Z"
   },
   {
    "duration": 12,
    "start_time": "2024-03-26T09:56:33.011Z"
   },
   {
    "duration": 17,
    "start_time": "2024-03-26T09:56:33.032Z"
   },
   {
    "duration": 17,
    "start_time": "2024-03-26T09:56:33.051Z"
   },
   {
    "duration": 17,
    "start_time": "2024-03-26T09:56:33.070Z"
   },
   {
    "duration": 3,
    "start_time": "2024-03-26T09:56:33.089Z"
   },
   {
    "duration": 25,
    "start_time": "2024-03-26T09:56:33.093Z"
   },
   {
    "duration": 476,
    "start_time": "2024-03-26T09:56:54.578Z"
   },
   {
    "duration": 20,
    "start_time": "2024-03-26T09:56:55.056Z"
   },
   {
    "duration": 34,
    "start_time": "2024-03-26T09:56:55.077Z"
   },
   {
    "duration": 35,
    "start_time": "2024-03-26T09:56:55.113Z"
   },
   {
    "duration": 60,
    "start_time": "2024-03-26T09:56:55.150Z"
   },
   {
    "duration": 4,
    "start_time": "2024-03-26T09:56:55.212Z"
   },
   {
    "duration": 41,
    "start_time": "2024-03-26T09:56:55.218Z"
   },
   {
    "duration": 18,
    "start_time": "2024-03-26T09:56:55.261Z"
   },
   {
    "duration": 41,
    "start_time": "2024-03-26T09:56:55.280Z"
   },
   {
    "duration": 14,
    "start_time": "2024-03-26T09:56:55.329Z"
   },
   {
    "duration": 93,
    "start_time": "2024-03-26T09:56:55.344Z"
   },
   {
    "duration": 19,
    "start_time": "2024-03-26T09:56:55.439Z"
   },
   {
    "duration": 50,
    "start_time": "2024-03-26T09:56:55.459Z"
   },
   {
    "duration": 44,
    "start_time": "2024-03-26T09:56:55.511Z"
   },
   {
    "duration": 47,
    "start_time": "2024-03-26T09:56:55.556Z"
   },
   {
    "duration": 47,
    "start_time": "2024-03-26T09:56:55.605Z"
   },
   {
    "duration": 8,
    "start_time": "2024-03-26T09:56:55.654Z"
   },
   {
    "duration": 16,
    "start_time": "2024-03-26T09:56:55.666Z"
   },
   {
    "duration": 51,
    "start_time": "2024-03-26T09:56:55.683Z"
   },
   {
    "duration": 15,
    "start_time": "2024-03-26T09:56:55.736Z"
   },
   {
    "duration": 65,
    "start_time": "2024-03-26T09:56:55.752Z"
   },
   {
    "duration": 45,
    "start_time": "2024-03-26T09:56:55.819Z"
   },
   {
    "duration": 107,
    "start_time": "2024-03-26T09:56:55.866Z"
   },
   {
    "duration": 0,
    "start_time": "2024-03-26T09:56:55.974Z"
   },
   {
    "duration": 0,
    "start_time": "2024-03-26T09:56:55.975Z"
   },
   {
    "duration": 456,
    "start_time": "2024-03-26T09:57:23.848Z"
   },
   {
    "duration": 22,
    "start_time": "2024-03-26T09:57:24.305Z"
   },
   {
    "duration": 17,
    "start_time": "2024-03-26T09:57:24.329Z"
   },
   {
    "duration": 10,
    "start_time": "2024-03-26T09:57:24.348Z"
   },
   {
    "duration": 36,
    "start_time": "2024-03-26T09:57:24.360Z"
   },
   {
    "duration": 23,
    "start_time": "2024-03-26T09:57:24.398Z"
   },
   {
    "duration": 11,
    "start_time": "2024-03-26T09:57:24.423Z"
   },
   {
    "duration": 4,
    "start_time": "2024-03-26T09:57:24.436Z"
   },
   {
    "duration": 9,
    "start_time": "2024-03-26T09:57:24.442Z"
   },
   {
    "duration": 6,
    "start_time": "2024-03-26T09:57:24.454Z"
   },
   {
    "duration": 70,
    "start_time": "2024-03-26T09:57:24.461Z"
   },
   {
    "duration": 14,
    "start_time": "2024-03-26T09:57:24.533Z"
   },
   {
    "duration": 7,
    "start_time": "2024-03-26T09:57:24.549Z"
   },
   {
    "duration": 24,
    "start_time": "2024-03-26T09:57:24.558Z"
   },
   {
    "duration": 25,
    "start_time": "2024-03-26T09:57:24.583Z"
   },
   {
    "duration": 26,
    "start_time": "2024-03-26T09:57:24.609Z"
   },
   {
    "duration": 6,
    "start_time": "2024-03-26T09:57:24.636Z"
   },
   {
    "duration": 14,
    "start_time": "2024-03-26T09:57:24.644Z"
   },
   {
    "duration": 5,
    "start_time": "2024-03-26T09:57:24.659Z"
   },
   {
    "duration": 20,
    "start_time": "2024-03-26T09:57:24.665Z"
   },
   {
    "duration": 23,
    "start_time": "2024-03-26T09:57:24.686Z"
   },
   {
    "duration": 22,
    "start_time": "2024-03-26T09:57:24.710Z"
   },
   {
    "duration": 87,
    "start_time": "2024-03-26T09:57:24.735Z"
   },
   {
    "duration": 0,
    "start_time": "2024-03-26T09:57:24.824Z"
   },
   {
    "duration": 0,
    "start_time": "2024-03-26T09:57:24.826Z"
   },
   {
    "duration": 558,
    "start_time": "2024-03-26T09:58:18.993Z"
   },
   {
    "duration": 20,
    "start_time": "2024-03-26T09:58:19.553Z"
   },
   {
    "duration": 14,
    "start_time": "2024-03-26T09:58:19.575Z"
   },
   {
    "duration": 28,
    "start_time": "2024-03-26T09:58:19.591Z"
   },
   {
    "duration": 46,
    "start_time": "2024-03-26T09:58:19.621Z"
   },
   {
    "duration": 3,
    "start_time": "2024-03-26T09:58:19.668Z"
   },
   {
    "duration": 21,
    "start_time": "2024-03-26T09:58:19.673Z"
   },
   {
    "duration": 4,
    "start_time": "2024-03-26T09:58:19.696Z"
   },
   {
    "duration": 27,
    "start_time": "2024-03-26T09:58:19.702Z"
   },
   {
    "duration": 7,
    "start_time": "2024-03-26T09:58:19.734Z"
   },
   {
    "duration": 39,
    "start_time": "2024-03-26T09:58:19.743Z"
   },
   {
    "duration": 35,
    "start_time": "2024-03-26T09:58:19.783Z"
   },
   {
    "duration": 6,
    "start_time": "2024-03-26T09:58:19.821Z"
   },
   {
    "duration": 19,
    "start_time": "2024-03-26T09:58:19.829Z"
   },
   {
    "duration": 25,
    "start_time": "2024-03-26T09:58:19.849Z"
   },
   {
    "duration": 48,
    "start_time": "2024-03-26T09:58:19.875Z"
   },
   {
    "duration": 6,
    "start_time": "2024-03-26T09:58:19.926Z"
   },
   {
    "duration": 17,
    "start_time": "2024-03-26T09:58:19.936Z"
   },
   {
    "duration": 6,
    "start_time": "2024-03-26T09:58:19.954Z"
   },
   {
    "duration": 5,
    "start_time": "2024-03-26T09:58:19.962Z"
   },
   {
    "duration": 10,
    "start_time": "2024-03-26T09:58:19.968Z"
   },
   {
    "duration": 39,
    "start_time": "2024-03-26T09:58:19.979Z"
   },
   {
    "duration": 28,
    "start_time": "2024-03-26T09:58:20.021Z"
   },
   {
    "duration": 2,
    "start_time": "2024-03-26T09:58:20.051Z"
   },
   {
    "duration": 19,
    "start_time": "2024-03-26T09:58:20.055Z"
   },
   {
    "duration": 438,
    "start_time": "2024-03-26T10:04:57.973Z"
   },
   {
    "duration": 31,
    "start_time": "2024-03-26T10:04:58.413Z"
   },
   {
    "duration": 14,
    "start_time": "2024-03-26T10:04:58.446Z"
   },
   {
    "duration": 10,
    "start_time": "2024-03-26T10:04:58.462Z"
   },
   {
    "duration": 65,
    "start_time": "2024-03-26T10:04:58.474Z"
   },
   {
    "duration": 4,
    "start_time": "2024-03-26T10:04:58.541Z"
   },
   {
    "duration": 11,
    "start_time": "2024-03-26T10:04:58.547Z"
   },
   {
    "duration": 5,
    "start_time": "2024-03-26T10:04:58.559Z"
   },
   {
    "duration": 10,
    "start_time": "2024-03-26T10:04:58.565Z"
   },
   {
    "duration": 5,
    "start_time": "2024-03-26T10:04:58.578Z"
   },
   {
    "duration": 62,
    "start_time": "2024-03-26T10:04:58.584Z"
   },
   {
    "duration": 9,
    "start_time": "2024-03-26T10:04:58.648Z"
   },
   {
    "duration": 3,
    "start_time": "2024-03-26T10:04:58.659Z"
   },
   {
    "duration": 13,
    "start_time": "2024-03-26T10:04:58.663Z"
   },
   {
    "duration": 18,
    "start_time": "2024-03-26T10:04:58.677Z"
   },
   {
    "duration": 47,
    "start_time": "2024-03-26T10:04:58.696Z"
   },
   {
    "duration": 4,
    "start_time": "2024-03-26T10:04:58.745Z"
   },
   {
    "duration": 14,
    "start_time": "2024-03-26T10:04:58.750Z"
   },
   {
    "duration": 7,
    "start_time": "2024-03-26T10:04:58.765Z"
   },
   {
    "duration": 9,
    "start_time": "2024-03-26T10:04:58.773Z"
   },
   {
    "duration": 14,
    "start_time": "2024-03-26T10:04:58.784Z"
   },
   {
    "duration": 31,
    "start_time": "2024-03-26T10:04:58.800Z"
   },
   {
    "duration": 18,
    "start_time": "2024-03-26T10:04:58.833Z"
   },
   {
    "duration": 93,
    "start_time": "2024-03-26T10:04:58.852Z"
   },
   {
    "duration": 0,
    "start_time": "2024-03-26T10:04:58.948Z"
   },
   {
    "duration": 432,
    "start_time": "2024-03-26T10:05:16.259Z"
   },
   {
    "duration": 22,
    "start_time": "2024-03-26T10:05:16.692Z"
   },
   {
    "duration": 27,
    "start_time": "2024-03-26T10:05:16.715Z"
   },
   {
    "duration": 9,
    "start_time": "2024-03-26T10:05:16.744Z"
   },
   {
    "duration": 34,
    "start_time": "2024-03-26T10:05:16.755Z"
   },
   {
    "duration": 3,
    "start_time": "2024-03-26T10:05:16.790Z"
   },
   {
    "duration": 13,
    "start_time": "2024-03-26T10:05:16.819Z"
   },
   {
    "duration": 8,
    "start_time": "2024-03-26T10:05:16.834Z"
   },
   {
    "duration": 8,
    "start_time": "2024-03-26T10:05:16.844Z"
   },
   {
    "duration": 4,
    "start_time": "2024-03-26T10:05:16.854Z"
   },
   {
    "duration": 41,
    "start_time": "2024-03-26T10:05:16.859Z"
   },
   {
    "duration": 11,
    "start_time": "2024-03-26T10:05:16.917Z"
   },
   {
    "duration": 9,
    "start_time": "2024-03-26T10:05:16.929Z"
   },
   {
    "duration": 11,
    "start_time": "2024-03-26T10:05:16.941Z"
   },
   {
    "duration": 23,
    "start_time": "2024-03-26T10:05:16.953Z"
   },
   {
    "duration": 16,
    "start_time": "2024-03-26T10:05:16.977Z"
   },
   {
    "duration": 4,
    "start_time": "2024-03-26T10:05:17.018Z"
   },
   {
    "duration": 11,
    "start_time": "2024-03-26T10:05:17.024Z"
   },
   {
    "duration": 8,
    "start_time": "2024-03-26T10:05:17.038Z"
   },
   {
    "duration": 3,
    "start_time": "2024-03-26T10:05:17.048Z"
   },
   {
    "duration": 11,
    "start_time": "2024-03-26T10:05:17.052Z"
   },
   {
    "duration": 14,
    "start_time": "2024-03-26T10:05:17.065Z"
   },
   {
    "duration": 55,
    "start_time": "2024-03-26T10:05:17.080Z"
   },
   {
    "duration": 66,
    "start_time": "2024-03-26T10:05:17.138Z"
   },
   {
    "duration": 0,
    "start_time": "2024-03-26T10:05:17.222Z"
   },
   {
    "duration": 526,
    "start_time": "2024-03-26T10:06:14.831Z"
   },
   {
    "duration": 33,
    "start_time": "2024-03-26T10:06:15.359Z"
   },
   {
    "duration": 39,
    "start_time": "2024-03-26T10:06:15.394Z"
   },
   {
    "duration": 19,
    "start_time": "2024-03-26T10:06:15.437Z"
   },
   {
    "duration": 93,
    "start_time": "2024-03-26T10:06:15.458Z"
   },
   {
    "duration": 7,
    "start_time": "2024-03-26T10:06:15.553Z"
   },
   {
    "duration": 87,
    "start_time": "2024-03-26T10:06:15.561Z"
   },
   {
    "duration": 34,
    "start_time": "2024-03-26T10:06:15.649Z"
   },
   {
    "duration": 83,
    "start_time": "2024-03-26T10:06:15.684Z"
   },
   {
    "duration": 17,
    "start_time": "2024-03-26T10:06:15.771Z"
   },
   {
    "duration": 92,
    "start_time": "2024-03-26T10:06:15.790Z"
   },
   {
    "duration": 10,
    "start_time": "2024-03-26T10:06:15.884Z"
   },
   {
    "duration": 14,
    "start_time": "2024-03-26T10:06:15.896Z"
   },
   {
    "duration": 29,
    "start_time": "2024-03-26T10:06:15.912Z"
   },
   {
    "duration": 35,
    "start_time": "2024-03-26T10:06:15.943Z"
   },
   {
    "duration": 20,
    "start_time": "2024-03-26T10:06:15.980Z"
   },
   {
    "duration": 3,
    "start_time": "2024-03-26T10:06:16.001Z"
   },
   {
    "duration": 38,
    "start_time": "2024-03-26T10:06:16.006Z"
   },
   {
    "duration": 13,
    "start_time": "2024-03-26T10:06:16.046Z"
   },
   {
    "duration": 21,
    "start_time": "2024-03-26T10:06:16.060Z"
   },
   {
    "duration": 26,
    "start_time": "2024-03-26T10:06:16.083Z"
   },
   {
    "duration": 38,
    "start_time": "2024-03-26T10:06:16.110Z"
   },
   {
    "duration": 14,
    "start_time": "2024-03-26T10:06:16.150Z"
   },
   {
    "duration": 14,
    "start_time": "2024-03-26T10:06:16.165Z"
   },
   {
    "duration": 8,
    "start_time": "2024-03-26T10:06:16.180Z"
   },
   {
    "duration": 513,
    "start_time": "2024-03-26T10:06:35.522Z"
   },
   {
    "duration": 24,
    "start_time": "2024-03-26T10:06:36.037Z"
   },
   {
    "duration": 26,
    "start_time": "2024-03-26T10:06:36.062Z"
   },
   {
    "duration": 24,
    "start_time": "2024-03-26T10:06:36.091Z"
   },
   {
    "duration": 62,
    "start_time": "2024-03-26T10:06:36.117Z"
   },
   {
    "duration": 4,
    "start_time": "2024-03-26T10:06:36.180Z"
   },
   {
    "duration": 12,
    "start_time": "2024-03-26T10:06:36.186Z"
   },
   {
    "duration": 4,
    "start_time": "2024-03-26T10:06:36.199Z"
   },
   {
    "duration": 14,
    "start_time": "2024-03-26T10:06:36.204Z"
   },
   {
    "duration": 7,
    "start_time": "2024-03-26T10:06:36.220Z"
   },
   {
    "duration": 49,
    "start_time": "2024-03-26T10:06:36.229Z"
   },
   {
    "duration": 10,
    "start_time": "2024-03-26T10:06:36.280Z"
   },
   {
    "duration": 4,
    "start_time": "2024-03-26T10:06:36.292Z"
   },
   {
    "duration": 28,
    "start_time": "2024-03-26T10:06:36.297Z"
   },
   {
    "duration": 21,
    "start_time": "2024-03-26T10:06:36.326Z"
   },
   {
    "duration": 18,
    "start_time": "2024-03-26T10:06:36.348Z"
   },
   {
    "duration": 3,
    "start_time": "2024-03-26T10:06:36.367Z"
   },
   {
    "duration": 26,
    "start_time": "2024-03-26T10:06:36.372Z"
   },
   {
    "duration": 20,
    "start_time": "2024-03-26T10:06:36.400Z"
   },
   {
    "duration": 6,
    "start_time": "2024-03-26T10:06:36.422Z"
   },
   {
    "duration": 15,
    "start_time": "2024-03-26T10:06:36.431Z"
   },
   {
    "duration": 14,
    "start_time": "2024-03-26T10:06:36.448Z"
   },
   {
    "duration": 20,
    "start_time": "2024-03-26T10:06:36.463Z"
   },
   {
    "duration": 46,
    "start_time": "2024-03-26T10:06:36.484Z"
   },
   {
    "duration": 4,
    "start_time": "2024-03-26T10:06:36.533Z"
   },
   {
    "duration": 604,
    "start_time": "2024-03-26T11:52:27.708Z"
   },
   {
    "duration": 21,
    "start_time": "2024-03-26T11:52:28.313Z"
   },
   {
    "duration": 21,
    "start_time": "2024-03-26T11:52:28.335Z"
   },
   {
    "duration": 11,
    "start_time": "2024-03-26T11:52:28.357Z"
   },
   {
    "duration": 49,
    "start_time": "2024-03-26T11:52:28.369Z"
   },
   {
    "duration": 3,
    "start_time": "2024-03-26T11:52:28.420Z"
   },
   {
    "duration": 12,
    "start_time": "2024-03-26T11:52:28.424Z"
   },
   {
    "duration": 4,
    "start_time": "2024-03-26T11:52:28.437Z"
   },
   {
    "duration": 11,
    "start_time": "2024-03-26T11:52:28.442Z"
   },
   {
    "duration": 5,
    "start_time": "2024-03-26T11:52:28.455Z"
   },
   {
    "duration": 37,
    "start_time": "2024-03-26T11:52:28.461Z"
   },
   {
    "duration": 10,
    "start_time": "2024-03-26T11:52:28.519Z"
   },
   {
    "duration": 4,
    "start_time": "2024-03-26T11:52:28.531Z"
   },
   {
    "duration": 13,
    "start_time": "2024-03-26T11:52:28.536Z"
   },
   {
    "duration": 22,
    "start_time": "2024-03-26T11:52:28.550Z"
   },
   {
    "duration": 17,
    "start_time": "2024-03-26T11:52:28.573Z"
   },
   {
    "duration": 3,
    "start_time": "2024-03-26T11:52:28.617Z"
   },
   {
    "duration": 16,
    "start_time": "2024-03-26T11:52:28.622Z"
   },
   {
    "duration": 6,
    "start_time": "2024-03-26T11:52:28.640Z"
   },
   {
    "duration": 3,
    "start_time": "2024-03-26T11:52:28.648Z"
   },
   {
    "duration": 13,
    "start_time": "2024-03-26T11:52:28.653Z"
   },
   {
    "duration": 16,
    "start_time": "2024-03-26T11:52:28.667Z"
   },
   {
    "duration": 43,
    "start_time": "2024-03-26T11:52:28.685Z"
   },
   {
    "duration": 13,
    "start_time": "2024-03-26T11:52:28.730Z"
   },
   {
    "duration": 85,
    "start_time": "2024-03-26T11:52:28.745Z"
   },
   {
    "duration": 496,
    "start_time": "2024-03-26T11:52:40.739Z"
   },
   {
    "duration": 21,
    "start_time": "2024-03-26T11:52:41.236Z"
   },
   {
    "duration": 15,
    "start_time": "2024-03-26T11:52:41.258Z"
   },
   {
    "duration": 11,
    "start_time": "2024-03-26T11:52:41.275Z"
   },
   {
    "duration": 61,
    "start_time": "2024-03-26T11:52:41.287Z"
   },
   {
    "duration": 3,
    "start_time": "2024-03-26T11:52:41.350Z"
   },
   {
    "duration": 8,
    "start_time": "2024-03-26T11:52:41.354Z"
   },
   {
    "duration": 6,
    "start_time": "2024-03-26T11:52:41.363Z"
   },
   {
    "duration": 25,
    "start_time": "2024-03-26T11:52:41.370Z"
   },
   {
    "duration": 4,
    "start_time": "2024-03-26T11:52:41.397Z"
   },
   {
    "duration": 35,
    "start_time": "2024-03-26T11:52:41.417Z"
   },
   {
    "duration": 10,
    "start_time": "2024-03-26T11:52:41.453Z"
   },
   {
    "duration": 5,
    "start_time": "2024-03-26T11:52:41.464Z"
   },
   {
    "duration": 11,
    "start_time": "2024-03-26T11:52:41.471Z"
   },
   {
    "duration": 44,
    "start_time": "2024-03-26T11:52:41.483Z"
   },
   {
    "duration": 16,
    "start_time": "2024-03-26T11:52:41.529Z"
   },
   {
    "duration": 4,
    "start_time": "2024-03-26T11:52:41.546Z"
   },
   {
    "duration": 10,
    "start_time": "2024-03-26T11:52:41.551Z"
   },
   {
    "duration": 6,
    "start_time": "2024-03-26T11:52:41.563Z"
   },
   {
    "duration": 5,
    "start_time": "2024-03-26T11:52:41.571Z"
   },
   {
    "duration": 14,
    "start_time": "2024-03-26T11:52:41.577Z"
   },
   {
    "duration": 37,
    "start_time": "2024-03-26T11:52:41.593Z"
   },
   {
    "duration": 15,
    "start_time": "2024-03-26T11:52:41.632Z"
   },
   {
    "duration": 12,
    "start_time": "2024-03-26T11:52:41.649Z"
   },
   {
    "duration": 95,
    "start_time": "2024-03-26T11:52:41.663Z"
   },
   {
    "duration": 490,
    "start_time": "2024-03-26T11:53:33.091Z"
   },
   {
    "duration": 21,
    "start_time": "2024-03-26T11:53:33.582Z"
   },
   {
    "duration": 19,
    "start_time": "2024-03-26T11:53:33.605Z"
   },
   {
    "duration": 13,
    "start_time": "2024-03-26T11:53:33.627Z"
   },
   {
    "duration": 39,
    "start_time": "2024-03-26T11:53:33.642Z"
   },
   {
    "duration": 3,
    "start_time": "2024-03-26T11:53:33.683Z"
   },
   {
    "duration": 10,
    "start_time": "2024-03-26T11:53:33.687Z"
   },
   {
    "duration": 5,
    "start_time": "2024-03-26T11:53:33.717Z"
   },
   {
    "duration": 7,
    "start_time": "2024-03-26T11:53:33.723Z"
   },
   {
    "duration": 5,
    "start_time": "2024-03-26T11:53:33.732Z"
   },
   {
    "duration": 35,
    "start_time": "2024-03-26T11:53:33.738Z"
   },
   {
    "duration": 9,
    "start_time": "2024-03-26T11:53:33.775Z"
   },
   {
    "duration": 4,
    "start_time": "2024-03-26T11:53:33.819Z"
   },
   {
    "duration": 13,
    "start_time": "2024-03-26T11:53:33.824Z"
   },
   {
    "duration": 17,
    "start_time": "2024-03-26T11:53:33.839Z"
   },
   {
    "duration": 15,
    "start_time": "2024-03-26T11:53:33.858Z"
   },
   {
    "duration": 3,
    "start_time": "2024-03-26T11:53:33.874Z"
   },
   {
    "duration": 44,
    "start_time": "2024-03-26T11:53:33.879Z"
   },
   {
    "duration": 6,
    "start_time": "2024-03-26T11:53:33.925Z"
   },
   {
    "duration": 4,
    "start_time": "2024-03-26T11:53:33.932Z"
   },
   {
    "duration": 21,
    "start_time": "2024-03-26T11:53:33.937Z"
   },
   {
    "duration": 15,
    "start_time": "2024-03-26T11:53:33.959Z"
   },
   {
    "duration": 14,
    "start_time": "2024-03-26T11:53:33.975Z"
   },
   {
    "duration": 28,
    "start_time": "2024-03-26T11:53:33.990Z"
   },
   {
    "duration": 12,
    "start_time": "2024-03-26T11:53:34.020Z"
   },
   {
    "duration": 672,
    "start_time": "2024-03-26T19:41:50.197Z"
   },
   {
    "duration": 23,
    "start_time": "2024-03-26T19:41:50.871Z"
   },
   {
    "duration": 15,
    "start_time": "2024-03-26T19:41:50.895Z"
   },
   {
    "duration": 10,
    "start_time": "2024-03-26T19:41:50.912Z"
   },
   {
    "duration": 57,
    "start_time": "2024-03-26T19:41:50.924Z"
   },
   {
    "duration": 3,
    "start_time": "2024-03-26T19:41:50.982Z"
   },
   {
    "duration": 12,
    "start_time": "2024-03-26T19:41:50.987Z"
   },
   {
    "duration": 7,
    "start_time": "2024-03-26T19:41:51.000Z"
   },
   {
    "duration": 24,
    "start_time": "2024-03-26T19:41:51.008Z"
   },
   {
    "duration": 4,
    "start_time": "2024-03-26T19:41:51.034Z"
   },
   {
    "duration": 48,
    "start_time": "2024-03-26T19:41:51.039Z"
   },
   {
    "duration": 10,
    "start_time": "2024-03-26T19:41:51.088Z"
   },
   {
    "duration": 21,
    "start_time": "2024-03-26T19:41:51.099Z"
   },
   {
    "duration": 23,
    "start_time": "2024-03-26T19:41:51.123Z"
   },
   {
    "duration": 38,
    "start_time": "2024-03-26T19:41:51.147Z"
   },
   {
    "duration": 18,
    "start_time": "2024-03-26T19:41:51.187Z"
   },
   {
    "duration": 3,
    "start_time": "2024-03-26T19:41:51.207Z"
   },
   {
    "duration": 42,
    "start_time": "2024-03-26T19:41:51.212Z"
   },
   {
    "duration": 8,
    "start_time": "2024-03-26T19:41:51.259Z"
   },
   {
    "duration": 17,
    "start_time": "2024-03-26T19:41:51.269Z"
   },
   {
    "duration": 21,
    "start_time": "2024-03-26T19:41:51.288Z"
   },
   {
    "duration": 16,
    "start_time": "2024-03-26T19:41:51.311Z"
   },
   {
    "duration": 15,
    "start_time": "2024-03-26T19:41:51.329Z"
   },
   {
    "duration": 13,
    "start_time": "2024-03-26T19:41:51.345Z"
   },
   {
    "duration": 25,
    "start_time": "2024-03-26T19:41:51.360Z"
   },
   {
    "duration": 12,
    "start_time": "2024-03-26T19:42:39.401Z"
   },
   {
    "duration": 12,
    "start_time": "2024-03-26T19:42:48.652Z"
   },
   {
    "duration": 13,
    "start_time": "2024-03-26T19:42:55.263Z"
   },
   {
    "duration": 650,
    "start_time": "2024-03-27T11:39:39.086Z"
   },
   {
    "duration": 23,
    "start_time": "2024-03-27T11:39:39.737Z"
   },
   {
    "duration": 17,
    "start_time": "2024-03-27T11:39:39.762Z"
   },
   {
    "duration": 10,
    "start_time": "2024-03-27T11:39:39.781Z"
   },
   {
    "duration": 45,
    "start_time": "2024-03-27T11:39:39.792Z"
   },
   {
    "duration": 3,
    "start_time": "2024-03-27T11:39:39.838Z"
   },
   {
    "duration": 9,
    "start_time": "2024-03-27T11:39:39.843Z"
   },
   {
    "duration": 14,
    "start_time": "2024-03-27T11:39:39.854Z"
   },
   {
    "duration": 10,
    "start_time": "2024-03-27T11:39:39.869Z"
   },
   {
    "duration": 4,
    "start_time": "2024-03-27T11:39:39.881Z"
   },
   {
    "duration": 52,
    "start_time": "2024-03-27T11:39:39.886Z"
   },
   {
    "duration": 9,
    "start_time": "2024-03-27T11:39:39.940Z"
   },
   {
    "duration": 3,
    "start_time": "2024-03-27T11:39:39.951Z"
   },
   {
    "duration": 12,
    "start_time": "2024-03-27T11:39:39.955Z"
   },
   {
    "duration": 20,
    "start_time": "2024-03-27T11:39:39.969Z"
   },
   {
    "duration": 40,
    "start_time": "2024-03-27T11:39:39.990Z"
   },
   {
    "duration": 13,
    "start_time": "2024-03-27T11:39:40.031Z"
   },
   {
    "duration": 14,
    "start_time": "2024-03-27T11:39:40.045Z"
   },
   {
    "duration": 5,
    "start_time": "2024-03-27T11:39:40.060Z"
   },
   {
    "duration": 3,
    "start_time": "2024-03-27T11:39:40.067Z"
   },
   {
    "duration": 14,
    "start_time": "2024-03-27T11:39:40.071Z"
   },
   {
    "duration": 28,
    "start_time": "2024-03-27T11:39:40.087Z"
   },
   {
    "duration": 70,
    "start_time": "2024-03-27T11:39:40.117Z"
   },
   {
    "duration": 0,
    "start_time": "2024-03-27T11:39:40.188Z"
   },
   {
    "duration": 0,
    "start_time": "2024-03-27T11:39:40.189Z"
   },
   {
    "duration": 0,
    "start_time": "2024-03-27T11:39:40.190Z"
   },
   {
    "duration": 0,
    "start_time": "2024-03-27T11:39:40.191Z"
   },
   {
    "duration": 0,
    "start_time": "2024-03-27T11:39:40.192Z"
   },
   {
    "duration": 473,
    "start_time": "2024-03-27T11:39:55.845Z"
   },
   {
    "duration": 25,
    "start_time": "2024-03-27T11:39:56.320Z"
   },
   {
    "duration": 17,
    "start_time": "2024-03-27T11:39:56.347Z"
   },
   {
    "duration": 11,
    "start_time": "2024-03-27T11:39:56.367Z"
   },
   {
    "duration": 68,
    "start_time": "2024-03-27T11:39:56.380Z"
   },
   {
    "duration": 4,
    "start_time": "2024-03-27T11:39:56.450Z"
   },
   {
    "duration": 10,
    "start_time": "2024-03-27T11:39:56.456Z"
   },
   {
    "duration": 4,
    "start_time": "2024-03-27T11:39:56.468Z"
   },
   {
    "duration": 7,
    "start_time": "2024-03-27T11:39:56.474Z"
   },
   {
    "duration": 32,
    "start_time": "2024-03-27T11:39:56.483Z"
   },
   {
    "duration": 38,
    "start_time": "2024-03-27T11:39:56.516Z"
   },
   {
    "duration": 11,
    "start_time": "2024-03-27T11:39:56.556Z"
   },
   {
    "duration": 8,
    "start_time": "2024-03-27T11:39:56.568Z"
   },
   {
    "duration": 12,
    "start_time": "2024-03-27T11:39:56.578Z"
   },
   {
    "duration": 41,
    "start_time": "2024-03-27T11:39:56.592Z"
   },
   {
    "duration": 17,
    "start_time": "2024-03-27T11:39:56.635Z"
   },
   {
    "duration": 4,
    "start_time": "2024-03-27T11:39:56.653Z"
   },
   {
    "duration": 18,
    "start_time": "2024-03-27T11:39:56.659Z"
   },
   {
    "duration": 8,
    "start_time": "2024-03-27T11:39:56.679Z"
   },
   {
    "duration": 4,
    "start_time": "2024-03-27T11:39:56.688Z"
   },
   {
    "duration": 11,
    "start_time": "2024-03-27T11:39:56.715Z"
   },
   {
    "duration": 23,
    "start_time": "2024-03-27T11:39:56.728Z"
   },
   {
    "duration": 10,
    "start_time": "2024-03-27T11:39:56.752Z"
   },
   {
    "duration": 11,
    "start_time": "2024-03-27T11:39:56.764Z"
   },
   {
    "duration": 40,
    "start_time": "2024-03-27T11:39:56.776Z"
   },
   {
    "duration": 29,
    "start_time": "2024-03-27T11:39:56.818Z"
   },
   {
    "duration": 13,
    "start_time": "2024-03-27T11:39:56.849Z"
   },
   {
    "duration": 15,
    "start_time": "2024-03-27T11:39:56.866Z"
   },
   {
    "duration": 471,
    "start_time": "2024-03-27T11:53:31.869Z"
   },
   {
    "duration": 22,
    "start_time": "2024-03-27T11:53:32.342Z"
   },
   {
    "duration": 24,
    "start_time": "2024-03-27T11:53:32.366Z"
   },
   {
    "duration": 46,
    "start_time": "2024-03-27T11:53:32.392Z"
   },
   {
    "duration": 77,
    "start_time": "2024-03-27T11:53:32.439Z"
   },
   {
    "duration": 4,
    "start_time": "2024-03-27T11:53:32.518Z"
   },
   {
    "duration": 128,
    "start_time": "2024-03-27T11:53:32.524Z"
   },
   {
    "duration": 9,
    "start_time": "2024-03-27T11:53:32.654Z"
   },
   {
    "duration": 13,
    "start_time": "2024-03-27T11:53:32.665Z"
   },
   {
    "duration": 22,
    "start_time": "2024-03-27T11:53:32.683Z"
   },
   {
    "duration": 47,
    "start_time": "2024-03-27T11:53:32.707Z"
   },
   {
    "duration": 12,
    "start_time": "2024-03-27T11:53:32.756Z"
   },
   {
    "duration": 12,
    "start_time": "2024-03-27T11:53:32.770Z"
   },
   {
    "duration": 15,
    "start_time": "2024-03-27T11:53:32.783Z"
   },
   {
    "duration": 27,
    "start_time": "2024-03-27T11:53:32.800Z"
   },
   {
    "duration": 19,
    "start_time": "2024-03-27T11:53:32.829Z"
   },
   {
    "duration": 4,
    "start_time": "2024-03-27T11:53:32.850Z"
   },
   {
    "duration": 16,
    "start_time": "2024-03-27T11:53:32.856Z"
   },
   {
    "duration": 9,
    "start_time": "2024-03-27T11:53:32.873Z"
   },
   {
    "duration": 4,
    "start_time": "2024-03-27T11:53:32.914Z"
   },
   {
    "duration": 13,
    "start_time": "2024-03-27T11:53:32.920Z"
   },
   {
    "duration": 84,
    "start_time": "2024-03-27T11:53:32.935Z"
   },
   {
    "duration": 0,
    "start_time": "2024-03-27T11:53:33.021Z"
   },
   {
    "duration": 0,
    "start_time": "2024-03-27T11:53:33.022Z"
   },
   {
    "duration": 0,
    "start_time": "2024-03-27T11:53:33.023Z"
   },
   {
    "duration": 0,
    "start_time": "2024-03-27T11:53:33.025Z"
   },
   {
    "duration": 0,
    "start_time": "2024-03-27T11:53:33.026Z"
   },
   {
    "duration": 0,
    "start_time": "2024-03-27T11:53:33.027Z"
   },
   {
    "duration": 506,
    "start_time": "2024-03-27T11:54:00.998Z"
   },
   {
    "duration": 21,
    "start_time": "2024-03-27T11:54:01.506Z"
   },
   {
    "duration": 63,
    "start_time": "2024-03-27T11:54:01.529Z"
   },
   {
    "duration": 79,
    "start_time": "2024-03-27T11:54:01.594Z"
   },
   {
    "duration": 44,
    "start_time": "2024-03-27T11:54:01.674Z"
   },
   {
    "duration": 37,
    "start_time": "2024-03-27T11:54:01.720Z"
   },
   {
    "duration": 47,
    "start_time": "2024-03-27T11:54:01.759Z"
   },
   {
    "duration": 46,
    "start_time": "2024-03-27T11:54:01.807Z"
   },
   {
    "duration": 20,
    "start_time": "2024-03-27T11:54:01.855Z"
   },
   {
    "duration": 22,
    "start_time": "2024-03-27T11:54:01.878Z"
   },
   {
    "duration": 64,
    "start_time": "2024-03-27T11:54:01.901Z"
   },
   {
    "duration": 10,
    "start_time": "2024-03-27T11:54:01.967Z"
   },
   {
    "duration": 29,
    "start_time": "2024-03-27T11:54:01.978Z"
   },
   {
    "duration": 22,
    "start_time": "2024-03-27T11:54:02.008Z"
   },
   {
    "duration": 54,
    "start_time": "2024-03-27T11:54:02.032Z"
   },
   {
    "duration": 21,
    "start_time": "2024-03-27T11:54:02.088Z"
   },
   {
    "duration": 20,
    "start_time": "2024-03-27T11:54:02.111Z"
   },
   {
    "duration": 41,
    "start_time": "2024-03-27T11:54:02.132Z"
   },
   {
    "duration": 15,
    "start_time": "2024-03-27T11:54:02.174Z"
   },
   {
    "duration": 27,
    "start_time": "2024-03-27T11:54:02.191Z"
   },
   {
    "duration": 36,
    "start_time": "2024-03-27T11:54:02.219Z"
   },
   {
    "duration": 45,
    "start_time": "2024-03-27T11:54:02.257Z"
   },
   {
    "duration": 38,
    "start_time": "2024-03-27T11:54:02.303Z"
   },
   {
    "duration": 39,
    "start_time": "2024-03-27T11:54:02.343Z"
   },
   {
    "duration": 43,
    "start_time": "2024-03-27T11:54:02.384Z"
   },
   {
    "duration": 65,
    "start_time": "2024-03-27T11:54:02.430Z"
   },
   {
    "duration": 44,
    "start_time": "2024-03-27T11:54:02.497Z"
   },
   {
    "duration": 21,
    "start_time": "2024-03-27T11:54:02.545Z"
   }
  ],
  "colab": {
   "name": "dpp_template_part2.ipynb",
   "provenance": []
  },
  "kernelspec": {
   "display_name": "Python 3 (ipykernel)",
   "language": "python",
   "name": "python3"
  },
  "language_info": {
   "codemirror_mode": {
    "name": "ipython",
    "version": 3
   },
   "file_extension": ".py",
   "mimetype": "text/x-python",
   "name": "python",
   "nbconvert_exporter": "python",
   "pygments_lexer": "ipython3",
   "version": "3.11.7"
  },
  "toc": {
   "base_numbering": 1,
   "nav_menu": {},
   "number_sections": true,
   "sideBar": true,
   "skip_h1_title": true,
   "title_cell": "Table of Contents",
   "title_sidebar": "Contents",
   "toc_cell": false,
   "toc_position": {},
   "toc_section_display": true,
   "toc_window_display": true
  }
 },
 "nbformat": 4,
 "nbformat_minor": 5
}
